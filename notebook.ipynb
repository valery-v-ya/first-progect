{
 "cells": [
  {
   "attachments": {},
   "cell_type": "markdown",
   "metadata": {},
   "source": [
    "[Ссылка на репозиторий](https://github.com/valery-v-ya/first-progect)"
   ]
  },
  {
   "cell_type": "markdown",
   "metadata": {
    "toc": true
   },
   "source": [
    "<h1>Содержание<span class=\"tocSkip\"></span></h1>\n",
    "<div class=\"toc\"><ul class=\"toc-item\"><li><span><a href=\"#Подготовка-данных\" data-toc-modified-id=\"Подготовка-данных-1\"><span class=\"toc-item-num\">1&nbsp;&nbsp;</span>Подготовка данных</a></span></li><li><span><a href=\"#Исследование-задачи\" data-toc-modified-id=\"Исследование-задачи-2\"><span class=\"toc-item-num\">2&nbsp;&nbsp;</span>Исследование задачи</a></span></li><li><span><a href=\"#Борьба-с-дисбалансом\" data-toc-modified-id=\"Борьба-с-дисбалансом-3\"><span class=\"toc-item-num\">3&nbsp;&nbsp;</span>Борьба с дисбалансом</a></span></li></ul></div>"
   ]
  },
  {
   "cell_type": "markdown",
   "metadata": {},
   "source": [
    "# Отток клиентов"
   ]
  },
  {
   "cell_type": "markdown",
   "metadata": {},
   "source": [
    "Из «Бета-Банка» стали уходить клиенты. Каждый месяц. Немного, но заметно. Банковские маркетологи посчитали: сохранять текущих клиентов дешевле, чем привлекать новых.\n",
    "\n",
    "Нужно спрогнозировать, уйдёт клиент из банка в ближайшее время или нет. Вам предоставлены исторические данные о поведении клиентов и расторжении договоров с банком. \n",
    "\n",
    "Постройте модель с предельно большим значением *F1*-меры. Чтобы сдать проект успешно, нужно довести метрику до 0.59. Проверьте *F1*-меру на тестовой выборке самостоятельно.\n",
    "\n",
    "Дополнительно измеряйте *AUC-ROC*, сравнивайте её значение с *F1*-мерой.\n",
    "\n",
    "Источник данных: [https://www.kaggle.com/barelydedicated/bank-customer-churn-modeling](https://www.kaggle.com/barelydedicated/bank-customer-churn-modeling)"
   ]
  },
  {
   "cell_type": "markdown",
   "metadata": {},
   "source": [
    "Целью данного проекта является - прогнозирование того, уйдёт клиент из банка в ближайшее время или нет.\n",
    "Для достижения данной цели в ходе реализации проекта требуется:\n",
    "1. Подготовить данные. Рассмотреть их на наличение аномалий, пропущенных значений или дубликатов. \n",
    "2. Рассмотреть являются ли все столбцы информативными для обучения модели, если нет - удалить лишнии столбцы.\n",
    "3. Рассмотреть баланс классов.\n",
    "4. Определить target.Разделить данные на тренировочные, тестовые и валидационные.\n",
    "5. Рассмотреть различные значения класов, определить, какие преобразования к ним более корректно применить.Преобразовать данные с помощью One-Hot Encoding и standardScaler.\n",
    "6. Обучить несколько моделей на неуравновешенных данных. Подобрать гиперпараметры.\n",
    "7. Уравновесить классы с использованием апсемплинга и даунсемплинга.\n",
    "8. Обучить несколько моделей на уравновешенных данных, получить точность больше 0.59\n",
    "9. Измерить AUC-ROC и сравнить с F1-мерой."
   ]
  },
  {
   "cell_type": "code",
   "execution_count": 1,
   "metadata": {},
   "outputs": [
    {
     "name": "stdout",
     "output_type": "stream",
     "text": [
      "Collecting imblearn\n",
      "  Downloading imblearn-0.0-py2.py3-none-any.whl (1.9 kB)\n",
      "Collecting imbalanced-learn\n",
      "  Downloading imbalanced_learn-0.10.1-py3-none-any.whl (226 kB)\n",
      "\u001b[K     |████████████████████████████████| 226 kB 1.1 MB/s eta 0:00:01\n",
      "\u001b[?25hRequirement already satisfied: numpy>=1.17.3 in /opt/conda/lib/python3.9/site-packages (from imbalanced-learn->imblearn) (1.21.1)\n",
      "Collecting scikit-learn>=1.0.2\n",
      "  Downloading scikit_learn-1.2.0-cp39-cp39-manylinux_2_17_x86_64.manylinux2014_x86_64.whl (9.5 MB)\n",
      "\u001b[K     |████████████████████████████████| 9.5 MB 12.0 MB/s eta 0:00:01\n",
      "\u001b[?25hRequirement already satisfied: threadpoolctl>=2.0.0 in /opt/conda/lib/python3.9/site-packages (from imbalanced-learn->imblearn) (3.1.0)\n",
      "Collecting joblib>=1.1.1\n",
      "  Downloading joblib-1.2.0-py3-none-any.whl (297 kB)\n",
      "\u001b[K     |████████████████████████████████| 297 kB 81.1 MB/s eta 0:00:01\n",
      "\u001b[?25hRequirement already satisfied: scipy>=1.3.2 in /opt/conda/lib/python3.9/site-packages (from imbalanced-learn->imblearn) (1.9.1)\n",
      "Installing collected packages: joblib, scikit-learn, imbalanced-learn, imblearn\n",
      "  Attempting uninstall: joblib\n",
      "    Found existing installation: joblib 1.1.0\n",
      "    Uninstalling joblib-1.1.0:\n",
      "      Successfully uninstalled joblib-1.1.0\n",
      "  Attempting uninstall: scikit-learn\n",
      "    Found existing installation: scikit-learn 0.24.1\n",
      "    Uninstalling scikit-learn-0.24.1:\n",
      "      Successfully uninstalled scikit-learn-0.24.1\n",
      "Successfully installed imbalanced-learn-0.10.1 imblearn-0.0 joblib-1.2.0 scikit-learn-1.2.0\n"
     ]
    }
   ],
   "source": [
    "! pip install imblearn"
   ]
  },
  {
   "cell_type": "code",
   "execution_count": 2,
   "metadata": {},
   "outputs": [],
   "source": [
    "import warnings\n",
    "\n",
    "from tqdm.notebook import tqdm\n",
    "import pandas as pd\n",
    "import matplotlib.pyplot as plt\n",
    "from sklearn.model_selection import train_test_split\n",
    "from sklearn.preprocessing import StandardScaler, MinMaxScaler\n",
    "from sklearn.tree import DecisionTreeClassifier\n",
    "from sklearn.ensemble import RandomForestClassifier\n",
    "from sklearn.linear_model import LogisticRegression\n",
    "from sklearn.model_selection import GridSearchCV\n",
    "from sklearn.metrics import f1_score, roc_auc_score, roc_curve\n",
    "from sklearn.exceptions import ConvergenceWarning\n",
    "from sklearn.utils import shuffle\n",
    "from sklearn.preprocessing import OneHotEncoder\n",
    "from sklearn.ensemble import HistGradientBoostingClassifier\n",
    "from imblearn.over_sampling import SMOTE\n",
    "from imblearn.under_sampling import RandomUnderSampler"
   ]
  },
  {
   "cell_type": "markdown",
   "metadata": {},
   "source": [
    "## Подготовка данных"
   ]
  },
  {
   "cell_type": "code",
   "execution_count": 3,
   "metadata": {},
   "outputs": [],
   "source": [
    "data = pd.read_csv('/datasets/Churn.csv')"
   ]
  },
  {
   "cell_type": "code",
   "execution_count": 4,
   "metadata": {},
   "outputs": [
    {
     "data": {
      "text/html": [
       "<div>\n",
       "<style scoped>\n",
       "    .dataframe tbody tr th:only-of-type {\n",
       "        vertical-align: middle;\n",
       "    }\n",
       "\n",
       "    .dataframe tbody tr th {\n",
       "        vertical-align: top;\n",
       "    }\n",
       "\n",
       "    .dataframe thead th {\n",
       "        text-align: right;\n",
       "    }\n",
       "</style>\n",
       "<table border=\"1\" class=\"dataframe\">\n",
       "  <thead>\n",
       "    <tr style=\"text-align: right;\">\n",
       "      <th></th>\n",
       "      <th>RowNumber</th>\n",
       "      <th>CustomerId</th>\n",
       "      <th>Surname</th>\n",
       "      <th>CreditScore</th>\n",
       "      <th>Geography</th>\n",
       "      <th>Gender</th>\n",
       "      <th>Age</th>\n",
       "      <th>Tenure</th>\n",
       "      <th>Balance</th>\n",
       "      <th>NumOfProducts</th>\n",
       "      <th>HasCrCard</th>\n",
       "      <th>IsActiveMember</th>\n",
       "      <th>EstimatedSalary</th>\n",
       "      <th>Exited</th>\n",
       "    </tr>\n",
       "  </thead>\n",
       "  <tbody>\n",
       "    <tr>\n",
       "      <th>0</th>\n",
       "      <td>1</td>\n",
       "      <td>15634602</td>\n",
       "      <td>Hargrave</td>\n",
       "      <td>619</td>\n",
       "      <td>France</td>\n",
       "      <td>Female</td>\n",
       "      <td>42</td>\n",
       "      <td>2.0</td>\n",
       "      <td>0.00</td>\n",
       "      <td>1</td>\n",
       "      <td>1</td>\n",
       "      <td>1</td>\n",
       "      <td>101348.88</td>\n",
       "      <td>1</td>\n",
       "    </tr>\n",
       "    <tr>\n",
       "      <th>1</th>\n",
       "      <td>2</td>\n",
       "      <td>15647311</td>\n",
       "      <td>Hill</td>\n",
       "      <td>608</td>\n",
       "      <td>Spain</td>\n",
       "      <td>Female</td>\n",
       "      <td>41</td>\n",
       "      <td>1.0</td>\n",
       "      <td>83807.86</td>\n",
       "      <td>1</td>\n",
       "      <td>0</td>\n",
       "      <td>1</td>\n",
       "      <td>112542.58</td>\n",
       "      <td>0</td>\n",
       "    </tr>\n",
       "    <tr>\n",
       "      <th>2</th>\n",
       "      <td>3</td>\n",
       "      <td>15619304</td>\n",
       "      <td>Onio</td>\n",
       "      <td>502</td>\n",
       "      <td>France</td>\n",
       "      <td>Female</td>\n",
       "      <td>42</td>\n",
       "      <td>8.0</td>\n",
       "      <td>159660.80</td>\n",
       "      <td>3</td>\n",
       "      <td>1</td>\n",
       "      <td>0</td>\n",
       "      <td>113931.57</td>\n",
       "      <td>1</td>\n",
       "    </tr>\n",
       "    <tr>\n",
       "      <th>3</th>\n",
       "      <td>4</td>\n",
       "      <td>15701354</td>\n",
       "      <td>Boni</td>\n",
       "      <td>699</td>\n",
       "      <td>France</td>\n",
       "      <td>Female</td>\n",
       "      <td>39</td>\n",
       "      <td>1.0</td>\n",
       "      <td>0.00</td>\n",
       "      <td>2</td>\n",
       "      <td>0</td>\n",
       "      <td>0</td>\n",
       "      <td>93826.63</td>\n",
       "      <td>0</td>\n",
       "    </tr>\n",
       "    <tr>\n",
       "      <th>4</th>\n",
       "      <td>5</td>\n",
       "      <td>15737888</td>\n",
       "      <td>Mitchell</td>\n",
       "      <td>850</td>\n",
       "      <td>Spain</td>\n",
       "      <td>Female</td>\n",
       "      <td>43</td>\n",
       "      <td>2.0</td>\n",
       "      <td>125510.82</td>\n",
       "      <td>1</td>\n",
       "      <td>1</td>\n",
       "      <td>1</td>\n",
       "      <td>79084.10</td>\n",
       "      <td>0</td>\n",
       "    </tr>\n",
       "    <tr>\n",
       "      <th>5</th>\n",
       "      <td>6</td>\n",
       "      <td>15574012</td>\n",
       "      <td>Chu</td>\n",
       "      <td>645</td>\n",
       "      <td>Spain</td>\n",
       "      <td>Male</td>\n",
       "      <td>44</td>\n",
       "      <td>8.0</td>\n",
       "      <td>113755.78</td>\n",
       "      <td>2</td>\n",
       "      <td>1</td>\n",
       "      <td>0</td>\n",
       "      <td>149756.71</td>\n",
       "      <td>1</td>\n",
       "    </tr>\n",
       "    <tr>\n",
       "      <th>6</th>\n",
       "      <td>7</td>\n",
       "      <td>15592531</td>\n",
       "      <td>Bartlett</td>\n",
       "      <td>822</td>\n",
       "      <td>France</td>\n",
       "      <td>Male</td>\n",
       "      <td>50</td>\n",
       "      <td>7.0</td>\n",
       "      <td>0.00</td>\n",
       "      <td>2</td>\n",
       "      <td>1</td>\n",
       "      <td>1</td>\n",
       "      <td>10062.80</td>\n",
       "      <td>0</td>\n",
       "    </tr>\n",
       "    <tr>\n",
       "      <th>7</th>\n",
       "      <td>8</td>\n",
       "      <td>15656148</td>\n",
       "      <td>Obinna</td>\n",
       "      <td>376</td>\n",
       "      <td>Germany</td>\n",
       "      <td>Female</td>\n",
       "      <td>29</td>\n",
       "      <td>4.0</td>\n",
       "      <td>115046.74</td>\n",
       "      <td>4</td>\n",
       "      <td>1</td>\n",
       "      <td>0</td>\n",
       "      <td>119346.88</td>\n",
       "      <td>1</td>\n",
       "    </tr>\n",
       "    <tr>\n",
       "      <th>8</th>\n",
       "      <td>9</td>\n",
       "      <td>15792365</td>\n",
       "      <td>He</td>\n",
       "      <td>501</td>\n",
       "      <td>France</td>\n",
       "      <td>Male</td>\n",
       "      <td>44</td>\n",
       "      <td>4.0</td>\n",
       "      <td>142051.07</td>\n",
       "      <td>2</td>\n",
       "      <td>0</td>\n",
       "      <td>1</td>\n",
       "      <td>74940.50</td>\n",
       "      <td>0</td>\n",
       "    </tr>\n",
       "    <tr>\n",
       "      <th>9</th>\n",
       "      <td>10</td>\n",
       "      <td>15592389</td>\n",
       "      <td>H?</td>\n",
       "      <td>684</td>\n",
       "      <td>France</td>\n",
       "      <td>Male</td>\n",
       "      <td>27</td>\n",
       "      <td>2.0</td>\n",
       "      <td>134603.88</td>\n",
       "      <td>1</td>\n",
       "      <td>1</td>\n",
       "      <td>1</td>\n",
       "      <td>71725.73</td>\n",
       "      <td>0</td>\n",
       "    </tr>\n",
       "  </tbody>\n",
       "</table>\n",
       "</div>"
      ],
      "text/plain": [
       "   RowNumber  CustomerId   Surname  CreditScore Geography  Gender  Age  \\\n",
       "0          1    15634602  Hargrave          619    France  Female   42   \n",
       "1          2    15647311      Hill          608     Spain  Female   41   \n",
       "2          3    15619304      Onio          502    France  Female   42   \n",
       "3          4    15701354      Boni          699    France  Female   39   \n",
       "4          5    15737888  Mitchell          850     Spain  Female   43   \n",
       "5          6    15574012       Chu          645     Spain    Male   44   \n",
       "6          7    15592531  Bartlett          822    France    Male   50   \n",
       "7          8    15656148    Obinna          376   Germany  Female   29   \n",
       "8          9    15792365        He          501    France    Male   44   \n",
       "9         10    15592389        H?          684    France    Male   27   \n",
       "\n",
       "   Tenure    Balance  NumOfProducts  HasCrCard  IsActiveMember  \\\n",
       "0     2.0       0.00              1          1               1   \n",
       "1     1.0   83807.86              1          0               1   \n",
       "2     8.0  159660.80              3          1               0   \n",
       "3     1.0       0.00              2          0               0   \n",
       "4     2.0  125510.82              1          1               1   \n",
       "5     8.0  113755.78              2          1               0   \n",
       "6     7.0       0.00              2          1               1   \n",
       "7     4.0  115046.74              4          1               0   \n",
       "8     4.0  142051.07              2          0               1   \n",
       "9     2.0  134603.88              1          1               1   \n",
       "\n",
       "   EstimatedSalary  Exited  \n",
       "0        101348.88       1  \n",
       "1        112542.58       0  \n",
       "2        113931.57       1  \n",
       "3         93826.63       0  \n",
       "4         79084.10       0  \n",
       "5        149756.71       1  \n",
       "6         10062.80       0  \n",
       "7        119346.88       1  \n",
       "8         74940.50       0  \n",
       "9         71725.73       0  "
      ]
     },
     "execution_count": 4,
     "metadata": {},
     "output_type": "execute_result"
    }
   ],
   "source": [
    "data.head(10)"
   ]
  },
  {
   "cell_type": "code",
   "execution_count": 5,
   "metadata": {
    "scrolled": true
   },
   "outputs": [
    {
     "name": "stdout",
     "output_type": "stream",
     "text": [
      "<class 'pandas.core.frame.DataFrame'>\n",
      "RangeIndex: 10000 entries, 0 to 9999\n",
      "Data columns (total 14 columns):\n",
      " #   Column           Non-Null Count  Dtype  \n",
      "---  ------           --------------  -----  \n",
      " 0   RowNumber        10000 non-null  int64  \n",
      " 1   CustomerId       10000 non-null  int64  \n",
      " 2   Surname          10000 non-null  object \n",
      " 3   CreditScore      10000 non-null  int64  \n",
      " 4   Geography        10000 non-null  object \n",
      " 5   Gender           10000 non-null  object \n",
      " 6   Age              10000 non-null  int64  \n",
      " 7   Tenure           9091 non-null   float64\n",
      " 8   Balance          10000 non-null  float64\n",
      " 9   NumOfProducts    10000 non-null  int64  \n",
      " 10  HasCrCard        10000 non-null  int64  \n",
      " 11  IsActiveMember   10000 non-null  int64  \n",
      " 12  EstimatedSalary  10000 non-null  float64\n",
      " 13  Exited           10000 non-null  int64  \n",
      "dtypes: float64(3), int64(8), object(3)\n",
      "memory usage: 1.1+ MB\n"
     ]
    }
   ],
   "source": [
    "data.info()"
   ]
  },
  {
   "cell_type": "markdown",
   "metadata": {},
   "source": [
    "Тут мы видим, что есть около 10% пропущенных значений в столбце \"Tenure\", т.к данный столбик это значение того, сколько лет человек является клиентом банка, скорей всего пропущенное значение значит, что клиент меньше одного года яаляется клиентом банка, заполним пропущенные значения 0, т.к то, что клиент пользуется банком меньше года тоже информативная информация. Возможно это просто пропущенные значения, если бы это была реальная продуктовая задача, я бы уточнила этот момент у менеджера."
   ]
  },
  {
   "cell_type": "code",
   "execution_count": 6,
   "metadata": {},
   "outputs": [],
   "source": [
    "data['Tenure'] = data['Tenure'].fillna(0)"
   ]
  },
  {
   "cell_type": "code",
   "execution_count": 7,
   "metadata": {},
   "outputs": [
    {
     "name": "stdout",
     "output_type": "stream",
     "text": [
      "<class 'pandas.core.frame.DataFrame'>\n",
      "RangeIndex: 10000 entries, 0 to 9999\n",
      "Data columns (total 14 columns):\n",
      " #   Column           Non-Null Count  Dtype  \n",
      "---  ------           --------------  -----  \n",
      " 0   RowNumber        10000 non-null  int64  \n",
      " 1   CustomerId       10000 non-null  int64  \n",
      " 2   Surname          10000 non-null  object \n",
      " 3   CreditScore      10000 non-null  int64  \n",
      " 4   Geography        10000 non-null  object \n",
      " 5   Gender           10000 non-null  object \n",
      " 6   Age              10000 non-null  int64  \n",
      " 7   Tenure           10000 non-null  float64\n",
      " 8   Balance          10000 non-null  float64\n",
      " 9   NumOfProducts    10000 non-null  int64  \n",
      " 10  HasCrCard        10000 non-null  int64  \n",
      " 11  IsActiveMember   10000 non-null  int64  \n",
      " 12  EstimatedSalary  10000 non-null  float64\n",
      " 13  Exited           10000 non-null  int64  \n",
      "dtypes: float64(3), int64(8), object(3)\n",
      "memory usage: 1.1+ MB\n"
     ]
    }
   ],
   "source": [
    "data.info()"
   ]
  },
  {
   "cell_type": "markdown",
   "metadata": {},
   "source": [
    "Больше пропущенных значений нет"
   ]
  },
  {
   "cell_type": "code",
   "execution_count": 8,
   "metadata": {},
   "outputs": [
    {
     "data": {
      "text/plain": [
       "0"
      ]
     },
     "execution_count": 8,
     "metadata": {},
     "output_type": "execute_result"
    }
   ],
   "source": [
    "# Проверим наличие явных дубликатов в данных\n",
    "data.duplicated().sum()"
   ]
  },
  {
   "cell_type": "markdown",
   "metadata": {},
   "source": [
    "Явных дубликатов в данных нет"
   ]
  },
  {
   "cell_type": "markdown",
   "metadata": {},
   "source": [
    "Проверим некоторые стобцы на очевидные аномалии:\n",
    "1. Проверим уникальные значения в столбце \"Gender\"\n",
    "2. Выведим минимальное и максимальное значения возрастов\n",
    "3. Проверим, что возраст человека всегда больше, чем на 6 лет больше, чем количество лет, которое он пользуется картой\n",
    "4. Хотелось бы еще проверить аномалии в стобце с кредитным рейтингом, но об том, каким он может быть ничего не сказано, к сожалению"
   ]
  },
  {
   "cell_type": "code",
   "execution_count": 9,
   "metadata": {},
   "outputs": [
    {
     "data": {
      "text/plain": [
       "array(['Female', 'Male'], dtype=object)"
      ]
     },
     "execution_count": 9,
     "metadata": {},
     "output_type": "execute_result"
    }
   ],
   "source": [
    "data['Gender'].unique()"
   ]
  },
  {
   "cell_type": "markdown",
   "metadata": {},
   "source": [
    "В стобце Gender встречаются только два типа данных, что соответсвует описанию стобца"
   ]
  },
  {
   "cell_type": "code",
   "execution_count": 10,
   "metadata": {},
   "outputs": [
    {
     "data": {
      "text/plain": [
       "18"
      ]
     },
     "execution_count": 10,
     "metadata": {},
     "output_type": "execute_result"
    }
   ],
   "source": [
    "data['Age'].min()"
   ]
  },
  {
   "cell_type": "code",
   "execution_count": 11,
   "metadata": {},
   "outputs": [
    {
     "data": {
      "text/plain": [
       "92"
      ]
     },
     "execution_count": 11,
     "metadata": {},
     "output_type": "execute_result"
    }
   ],
   "source": [
    "data['Age'].max()"
   ]
  },
  {
   "cell_type": "markdown",
   "metadata": {},
   "source": [
    "Данные в стобце с возрастом также не имеют возрастных аномалий или выбросов"
   ]
  },
  {
   "cell_type": "code",
   "execution_count": 12,
   "metadata": {},
   "outputs": [],
   "source": [
    "data['check'] = ((data['Tenure'] + 6) <= data['Age'])"
   ]
  },
  {
   "cell_type": "code",
   "execution_count": 13,
   "metadata": {},
   "outputs": [
    {
     "data": {
      "text/plain": [
       "0"
      ]
     },
     "execution_count": 13,
     "metadata": {},
     "output_type": "execute_result"
    }
   ],
   "source": [
    "len(data[data['check'] == False])"
   ]
  },
  {
   "cell_type": "markdown",
   "metadata": {},
   "source": [
    "Все данные соответсвуют требованию, что человек больше, чем на 6 лет страшне, чем его время пользования картой"
   ]
  },
  {
   "cell_type": "markdown",
   "metadata": {},
   "source": [
    "Чтобы понимать, какие столбцы кодировать каким методом, нам нужно понимать разнообразие данных в этих столбцах, поэтому выведем максимальные значения или длину уникальных значений стобцов NumOfProducts, Tenure и Geography."
   ]
  },
  {
   "cell_type": "code",
   "execution_count": 14,
   "metadata": {},
   "outputs": [
    {
     "data": {
      "text/plain": [
       "4"
      ]
     },
     "execution_count": 14,
     "metadata": {},
     "output_type": "execute_result"
    }
   ],
   "source": [
    "data['NumOfProducts'].max()"
   ]
  },
  {
   "cell_type": "code",
   "execution_count": 15,
   "metadata": {},
   "outputs": [
    {
     "data": {
      "text/plain": [
       "10.0"
      ]
     },
     "execution_count": 15,
     "metadata": {},
     "output_type": "execute_result"
    }
   ],
   "source": [
    "data['Tenure'].max()"
   ]
  },
  {
   "cell_type": "code",
   "execution_count": 16,
   "metadata": {},
   "outputs": [
    {
     "data": {
      "text/plain": [
       "11"
      ]
     },
     "execution_count": 16,
     "metadata": {},
     "output_type": "execute_result"
    }
   ],
   "source": [
    "len(data['Tenure'].unique())"
   ]
  },
  {
   "cell_type": "code",
   "execution_count": 17,
   "metadata": {},
   "outputs": [],
   "source": [
    "data = data.drop(['check', 'RowNumber', 'CustomerId', 'Surname'], axis=1)"
   ]
  },
  {
   "cell_type": "markdown",
   "metadata": {},
   "source": [
    "Удалили лишний столбик с проверкой, проверили, что с таблицей все нормально.\n",
    "Удалили неинформативные стобцы, которые являются признаками отдельного пользователя, а не фичами для последущей работы модели"
   ]
  },
  {
   "cell_type": "markdown",
   "metadata": {},
   "source": [
    "Как мы видим в данных нет пропусков, дубликатов и каких-то аномалий, поэтому можно переходить к работе с данными."
   ]
  },
  {
   "cell_type": "markdown",
   "metadata": {},
   "source": [
    "Разделим данные на features и target. По заданию мы должны предсказать уйдет клиент из банка или нет, т.е наш taget - это столбец \"Exited\", а все остальные стобцы это фичи. "
   ]
  },
  {
   "cell_type": "markdown",
   "metadata": {},
   "source": [
    "Разобьем данные на тренировочные и тестовые.\n",
    "Также удалим из таблицы те признаки, которые мы преобразовали с использованием One-Hot Encoding."
   ]
  },
  {
   "cell_type": "code",
   "execution_count": 23,
   "metadata": {},
   "outputs": [],
   "source": [
    "features = data.drop('Exited', axis=1)\n",
    "target = data['Exited']"
   ]
  },
  {
   "cell_type": "code",
   "execution_count": 24,
   "metadata": {},
   "outputs": [],
   "source": [
    "X_train, X_test, y_train, y_test = train_test_split(features, target, test_size=0.3, random_state=1024)"
   ]
  },
  {
   "cell_type": "code",
   "execution_count": 25,
   "metadata": {},
   "outputs": [],
   "source": [
    "X_valid, X_test, y_valid, y_test = train_test_split(X_test, y_test, test_size=0.5, random_state=1024)"
   ]
  },
  {
   "cell_type": "code",
   "execution_count": 26,
   "metadata": {},
   "outputs": [],
   "source": [
    "X, y = pd.concat([X_train, X_valid]), pd.concat([y_train, y_valid])"
   ]
  },
  {
   "cell_type": "code",
   "execution_count": 27,
   "metadata": {},
   "outputs": [],
   "source": [
    "enc = OneHotEncoder(handle_unknown='ignore', sparse_output=False, drop=\"first\").fit(X_train[['Geography', 'Gender']])"
   ]
  },
  {
   "cell_type": "code",
   "execution_count": 28,
   "metadata": {},
   "outputs": [],
   "source": [
    "X_train = X_train.join(pd.DataFrame(\n",
    "    enc.transform(X_train[['Geography','Gender']]),\n",
    "    columns=enc.get_feature_names_out(),\n",
    "    index=X_train.index,\n",
    "))"
   ]
  },
  {
   "cell_type": "code",
   "execution_count": 29,
   "metadata": {},
   "outputs": [],
   "source": [
    "X_test = X_test.join(pd.DataFrame(\n",
    "    enc.transform(X_test[['Geography','Gender']]),\n",
    "    columns=enc.get_feature_names_out(),\n",
    "    index=X_test.index,\n",
    "))"
   ]
  },
  {
   "cell_type": "code",
   "execution_count": 30,
   "metadata": {},
   "outputs": [],
   "source": [
    "X_valid = X_valid.join(pd.DataFrame(\n",
    "    enc.transform(X_valid[['Geography','Gender']]),\n",
    "    columns=enc.get_feature_names_out(),\n",
    "    index=X_valid.index,\n",
    "))"
   ]
  },
  {
   "cell_type": "code",
   "execution_count": 31,
   "metadata": {},
   "outputs": [],
   "source": [
    "X_train = X_train.drop(['Geography','Gender'], axis=1)\n",
    "X_test = X_test.drop(['Geography','Gender'], axis=1)\n",
    "X_valid = X_valid.drop(['Geography','Gender'], axis=1)"
   ]
  },
  {
   "cell_type": "code",
   "execution_count": 32,
   "metadata": {},
   "outputs": [],
   "source": [
    "scale_columns_minmax = [\"CreditScore\", \"Tenure\"]\n",
    "scale_columns_standard = [\"Age\", \"Balance\", 'EstimatedSalary']"
   ]
  },
  {
   "cell_type": "code",
   "execution_count": 33,
   "metadata": {},
   "outputs": [],
   "source": [
    "scaler_minmax = MinMaxScaler().fit(X_train[scale_columns_minmax])\n",
    "scaler_standard = StandardScaler().fit(X_train[scale_columns_standard])"
   ]
  },
  {
   "cell_type": "code",
   "execution_count": 34,
   "metadata": {},
   "outputs": [],
   "source": [
    "X_train[scale_columns_minmax] = scaler_minmax.transform(X_train[scale_columns_minmax])"
   ]
  },
  {
   "cell_type": "code",
   "execution_count": 35,
   "metadata": {},
   "outputs": [],
   "source": [
    "X_train[scale_columns_standard] = scaler_standard.transform(X_train[scale_columns_standard])"
   ]
  },
  {
   "cell_type": "code",
   "execution_count": 36,
   "metadata": {},
   "outputs": [],
   "source": [
    "X_test[scale_columns_minmax] = scaler_minmax.transform(X_test[scale_columns_minmax])"
   ]
  },
  {
   "cell_type": "code",
   "execution_count": 37,
   "metadata": {},
   "outputs": [],
   "source": [
    "X_test[scale_columns_standard] = scaler_standard.transform(X_test[scale_columns_standard])"
   ]
  },
  {
   "cell_type": "code",
   "execution_count": 38,
   "metadata": {},
   "outputs": [],
   "source": [
    "X_valid[scale_columns_minmax] = scaler_minmax.transform(X_valid[scale_columns_minmax])"
   ]
  },
  {
   "cell_type": "code",
   "execution_count": 39,
   "metadata": {},
   "outputs": [],
   "source": [
    "X_valid[scale_columns_standard] = scaler_standard.transform(X_valid[scale_columns_standard])"
   ]
  },
  {
   "cell_type": "markdown",
   "metadata": {},
   "source": [
    "## Исследование задачи"
   ]
  },
  {
   "cell_type": "markdown",
   "metadata": {},
   "source": [
    "Чтобы оценить, на сколько соотношение классов сбалансировано между собой посчитаем количество 0 и 1 классах в наших данных."
   ]
  },
  {
   "cell_type": "code",
   "execution_count": 40,
   "metadata": {},
   "outputs": [
    {
     "name": "stdout",
     "output_type": "stream",
     "text": [
      "Класс 0 - 0.7944285714285715 Класс 1 - 0.20557142857142857\n"
     ]
    }
   ],
   "source": [
    "print('Класс 0 -', sum(y_train == 0) / len(y_train), 'Класс 1 -', sum(y_train == 1) / len(y_train))"
   ]
  },
  {
   "cell_type": "code",
   "execution_count": 41,
   "metadata": {},
   "outputs": [
    {
     "data": {
      "text/plain": [
       "(4, 0.2587664089192591)"
      ]
     },
     "execution_count": 41,
     "metadata": {},
     "output_type": "execute_result"
    }
   ],
   "source": [
    "proportion = (sum(y_train == 0) / len(y_train)) / (sum(y_train == 1) / len(y_train))\n",
    "proportion, fraction = int(proportion) + 1, 1 / proportion, \n",
    "proportion, fraction"
   ]
  },
  {
   "cell_type": "markdown",
   "metadata": {},
   "source": [
    "Тут мы видим, что объектов нулевого класса существенно больше, чем первого. И это нужно будет уровновестить."
   ]
  },
  {
   "cell_type": "markdown",
   "metadata": {},
   "source": [
    "Обучим три модели и подберем для них оптимальные гиперпараметры."
   ]
  },
  {
   "cell_type": "code",
   "execution_count": 42,
   "metadata": {},
   "outputs": [
    {
     "name": "stdout",
     "output_type": "stream",
     "text": [
      "F1: 0.551984877126654\n",
      "AUC: 0.8120241443171685\n"
     ]
    }
   ],
   "source": [
    "model_des_tree = DecisionTreeClassifier(random_state=1024)\n",
    "parameters_1 = {'max_depth': [5, 10, 25, 50], 'criterion': [\"gini\", \"entropy\", \"log_loss\"]}\n",
    "GSCV_tree = GridSearchCV(model_des_tree, parameters_1, scoring=\"f1\")\n",
    "GSCV_tree.fit(X_train, y_train)\n",
    "pred_tree = GSCV_tree.predict(X_valid)\n",
    "y_pred_proba_tree = GSCV_tree.predict_proba(X_valid)[:,1]\n",
    "\n",
    "\n",
    "print(\"F1:\", f1_score(y_valid, pred_tree))\n",
    "print('AUC:', roc_auc_score(y_valid, y_pred_proba_tree))"
   ]
  },
  {
   "cell_type": "code",
   "execution_count": 43,
   "metadata": {},
   "outputs": [
    {
     "name": "stdout",
     "output_type": "stream",
     "text": [
      "F1: 0.5594989561586639\n",
      "AUC: 0.8582659990397147\n"
     ]
    }
   ],
   "source": [
    "model_random_forest = RandomForestClassifier(random_state=1024)\n",
    "parameters_2 = {\n",
    "    'n_estimators': [5, 25, 50, 100, 150], \n",
    "    'max_depth': [5, 10, 15, 25],\n",
    "    'criterion': ['gini', 'entropy', 'log_loss'],\n",
    "}\n",
    "GSCV_forest = GridSearchCV(model_random_forest, parameters_2, scoring=\"f1\")\n",
    "GSCV_forest.fit(X_train, y_train)\n",
    "pred_forest = GSCV_forest.predict(X_valid)\n",
    "y_pred_proba_forest = GSCV_forest.predict_proba(X_valid)[:,1]\n",
    "\n",
    "\n",
    "print(\"F1:\", f1_score(y_valid, pred_forest))\n",
    "print('AUC:', roc_auc_score(y_valid, y_pred_proba_forest))"
   ]
  },
  {
   "cell_type": "code",
   "execution_count": 44,
   "metadata": {},
   "outputs": [
    {
     "name": "stdout",
     "output_type": "stream",
     "text": [
      "F1: 0.3509615384615385\n",
      "AUC: 0.8582659990397147\n"
     ]
    }
   ],
   "source": [
    "model_log_reg = LogisticRegression(random_state=1024, solver='lbfgs')\n",
    "parameters_3 = {'max_iter': [5, 7, 10, 15, 25, 50]}\n",
    "GSCV_log_reg = GridSearchCV(model_log_reg, parameters_3, scoring=\"f1\")\n",
    "\n",
    "with warnings.catch_warnings():\n",
    "    warnings.filterwarnings(\"ignore\", category=ConvergenceWarning)\n",
    "    GSCV_log_reg.fit(X_train, y_train)\n",
    "    \n",
    "pred_log_reg = GSCV_log_reg.predict(X_valid)\n",
    "y_pred_proba_log_reg = GSCV_forest.predict_proba(X_valid)[:,1]\n",
    "\n",
    "print(\"F1:\", f1_score(y_valid, pred_log_reg))\n",
    "print('AUC:', roc_auc_score(y_valid, y_pred_proba_log_reg))"
   ]
  },
  {
   "cell_type": "markdown",
   "metadata": {},
   "source": [
    "Мы обучили три модели на несбалансированных данных, даже при таких данных модель случаного леса показала результат 0.55, что является лучшим из трех результатов. Дерево решений показло результат 0.54, а логистическая регрессия 0.47. "
   ]
  },
  {
   "cell_type": "markdown",
   "metadata": {},
   "source": [
    "## Борьба с дисбалансом"
   ]
  },
  {
   "cell_type": "markdown",
   "metadata": {},
   "source": [
    "В задании требуется попробовать несколько методов борьбы с дисбалансом классов. Попробуем использовать апсемплинг и даунсемплинг."
   ]
  },
  {
   "cell_type": "code",
   "execution_count": 45,
   "metadata": {},
   "outputs": [],
   "source": [
    "def upsample(features, target, repeat):\n",
    "    features_zeros = features[target == 0]\n",
    "    features_ones = features[target == 1]\n",
    "    target_zeros = target[target == 0]\n",
    "    target_ones = target[target == 1]\n",
    "\n",
    "    features_upsampled = pd.concat([features_zeros] + [features_ones] * repeat)\n",
    "    target_upsampled = pd.concat([target_zeros] + [target_ones] * repeat)\n",
    "    \n",
    "    features_upsampled, target_upsampled = shuffle(\n",
    "        features_upsampled, target_upsampled, random_state=12345)\n",
    "    \n",
    "    return features_upsampled, target_upsampled"
   ]
  },
  {
   "cell_type": "code",
   "execution_count": 46,
   "metadata": {},
   "outputs": [],
   "source": [
    "X_upsampled_train, y_upsampled_train = upsample(X_train, y_train, repeat=proportion)"
   ]
  },
  {
   "cell_type": "code",
   "execution_count": 47,
   "metadata": {},
   "outputs": [],
   "source": [
    "def downsample(features, target, fraction):\n",
    "    features_zeros = features[target == 0]\n",
    "    features_ones = features[target == 1]\n",
    "    target_zeros = target[target == 0]\n",
    "    target_ones = target[target == 1]\n",
    "\n",
    "    features_downsampled = pd.concat(\n",
    "        [features_zeros.sample(frac=fraction, random_state=12345)] + [features_ones])\n",
    "    target_downsampled = pd.concat(\n",
    "        [target_zeros.sample(frac=fraction, random_state=12345)] + [target_ones])\n",
    "    \n",
    "    features_downsampled, target_downsampled = shuffle(\n",
    "        features_downsampled, target_downsampled, random_state=12345)\n",
    "    \n",
    "    return features_downsampled, target_downsampled"
   ]
  },
  {
   "cell_type": "code",
   "execution_count": 48,
   "metadata": {},
   "outputs": [],
   "source": [
    "X_downsampled, y_downsampled = downsample(X_train, y_train, fraction=fraction)"
   ]
  },
  {
   "cell_type": "markdown",
   "metadata": {},
   "source": [
    "Теперь снова обучим модели из предыдущего раздела, только на уравновещенных данных и посмотрим, как изменились результаты."
   ]
  },
  {
   "cell_type": "code",
   "execution_count": 49,
   "metadata": {},
   "outputs": [],
   "source": [
    "sm = SMOTE(random_state=1024)\n",
    "X_res_sm, y_res_sm = sm.fit_resample(X_train, y_train)"
   ]
  },
  {
   "cell_type": "code",
   "execution_count": 50,
   "metadata": {},
   "outputs": [],
   "source": [
    "rus = RandomUnderSampler(random_state=1024)\n",
    "X_res_un, y_res_un = rus.fit_resample(X_train, y_train)"
   ]
  },
  {
   "cell_type": "code",
   "execution_count": 51,
   "metadata": {
    "scrolled": true
   },
   "outputs": [
    {
     "name": "stdout",
     "output_type": "stream",
     "text": [
      "F1: 0.5551020408163266\n",
      "AUC: 0.8289951299814803\n"
     ]
    }
   ],
   "source": [
    "GSCV_tree_un = GridSearchCV(model_des_tree, parameters_1, scoring=\"f1\")\n",
    "GSCV_tree_un.fit(X_res_un, y_res_un)\n",
    "pred_tree_un = GSCV_tree_un.predict(X_valid)\n",
    "y_proba_pred_tree_un = GSCV_tree_un.predict_proba(X_valid)[:,1]\n",
    "\n",
    "print(\"F1:\", f1_score(y_valid, pred_tree_un))\n",
    "print('AUC:', roc_auc_score(y_valid, y_proba_pred_tree_un))"
   ]
  },
  {
   "cell_type": "code",
   "execution_count": 52,
   "metadata": {},
   "outputs": [
    {
     "name": "stdout",
     "output_type": "stream",
     "text": [
      "F1: 0.48164464023494863\n",
      "AUC: 0.6801495301461005\n"
     ]
    }
   ],
   "source": [
    "GSCV_tree_sm = GridSearchCV(model_des_tree, parameters_1, scoring=\"f1\")\n",
    "GSCV_tree_sm.fit(X_res_sm, y_res_sm)\n",
    "pred_tree_sm = GSCV_tree_sm.predict(X_valid)\n",
    "y_proba_pred_tree_sm = GSCV_tree_sm.predict_proba(X_valid)[:,1]\n",
    "\n",
    "print(\"F1:\", f1_score(y_valid, pred_tree_sm))\n",
    "print('AUC:', roc_auc_score(y_valid, y_proba_pred_tree_sm))"
   ]
  },
  {
   "cell_type": "code",
   "execution_count": 53,
   "metadata": {},
   "outputs": [
    {
     "name": "stdout",
     "output_type": "stream",
     "text": [
      "F1: 0.5924932975871313\n",
      "AUC: 0.855600521297757\n"
     ]
    }
   ],
   "source": [
    "GSCV_forest_un = GridSearchCV(model_random_forest, parameters_2, scoring=\"f1\")\n",
    "GSCV_forest_un.fit(X_res_un, y_res_un)\n",
    "pred_forest_un = GSCV_forest_un.predict(X_valid)\n",
    "y_proba_pred_forest_un = GSCV_forest_un.predict_proba(X_valid)[:,1]\n",
    "\n",
    "print(\"F1:\", f1_score(y_valid, pred_forest_un))\n",
    "print('AUC:', roc_auc_score(y_valid, y_proba_pred_forest_un))"
   ]
  },
  {
   "cell_type": "code",
   "execution_count": 54,
   "metadata": {},
   "outputs": [
    {
     "name": "stdout",
     "output_type": "stream",
     "text": [
      "F1: 0.6030150753768845\n",
      "AUC: 0.8496069689279099\n"
     ]
    }
   ],
   "source": [
    "GSCV_forest_sm = GridSearchCV(model_random_forest, parameters_2, scoring=\"f1\")\n",
    "GSCV_forest_sm.fit(X_res_sm, y_res_sm)\n",
    "pred_forest_sm = GSCV_forest_sm.predict(X_valid)\n",
    "y_proba_pred_forest_sm = GSCV_forest_sm.predict_proba(X_valid)[:,1]\n",
    "\n",
    "print(\"F1:\", f1_score(y_valid, pred_forest_sm))\n",
    "print('AUC:', roc_auc_score(y_valid, y_proba_pred_forest_sm))"
   ]
  },
  {
   "cell_type": "code",
   "execution_count": 55,
   "metadata": {},
   "outputs": [
    {
     "name": "stdout",
     "output_type": "stream",
     "text": [
      "F1: 0.5723905723905724\n",
      "AUC: 0.8340544618972494\n"
     ]
    }
   ],
   "source": [
    "hgbc_params = {\n",
    "    \"max_depth\": [5, 10, 15, 25, 50, None],\n",
    "    \"min_samples_leaf\": [5, 10, 15, 20],\n",
    "    \"max_leaf_nodes\": [10, 25, 50, None],\n",
    "    \"max_iter\": [50, 100, 250],\n",
    "}\n",
    "hgbc = HistGradientBoostingClassifier(random_state=1024, scoring=\"f1\")\n",
    "hgbc_sm = GridSearchCV(hgbc, hgbc_params, scoring=\"f1\")\n",
    "hgbc_sm.fit(X_res_sm, y_res_sm)\n",
    "pred_hgbc = hgbc_sm.predict(X_valid)\n",
    "y_proba_hgbc = hgbc_sm.predict_proba(X_valid)[:,1]\n",
    "\n",
    "print(\"F1:\", f1_score(y_valid, pred_hgbc))\n",
    "print('AUC:', roc_auc_score(y_valid, y_proba_hgbc))"
   ]
  },
  {
   "cell_type": "code",
   "execution_count": 56,
   "metadata": {},
   "outputs": [
    {
     "name": "stdout",
     "output_type": "stream",
     "text": [
      "F1: 0.5877659574468085\n",
      "AUC: 0.8566993620961658\n"
     ]
    }
   ],
   "source": [
    "hgbc_params = {\n",
    "    \"max_depth\": [10, 15, 25, None],\n",
    "    \"min_samples_leaf\": [5, 10, 15, 20],\n",
    "    \"max_leaf_nodes\": [10, 25, 50, None],\n",
    "    \"max_iter\": [50, 250, 750, 1500],\n",
    "}\n",
    "hgbc = HistGradientBoostingClassifier(random_state=1024, scoring=\"f1\")\n",
    "hgbc_sm = GridSearchCV(hgbc, hgbc_params, scoring=\"f1\")\n",
    "hgbc_sm.fit(X_res_un, y_res_un)\n",
    "pred_hgbc = hgbc_sm.predict(X_valid)\n",
    "y_proba_hgbc = hgbc_sm.predict_proba(X_valid)[:,1]\n",
    "\n",
    "print(\"F1:\", f1_score(y_valid, pred_hgbc))\n",
    "print('AUC:', roc_auc_score(y_valid, y_proba_hgbc))"
   ]
  },
  {
   "cell_type": "code",
   "execution_count": 57,
   "metadata": {},
   "outputs": [
    {
     "name": "stdout",
     "output_type": "stream",
     "text": [
      "F1: 0.49696969696969695\n",
      "AUC: 0.7623430962343096\n"
     ]
    }
   ],
   "source": [
    "GSCV_log_reg_un = GridSearchCV(model_log_reg, parameters_3, scoring=\"f1\")\n",
    "\n",
    "with warnings.catch_warnings():\n",
    "    warnings.filterwarnings(\"ignore\", category=ConvergenceWarning)\n",
    "    GSCV_log_reg_un.fit(X_res_un, y_res_un)\n",
    "    \n",
    "pred_log_reg_un = GSCV_log_reg_un.predict(X_valid)\n",
    "y_proba_pred_log_reg_un = GSCV_log_reg_un.predict_proba(X_valid)[:,1]\n",
    "\n",
    "print(\"F1:\", f1_score(y_valid, pred_log_reg_un))\n",
    "print('AUC:', roc_auc_score(y_valid, y_proba_pred_log_reg_un))"
   ]
  },
  {
   "cell_type": "code",
   "execution_count": 58,
   "metadata": {},
   "outputs": [
    {
     "name": "stdout",
     "output_type": "stream",
     "text": [
      "F1: 0.4903381642512078\n",
      "AUC: 0.8496069689279099\n"
     ]
    }
   ],
   "source": [
    "GSCV_log_reg_sm = GridSearchCV(model_log_reg, parameters_3, scoring=\"f1\")\n",
    "\n",
    "with warnings.catch_warnings():\n",
    "    warnings.filterwarnings(\"ignore\", category=ConvergenceWarning)\n",
    "    GSCV_log_reg_sm.fit(X_res_sm, y_res_sm)\n",
    "    \n",
    "pred_log_reg_sm = GSCV_log_reg_sm.predict(X_valid)\n",
    "y_proba_pred_log_reg_sm = GSCV_forest_sm.predict_proba(X_valid)[:,1]\n",
    "\n",
    "print(\"F1:\", f1_score(y_valid, pred_log_reg_sm))\n",
    "print('AUC:', roc_auc_score(y_valid, y_proba_pred_log_reg_sm))"
   ]
  },
  {
   "cell_type": "markdown",
   "metadata": {},
   "source": [
    "Как мы видим результаты работы всех моделей улучшались, одна из моделей перешла установленный в задании порог. "
   ]
  },
  {
   "cell_type": "markdown",
   "metadata": {},
   "source": [
    "Возьмем модель с самым лучшим результатом, посчитаем для нее AUC и построем Roc-кривую."
   ]
  },
  {
   "cell_type": "code",
   "execution_count": 59,
   "metadata": {},
   "outputs": [],
   "source": [
    "y_pred_proba_last = GSCV_forest_sm.predict_proba(X_test)[:,1]\n",
    "pred_last = GSCV_forest_sm.predict(X_test)"
   ]
  },
  {
   "cell_type": "code",
   "execution_count": 60,
   "metadata": {},
   "outputs": [],
   "source": [
    "fpr, tpr, _ = roc_curve(y_test, y_pred_proba_last)"
   ]
  },
  {
   "cell_type": "code",
   "execution_count": 61,
   "metadata": {},
   "outputs": [
    {
     "data": {
      "image/png": "[encoded data removed]",
      "text/plain": [
       "<Figure size 432x288 with 1 Axes>"
      ]
     },
     "metadata": {
      "needs_background": "light"
     },
     "output_type": "display_data"
    }
   ],
   "source": [
    "plt.plot(fpr, tpr)\n",
    "plt.ylabel('True Positive Rate')\n",
    "plt.xlabel('False Positive Rate')\n",
    "plt.show()"
   ]
  },
  {
   "cell_type": "code",
   "execution_count": 62,
   "metadata": {},
   "outputs": [],
   "source": [
    "auc = roc_auc_score(y_test, y_pred_proba_last)"
   ]
  },
  {
   "cell_type": "code",
   "execution_count": 63,
   "metadata": {},
   "outputs": [
    {
     "name": "stdout",
     "output_type": "stream",
     "text": [
      "AUC лучшей модели = 0.8391267096657439\n"
     ]
    }
   ],
   "source": [
    "print('AUC лучшей модели =', auc)"
   ]
  },
  {
   "cell_type": "code",
   "execution_count": 64,
   "metadata": {},
   "outputs": [
    {
     "name": "stdout",
     "output_type": "stream",
     "text": [
      "F1 лучшей модели = 0.6000000000000001\n"
     ]
    }
   ],
   "source": [
    "print(\"F1 лучшей модели =\", f1_score(y_test, pred_last))"
   ]
  },
  {
   "cell_type": "markdown",
   "metadata": {},
   "source": [
    "В результате мы видим достаточно высокую точность, как самой лучшей модели, так и модели, которая показала самые слабые результаты.\n",
    "В ходе выполнения работы мы прогнозировали то, уйдёт клиент из банка в ближайшее время или нет. Для решений этой задачи были подготовлены данные, рассмотрены и устранены проблемы с дисбалансом классов, рассмотрены и преобразованы данные с использованием One-Hot Encoding и Scaler, данные были подготовлены для обучения моделей, после чего были обучены три модели, которые показали неплохие результаты даже на несбалансированных данных, после чего данные были сбалансированы и модели были обучены снова. По результатом обучения всех моделей были выбраны две модели с лучшими и худшими результатами и для них были построены roc-кривык и посчитан auc."
   ]
  }
 ],
 "metadata": {
  "ExecuteTimeLog": [
   {
    "duration": 346,
    "start_time": "2022-12-10T02:16:11.568Z"
   },
   {
    "duration": 95,
    "start_time": "2022-12-10T02:16:21.047Z"
   },
   {
    "duration": 21,
    "start_time": "2022-12-10T02:16:33.047Z"
   },
   {
    "duration": 13,
    "start_time": "2022-12-10T02:17:09.013Z"
   },
   {
    "duration": 4,
    "start_time": "2022-12-10T02:37:55.219Z"
   },
   {
    "duration": 13,
    "start_time": "2022-12-10T02:38:04.331Z"
   },
   {
    "duration": 13,
    "start_time": "2022-12-10T02:39:18.595Z"
   },
   {
    "duration": 11,
    "start_time": "2022-12-10T02:39:49.779Z"
   },
   {
    "duration": 5,
    "start_time": "2022-12-10T02:46:06.701Z"
   },
   {
    "duration": 5,
    "start_time": "2022-12-10T02:47:23.866Z"
   },
   {
    "duration": 5,
    "start_time": "2022-12-10T02:47:34.579Z"
   },
   {
    "duration": 85,
    "start_time": "2022-12-10T02:50:33.327Z"
   },
   {
    "duration": 17,
    "start_time": "2022-12-10T02:50:51.994Z"
   },
   {
    "duration": 4,
    "start_time": "2022-12-10T02:55:11.389Z"
   },
   {
    "duration": 11,
    "start_time": "2022-12-10T02:55:12.170Z"
   },
   {
    "duration": 5,
    "start_time": "2022-12-10T02:55:14.203Z"
   },
   {
    "duration": 5,
    "start_time": "2022-12-10T02:55:15.512Z"
   },
   {
    "duration": 3,
    "start_time": "2022-12-10T02:55:15.987Z"
   },
   {
    "duration": 4,
    "start_time": "2022-12-10T02:55:16.622Z"
   },
   {
    "duration": 5,
    "start_time": "2022-12-10T02:56:08.144Z"
   },
   {
    "duration": 4,
    "start_time": "2022-12-10T02:56:21.794Z"
   },
   {
    "duration": 4,
    "start_time": "2022-12-10T02:56:48.870Z"
   },
   {
    "duration": 7,
    "start_time": "2022-12-10T02:56:55.731Z"
   },
   {
    "duration": 4,
    "start_time": "2022-12-10T02:57:01.865Z"
   },
   {
    "duration": 7,
    "start_time": "2022-12-10T02:57:02.478Z"
   },
   {
    "duration": 5,
    "start_time": "2022-12-10T02:57:41.187Z"
   },
   {
    "duration": 5,
    "start_time": "2022-12-10T02:57:41.831Z"
   },
   {
    "duration": 4,
    "start_time": "2022-12-10T02:58:08.034Z"
   },
   {
    "duration": 6,
    "start_time": "2022-12-10T02:58:08.551Z"
   },
   {
    "duration": 4,
    "start_time": "2022-12-10T02:58:15.065Z"
   },
   {
    "duration": 5,
    "start_time": "2022-12-10T02:58:15.893Z"
   },
   {
    "duration": 4,
    "start_time": "2022-12-10T02:58:20.570Z"
   },
   {
    "duration": 4,
    "start_time": "2022-12-10T02:58:20.910Z"
   },
   {
    "duration": 4,
    "start_time": "2022-12-10T02:58:36.766Z"
   },
   {
    "duration": 5,
    "start_time": "2022-12-10T02:58:37.294Z"
   },
   {
    "duration": 4,
    "start_time": "2022-12-10T03:00:01.074Z"
   },
   {
    "duration": 5,
    "start_time": "2022-12-10T03:00:01.306Z"
   },
   {
    "duration": 4,
    "start_time": "2022-12-10T03:00:34.527Z"
   },
   {
    "duration": 6,
    "start_time": "2022-12-10T03:00:34.911Z"
   },
   {
    "duration": 5,
    "start_time": "2022-12-10T03:00:41.085Z"
   },
   {
    "duration": 69,
    "start_time": "2022-12-10T03:01:09.170Z"
   },
   {
    "duration": 22,
    "start_time": "2022-12-10T03:01:18.898Z"
   },
   {
    "duration": 4,
    "start_time": "2022-12-10T03:02:21.130Z"
   },
   {
    "duration": 8,
    "start_time": "2022-12-10T03:02:21.512Z"
   },
   {
    "duration": 4,
    "start_time": "2022-12-10T03:03:43.691Z"
   },
   {
    "duration": 9,
    "start_time": "2022-12-10T03:03:44.042Z"
   },
   {
    "duration": 4,
    "start_time": "2022-12-10T03:03:47.224Z"
   },
   {
    "duration": 8,
    "start_time": "2022-12-10T03:03:47.522Z"
   },
   {
    "duration": 4,
    "start_time": "2022-12-10T03:03:50.755Z"
   },
   {
    "duration": 13,
    "start_time": "2022-12-10T03:03:51.097Z"
   },
   {
    "duration": 4,
    "start_time": "2022-12-10T03:04:41.052Z"
   },
   {
    "duration": 9,
    "start_time": "2022-12-10T03:04:41.469Z"
   },
   {
    "duration": 6,
    "start_time": "2022-12-10T03:04:52.605Z"
   },
   {
    "duration": 5,
    "start_time": "2022-12-10T03:05:05.970Z"
   },
   {
    "duration": 4,
    "start_time": "2022-12-10T03:05:07.203Z"
   },
   {
    "duration": 4,
    "start_time": "2022-12-10T03:05:07.788Z"
   },
   {
    "duration": 4,
    "start_time": "2022-12-10T03:05:08.370Z"
   },
   {
    "duration": 5,
    "start_time": "2022-12-10T03:05:08.799Z"
   },
   {
    "duration": 9,
    "start_time": "2022-12-10T03:34:56.003Z"
   },
   {
    "duration": 12,
    "start_time": "2022-12-10T03:35:33.523Z"
   },
   {
    "duration": 11,
    "start_time": "2022-12-10T03:36:10.281Z"
   },
   {
    "duration": 12,
    "start_time": "2022-12-10T03:36:23.805Z"
   },
   {
    "duration": 20,
    "start_time": "2022-12-10T03:36:36.468Z"
   },
   {
    "duration": 44,
    "start_time": "2022-12-10T03:37:26.529Z"
   },
   {
    "duration": 20,
    "start_time": "2022-12-10T03:53:18.743Z"
   },
   {
    "duration": 5,
    "start_time": "2022-12-10T04:02:20.688Z"
   },
   {
    "duration": 7,
    "start_time": "2022-12-10T04:03:10.142Z"
   },
   {
    "duration": 677,
    "start_time": "2022-12-10T04:03:33.376Z"
   },
   {
    "duration": 7,
    "start_time": "2022-12-10T04:03:39.301Z"
   },
   {
    "duration": 7,
    "start_time": "2022-12-10T04:04:06.362Z"
   },
   {
    "duration": 5,
    "start_time": "2022-12-10T04:06:17.710Z"
   },
   {
    "duration": 7,
    "start_time": "2022-12-10T04:08:42.095Z"
   },
   {
    "duration": 5,
    "start_time": "2022-12-10T05:40:41.732Z"
   },
   {
    "duration": 5,
    "start_time": "2022-12-10T05:41:06.461Z"
   },
   {
    "duration": 50,
    "start_time": "2022-12-10T05:43:08.586Z"
   },
   {
    "duration": 7,
    "start_time": "2022-12-10T05:43:18.669Z"
   },
   {
    "duration": 42,
    "start_time": "2022-12-10T05:49:02.803Z"
   },
   {
    "duration": 27,
    "start_time": "2022-12-10T08:48:57.054Z"
   },
   {
    "duration": 27,
    "start_time": "2022-12-10T08:49:57.440Z"
   },
   {
    "duration": 2,
    "start_time": "2022-12-10T08:58:58.967Z"
   },
   {
    "duration": 39,
    "start_time": "2022-12-10T09:03:21.906Z"
   },
   {
    "duration": 728,
    "start_time": "2022-12-10T09:03:37.570Z"
   },
   {
    "duration": 745,
    "start_time": "2022-12-10T09:04:10.464Z"
   },
   {
    "duration": 13,
    "start_time": "2022-12-10T09:04:30.619Z"
   },
   {
    "duration": 12,
    "start_time": "2022-12-10T09:05:13.471Z"
   },
   {
    "duration": 20,
    "start_time": "2022-12-10T09:05:30.390Z"
   },
   {
    "duration": 3,
    "start_time": "2022-12-10T09:06:12.711Z"
   },
   {
    "duration": 40,
    "start_time": "2022-12-10T09:06:13.275Z"
   },
   {
    "duration": 14,
    "start_time": "2022-12-10T09:06:13.535Z"
   },
   {
    "duration": 13,
    "start_time": "2022-12-10T09:06:13.753Z"
   },
   {
    "duration": 5,
    "start_time": "2022-12-10T09:06:14.238Z"
   },
   {
    "duration": 12,
    "start_time": "2022-12-10T09:06:14.463Z"
   },
   {
    "duration": 4,
    "start_time": "2022-12-10T09:06:15.119Z"
   },
   {
    "duration": 12,
    "start_time": "2022-12-10T09:06:15.349Z"
   },
   {
    "duration": 4,
    "start_time": "2022-12-10T09:06:17.206Z"
   },
   {
    "duration": 4,
    "start_time": "2022-12-10T09:06:17.936Z"
   },
   {
    "duration": 4,
    "start_time": "2022-12-10T09:06:18.258Z"
   },
   {
    "duration": 4,
    "start_time": "2022-12-10T09:06:19.733Z"
   },
   {
    "duration": 6,
    "start_time": "2022-12-10T09:06:20.134Z"
   },
   {
    "duration": 4,
    "start_time": "2022-12-10T09:06:21.168Z"
   },
   {
    "duration": 21,
    "start_time": "2022-12-10T09:06:23.300Z"
   },
   {
    "duration": 22,
    "start_time": "2022-12-10T09:06:24.605Z"
   },
   {
    "duration": 42,
    "start_time": "2022-12-10T09:06:25.271Z"
   },
   {
    "duration": 11,
    "start_time": "2022-12-10T09:06:25.753Z"
   },
   {
    "duration": 12,
    "start_time": "2022-12-10T09:06:33.172Z"
   },
   {
    "duration": 17,
    "start_time": "2022-12-10T09:06:34.805Z"
   },
   {
    "duration": 8,
    "start_time": "2022-12-10T09:07:47.444Z"
   },
   {
    "duration": 6,
    "start_time": "2022-12-10T09:07:48.812Z"
   },
   {
    "duration": 12,
    "start_time": "2022-12-10T09:07:50.521Z"
   },
   {
    "duration": 32,
    "start_time": "2022-12-10T09:07:51.091Z"
   },
   {
    "duration": 10,
    "start_time": "2022-12-10T09:22:32.075Z"
   },
   {
    "duration": 47,
    "start_time": "2022-12-10T09:22:54.684Z"
   },
   {
    "duration": 290,
    "start_time": "2022-12-10T09:25:00.949Z"
   },
   {
    "duration": 180,
    "start_time": "2022-12-10T09:25:01.302Z"
   },
   {
    "duration": 122,
    "start_time": "2022-12-10T09:25:01.689Z"
   },
   {
    "duration": 3,
    "start_time": "2022-12-10T09:26:35.040Z"
   },
   {
    "duration": 40,
    "start_time": "2022-12-10T09:26:35.868Z"
   },
   {
    "duration": 14,
    "start_time": "2022-12-10T09:26:36.381Z"
   },
   {
    "duration": 14,
    "start_time": "2022-12-10T09:26:36.784Z"
   },
   {
    "duration": 6,
    "start_time": "2022-12-10T09:26:37.554Z"
   },
   {
    "duration": 12,
    "start_time": "2022-12-10T09:26:37.911Z"
   },
   {
    "duration": 4,
    "start_time": "2022-12-10T09:26:38.971Z"
   },
   {
    "duration": 11,
    "start_time": "2022-12-10T09:26:39.319Z"
   },
   {
    "duration": 5,
    "start_time": "2022-12-10T09:26:40.319Z"
   },
   {
    "duration": 4,
    "start_time": "2022-12-10T09:26:41.016Z"
   },
   {
    "duration": 5,
    "start_time": "2022-12-10T09:26:41.346Z"
   },
   {
    "duration": 5,
    "start_time": "2022-12-10T09:26:41.651Z"
   },
   {
    "duration": 6,
    "start_time": "2022-12-10T09:26:41.995Z"
   },
   {
    "duration": 4,
    "start_time": "2022-12-10T09:26:42.645Z"
   },
   {
    "duration": 8,
    "start_time": "2022-12-10T09:26:43.821Z"
   },
   {
    "duration": 10,
    "start_time": "2022-12-10T09:26:44.067Z"
   },
   {
    "duration": 12,
    "start_time": "2022-12-10T09:26:44.603Z"
   },
   {
    "duration": 18,
    "start_time": "2022-12-10T09:26:44.843Z"
   },
   {
    "duration": 5,
    "start_time": "2022-12-10T09:26:45.555Z"
   },
   {
    "duration": 7,
    "start_time": "2022-12-10T09:26:45.786Z"
   },
   {
    "duration": 6,
    "start_time": "2022-12-10T09:26:46.064Z"
   },
   {
    "duration": 6,
    "start_time": "2022-12-10T09:26:46.348Z"
   },
   {
    "duration": 7,
    "start_time": "2022-12-10T09:26:47.671Z"
   },
   {
    "duration": 1174,
    "start_time": "2022-12-10T09:26:49.410Z"
   },
   {
    "duration": 2760,
    "start_time": "2022-12-10T09:26:50.841Z"
   },
   {
    "duration": 55528,
    "start_time": "2022-12-10T09:26:53.602Z"
   },
   {
    "duration": 14292,
    "start_time": "2022-12-10T09:29:43.925Z"
   },
   {
    "duration": 18125,
    "start_time": "2022-12-10T09:30:35.897Z"
   },
   {
    "duration": 13364,
    "start_time": "2022-12-10T09:31:55.156Z"
   },
   {
    "duration": 22550,
    "start_time": "2022-12-10T09:32:40.471Z"
   },
   {
    "duration": 13,
    "start_time": "2022-12-10T09:44:39.266Z"
   },
   {
    "duration": 2767,
    "start_time": "2022-12-10T09:44:39.610Z"
   },
   {
    "duration": 0,
    "start_time": "2022-12-10T09:44:42.379Z"
   },
   {
    "duration": 3,
    "start_time": "2022-12-10T09:47:09.092Z"
   },
   {
    "duration": 40,
    "start_time": "2022-12-10T09:47:10.616Z"
   },
   {
    "duration": 15,
    "start_time": "2022-12-10T09:47:11.580Z"
   },
   {
    "duration": 14,
    "start_time": "2022-12-10T09:47:12.065Z"
   },
   {
    "duration": 4,
    "start_time": "2022-12-10T09:47:13.070Z"
   },
   {
    "duration": 12,
    "start_time": "2022-12-10T09:47:13.568Z"
   },
   {
    "duration": 3,
    "start_time": "2022-12-10T09:47:14.875Z"
   },
   {
    "duration": 12,
    "start_time": "2022-12-10T09:47:15.320Z"
   },
   {
    "duration": 6,
    "start_time": "2022-12-10T09:47:16.727Z"
   },
   {
    "duration": 5,
    "start_time": "2022-12-10T09:47:17.271Z"
   },
   {
    "duration": 5,
    "start_time": "2022-12-10T09:47:17.511Z"
   },
   {
    "duration": 4,
    "start_time": "2022-12-10T09:47:17.725Z"
   },
   {
    "duration": 6,
    "start_time": "2022-12-10T09:47:17.957Z"
   },
   {
    "duration": 4,
    "start_time": "2022-12-10T09:47:18.403Z"
   },
   {
    "duration": 6,
    "start_time": "2022-12-10T09:47:19.307Z"
   },
   {
    "duration": 6,
    "start_time": "2022-12-10T09:47:19.519Z"
   },
   {
    "duration": 11,
    "start_time": "2022-12-10T09:47:19.969Z"
   },
   {
    "duration": 20,
    "start_time": "2022-12-10T09:47:20.211Z"
   },
   {
    "duration": 4,
    "start_time": "2022-12-10T09:47:20.881Z"
   },
   {
    "duration": 5,
    "start_time": "2022-12-10T09:47:21.080Z"
   },
   {
    "duration": 6,
    "start_time": "2022-12-10T09:47:21.314Z"
   },
   {
    "duration": 6,
    "start_time": "2022-12-10T09:47:21.683Z"
   },
   {
    "duration": 5,
    "start_time": "2022-12-10T09:47:22.328Z"
   },
   {
    "duration": 1140,
    "start_time": "2022-12-10T09:47:23.024Z"
   },
   {
    "duration": 2721,
    "start_time": "2022-12-10T09:47:24.165Z"
   },
   {
    "duration": 21130,
    "start_time": "2022-12-10T09:47:26.887Z"
   },
   {
    "duration": 1183,
    "start_time": "2022-12-10T09:48:51.157Z"
   },
   {
    "duration": 2788,
    "start_time": "2022-12-10T09:48:52.341Z"
   },
   {
    "duration": 23292,
    "start_time": "2022-12-10T09:48:55.131Z"
   },
   {
    "duration": 2682,
    "start_time": "2022-12-10T09:58:48.056Z"
   },
   {
    "duration": 1157,
    "start_time": "2022-12-10T09:58:50.739Z"
   },
   {
    "duration": 22692,
    "start_time": "2022-12-10T09:58:52.350Z"
   },
   {
    "duration": 30972,
    "start_time": "2022-12-10T10:00:02.844Z"
   },
   {
    "duration": 6,
    "start_time": "2022-12-10T10:01:37.507Z"
   },
   {
    "duration": 1206,
    "start_time": "2022-12-10T10:03:22.222Z"
   },
   {
    "duration": 2751,
    "start_time": "2022-12-10T10:03:23.430Z"
   },
   {
    "duration": 31433,
    "start_time": "2022-12-10T10:03:26.183Z"
   },
   {
    "duration": 4,
    "start_time": "2022-12-10T10:04:11.412Z"
   },
   {
    "duration": 5,
    "start_time": "2022-12-10T10:05:25.362Z"
   },
   {
    "duration": 33061,
    "start_time": "2022-12-10T10:05:37.857Z"
   },
   {
    "duration": 9,
    "start_time": "2022-12-10T10:28:57.058Z"
   },
   {
    "duration": 4,
    "start_time": "2022-12-10T10:29:06.829Z"
   },
   {
    "duration": 16,
    "start_time": "2022-12-10T10:30:41.616Z"
   },
   {
    "duration": 4,
    "start_time": "2022-12-10T10:31:29.468Z"
   },
   {
    "duration": 36785,
    "start_time": "2022-12-10T10:31:36.839Z"
   },
   {
    "duration": 93,
    "start_time": "2022-12-10T10:32:13.627Z"
   },
   {
    "duration": 106,
    "start_time": "2022-12-10T10:32:13.725Z"
   },
   {
    "duration": 11,
    "start_time": "2022-12-10T10:34:16.895Z"
   },
   {
    "duration": 9,
    "start_time": "2022-12-10T10:34:40.175Z"
   },
   {
    "duration": 848,
    "start_time": "2022-12-10T10:39:43.863Z"
   },
   {
    "duration": 440,
    "start_time": "2022-12-10T10:39:44.713Z"
   },
   {
    "duration": 2192,
    "start_time": "2022-12-10T10:39:45.155Z"
   },
   {
    "duration": 1110,
    "start_time": "2022-12-10T10:39:47.349Z"
   },
   {
    "duration": 29262,
    "start_time": "2022-12-10T10:39:48.460Z"
   },
   {
    "duration": 17400,
    "start_time": "2022-12-10T10:40:17.724Z"
   },
   {
    "duration": 928,
    "start_time": "2022-12-10T10:50:06.561Z"
   },
   {
    "duration": 492,
    "start_time": "2022-12-10T10:50:35.770Z"
   },
   {
    "duration": 2250,
    "start_time": "2022-12-10T10:51:05.356Z"
   },
   {
    "duration": 14,
    "start_time": "2022-12-10T10:52:12.516Z"
   },
   {
    "duration": 1116,
    "start_time": "2022-12-10T10:52:23.721Z"
   },
   {
    "duration": 1119,
    "start_time": "2022-12-10T10:54:30.599Z"
   },
   {
    "duration": 3,
    "start_time": "2022-12-10T10:59:10.596Z"
   },
   {
    "duration": 20,
    "start_time": "2022-12-10T10:59:10.609Z"
   },
   {
    "duration": 15,
    "start_time": "2022-12-10T10:59:10.651Z"
   },
   {
    "duration": 14,
    "start_time": "2022-12-10T10:59:10.677Z"
   },
   {
    "duration": 6,
    "start_time": "2022-12-10T10:59:10.722Z"
   },
   {
    "duration": 20,
    "start_time": "2022-12-10T10:59:10.747Z"
   },
   {
    "duration": 12,
    "start_time": "2022-12-10T10:59:10.777Z"
   },
   {
    "duration": 20,
    "start_time": "2022-12-10T10:59:10.799Z"
   },
   {
    "duration": 16,
    "start_time": "2022-12-10T10:59:10.828Z"
   },
   {
    "duration": 5,
    "start_time": "2022-12-10T10:59:10.855Z"
   },
   {
    "duration": 10,
    "start_time": "2022-12-10T10:59:10.869Z"
   },
   {
    "duration": 7,
    "start_time": "2022-12-10T10:59:10.889Z"
   },
   {
    "duration": 17,
    "start_time": "2022-12-10T10:59:10.925Z"
   },
   {
    "duration": 13,
    "start_time": "2022-12-10T10:59:10.957Z"
   },
   {
    "duration": 0,
    "start_time": "2022-12-10T10:59:10.973Z"
   },
   {
    "duration": 0,
    "start_time": "2022-12-10T10:59:10.976Z"
   },
   {
    "duration": 0,
    "start_time": "2022-12-10T10:59:10.979Z"
   },
   {
    "duration": 0,
    "start_time": "2022-12-10T10:59:10.982Z"
   },
   {
    "duration": 0,
    "start_time": "2022-12-10T10:59:10.986Z"
   },
   {
    "duration": 0,
    "start_time": "2022-12-10T10:59:11.017Z"
   },
   {
    "duration": 0,
    "start_time": "2022-12-10T10:59:11.020Z"
   },
   {
    "duration": 0,
    "start_time": "2022-12-10T10:59:11.022Z"
   },
   {
    "duration": 0,
    "start_time": "2022-12-10T10:59:11.024Z"
   },
   {
    "duration": 0,
    "start_time": "2022-12-10T10:59:11.026Z"
   },
   {
    "duration": 0,
    "start_time": "2022-12-10T10:59:11.028Z"
   },
   {
    "duration": 0,
    "start_time": "2022-12-10T10:59:11.030Z"
   },
   {
    "duration": 0,
    "start_time": "2022-12-10T10:59:11.032Z"
   },
   {
    "duration": 0,
    "start_time": "2022-12-10T10:59:11.034Z"
   },
   {
    "duration": 0,
    "start_time": "2022-12-10T10:59:11.037Z"
   },
   {
    "duration": 0,
    "start_time": "2022-12-10T10:59:11.040Z"
   },
   {
    "duration": 1,
    "start_time": "2022-12-10T10:59:11.041Z"
   },
   {
    "duration": 0,
    "start_time": "2022-12-10T10:59:11.043Z"
   },
   {
    "duration": 0,
    "start_time": "2022-12-10T10:59:11.044Z"
   },
   {
    "duration": 0,
    "start_time": "2022-12-10T10:59:11.045Z"
   },
   {
    "duration": 3,
    "start_time": "2022-12-10T10:59:37.447Z"
   },
   {
    "duration": 40,
    "start_time": "2022-12-10T10:59:39.311Z"
   },
   {
    "duration": 13,
    "start_time": "2022-12-10T10:59:40.250Z"
   },
   {
    "duration": 13,
    "start_time": "2022-12-10T10:59:41.019Z"
   },
   {
    "duration": 7,
    "start_time": "2022-12-10T10:59:43.616Z"
   },
   {
    "duration": 12,
    "start_time": "2022-12-10T10:59:44.581Z"
   },
   {
    "duration": 4,
    "start_time": "2022-12-10T10:59:48.104Z"
   },
   {
    "duration": 14,
    "start_time": "2022-12-10T10:59:49.067Z"
   },
   {
    "duration": 6,
    "start_time": "2022-12-10T10:59:51.536Z"
   },
   {
    "duration": 5,
    "start_time": "2022-12-10T10:59:53.408Z"
   },
   {
    "duration": 6,
    "start_time": "2022-12-10T10:59:54.838Z"
   },
   {
    "duration": 6,
    "start_time": "2022-12-10T10:59:58.125Z"
   },
   {
    "duration": 8,
    "start_time": "2022-12-10T10:59:59.416Z"
   },
   {
    "duration": 5,
    "start_time": "2022-12-10T11:00:13.593Z"
   },
   {
    "duration": 7,
    "start_time": "2022-12-10T11:00:20.167Z"
   },
   {
    "duration": 5,
    "start_time": "2022-12-10T11:00:21.359Z"
   },
   {
    "duration": 11,
    "start_time": "2022-12-10T11:00:22.981Z"
   },
   {
    "duration": 18,
    "start_time": "2022-12-10T11:00:23.687Z"
   },
   {
    "duration": 5,
    "start_time": "2022-12-10T11:00:25.634Z"
   },
   {
    "duration": 7,
    "start_time": "2022-12-10T11:00:26.150Z"
   },
   {
    "duration": 7,
    "start_time": "2022-12-10T11:00:27.596Z"
   },
   {
    "duration": 1223,
    "start_time": "2022-12-10T11:00:30.430Z"
   },
   {
    "duration": 2774,
    "start_time": "2022-12-10T11:00:32.849Z"
   },
   {
    "duration": 134699,
    "start_time": "2022-12-10T11:00:38.224Z"
   },
   {
    "duration": 89,
    "start_time": "2022-12-10T11:02:52.931Z"
   },
   {
    "duration": 112,
    "start_time": "2022-12-10T11:02:53.026Z"
   },
   {
    "duration": 5,
    "start_time": "2022-12-10T11:02:53.140Z"
   },
   {
    "duration": 13,
    "start_time": "2022-12-10T11:02:53.146Z"
   },
   {
    "duration": 2366,
    "start_time": "2022-12-10T11:02:53.160Z"
   },
   {
    "duration": 662,
    "start_time": "2022-12-10T11:02:55.527Z"
   },
   {
    "duration": 5849,
    "start_time": "2022-12-10T11:02:56.191Z"
   },
   {
    "duration": 1589,
    "start_time": "2022-12-10T11:03:02.042Z"
   },
   {
    "duration": 182783,
    "start_time": "2022-12-10T11:03:03.634Z"
   },
   {
    "duration": 122306,
    "start_time": "2022-12-10T11:06:06.419Z"
   },
   {
    "duration": 1358,
    "start_time": "2022-12-10T11:08:30.251Z"
   },
   {
    "duration": 3074,
    "start_time": "2022-12-10T11:08:36.120Z"
   },
   {
    "duration": 116007,
    "start_time": "2022-12-10T11:08:46.013Z"
   },
   {
    "duration": 6,
    "start_time": "2022-12-10T11:10:42.023Z"
   },
   {
    "duration": 28,
    "start_time": "2022-12-10T11:10:42.116Z"
   },
   {
    "duration": 11,
    "start_time": "2022-12-10T11:10:42.147Z"
   },
   {
    "duration": 20,
    "start_time": "2022-12-10T11:10:42.160Z"
   },
   {
    "duration": 2391,
    "start_time": "2022-12-10T11:10:42.182Z"
   },
   {
    "duration": 633,
    "start_time": "2022-12-10T11:10:44.574Z"
   },
   {
    "duration": 6026,
    "start_time": "2022-12-10T11:10:45.209Z"
   },
   {
    "duration": 1640,
    "start_time": "2022-12-10T11:10:51.237Z"
   },
   {
    "duration": 158942,
    "start_time": "2022-12-10T11:10:52.879Z"
   },
   {
    "duration": 5,
    "start_time": "2022-12-10T11:15:29.423Z"
   },
   {
    "duration": 126,
    "start_time": "2022-12-10T11:15:29.430Z"
   },
   {
    "duration": 7,
    "start_time": "2022-12-10T11:15:29.557Z"
   },
   {
    "duration": 13,
    "start_time": "2022-12-10T11:15:29.566Z"
   },
   {
    "duration": 1871,
    "start_time": "2022-12-10T11:15:29.581Z"
   },
   {
    "duration": 549,
    "start_time": "2022-12-10T11:15:31.454Z"
   },
   {
    "duration": 4461,
    "start_time": "2022-12-10T11:15:32.004Z"
   },
   {
    "duration": 1326,
    "start_time": "2022-12-10T11:15:36.467Z"
   },
   {
    "duration": 66726,
    "start_time": "2022-12-10T11:15:37.795Z"
   },
   {
    "duration": 20397,
    "start_time": "2022-12-10T11:16:44.523Z"
   },
   {
    "duration": 1850,
    "start_time": "2022-12-10T11:18:10.339Z"
   },
   {
    "duration": 4428,
    "start_time": "2022-12-10T11:18:12.191Z"
   },
   {
    "duration": 39198,
    "start_time": "2022-12-10T11:18:16.621Z"
   },
   {
    "duration": 94,
    "start_time": "2022-12-10T11:18:55.822Z"
   },
   {
    "duration": 28,
    "start_time": "2022-12-10T11:18:55.918Z"
   },
   {
    "duration": 5,
    "start_time": "2022-12-10T11:18:55.948Z"
   },
   {
    "duration": 15,
    "start_time": "2022-12-10T11:18:55.955Z"
   },
   {
    "duration": 2763,
    "start_time": "2022-12-10T11:18:55.971Z"
   },
   {
    "duration": 718,
    "start_time": "2022-12-10T11:18:58.735Z"
   },
   {
    "duration": 6589,
    "start_time": "2022-12-10T11:18:59.456Z"
   },
   {
    "duration": 1986,
    "start_time": "2022-12-10T11:19:06.046Z"
   },
   {
    "duration": 60187,
    "start_time": "2022-12-10T11:19:08.033Z"
   },
   {
    "duration": 21703,
    "start_time": "2022-12-10T11:20:08.223Z"
   },
   {
    "duration": 7,
    "start_time": "2022-12-10T11:33:07.025Z"
   },
   {
    "duration": 7,
    "start_time": "2022-12-10T11:33:10.588Z"
   },
   {
    "duration": 6,
    "start_time": "2022-12-10T11:33:17.846Z"
   },
   {
    "duration": 7,
    "start_time": "2022-12-10T11:34:27.445Z"
   },
   {
    "duration": 7,
    "start_time": "2022-12-10T11:34:30.542Z"
   },
   {
    "duration": 6,
    "start_time": "2022-12-10T11:35:18.384Z"
   },
   {
    "duration": 8,
    "start_time": "2022-12-10T11:35:24.468Z"
   },
   {
    "duration": 7,
    "start_time": "2022-12-10T11:35:29.755Z"
   },
   {
    "duration": 6,
    "start_time": "2022-12-10T11:36:07.550Z"
   },
   {
    "duration": 4,
    "start_time": "2022-12-10T11:36:49.549Z"
   },
   {
    "duration": 11,
    "start_time": "2022-12-10T11:36:52.237Z"
   },
   {
    "duration": 5,
    "start_time": "2022-12-10T11:36:57.883Z"
   },
   {
    "duration": 47,
    "start_time": "2022-12-10T11:36:58.151Z"
   },
   {
    "duration": 20,
    "start_time": "2022-12-10T11:36:58.293Z"
   },
   {
    "duration": 18,
    "start_time": "2022-12-10T11:36:58.411Z"
   },
   {
    "duration": 5,
    "start_time": "2022-12-10T11:36:58.706Z"
   },
   {
    "duration": 13,
    "start_time": "2022-12-10T11:36:58.876Z"
   },
   {
    "duration": 4,
    "start_time": "2022-12-10T11:36:59.302Z"
   },
   {
    "duration": 11,
    "start_time": "2022-12-10T11:36:59.441Z"
   },
   {
    "duration": 6,
    "start_time": "2022-12-10T11:37:00.188Z"
   },
   {
    "duration": 6,
    "start_time": "2022-12-10T11:37:01.032Z"
   },
   {
    "duration": 5,
    "start_time": "2022-12-10T11:37:01.223Z"
   },
   {
    "duration": 5,
    "start_time": "2022-12-10T11:37:01.351Z"
   },
   {
    "duration": 7,
    "start_time": "2022-12-10T11:37:01.512Z"
   },
   {
    "duration": 4,
    "start_time": "2022-12-10T11:37:01.840Z"
   },
   {
    "duration": 7,
    "start_time": "2022-12-10T11:37:02.847Z"
   },
   {
    "duration": 6,
    "start_time": "2022-12-10T11:37:03.284Z"
   },
   {
    "duration": 11,
    "start_time": "2022-12-10T11:37:03.583Z"
   },
   {
    "duration": 20,
    "start_time": "2022-12-10T11:37:04.074Z"
   },
   {
    "duration": 4,
    "start_time": "2022-12-10T11:37:04.892Z"
   },
   {
    "duration": 8,
    "start_time": "2022-12-10T11:37:05.212Z"
   },
   {
    "duration": 4,
    "start_time": "2022-12-10T11:37:09.494Z"
   },
   {
    "duration": 14,
    "start_time": "2022-12-10T11:37:09.715Z"
   },
   {
    "duration": 5,
    "start_time": "2022-12-10T11:37:18.948Z"
   },
   {
    "duration": 11,
    "start_time": "2022-12-10T11:37:20.931Z"
   },
   {
    "duration": 2742,
    "start_time": "2022-12-10T11:37:48.783Z"
   },
   {
    "duration": 2534,
    "start_time": "2022-12-10T11:38:18.733Z"
   },
   {
    "duration": 2649,
    "start_time": "2022-12-10T11:38:37.252Z"
   },
   {
    "duration": 2744,
    "start_time": "2022-12-10T11:39:58.909Z"
   },
   {
    "duration": 979,
    "start_time": "2022-12-10T11:40:04.061Z"
   },
   {
    "duration": 1043,
    "start_time": "2022-12-10T11:40:21.891Z"
   },
   {
    "duration": 6659,
    "start_time": "2022-12-10T11:40:22.936Z"
   },
   {
    "duration": 2547,
    "start_time": "2022-12-10T11:40:29.596Z"
   },
   {
    "duration": 157778,
    "start_time": "2022-12-10T11:40:32.145Z"
   },
   {
    "duration": 990,
    "start_time": "2022-12-10T11:43:09.929Z"
   },
   {
    "duration": 0,
    "start_time": "2022-12-10T11:43:10.921Z"
   },
   {
    "duration": 0,
    "start_time": "2022-12-10T11:43:10.922Z"
   },
   {
    "duration": 0,
    "start_time": "2022-12-10T11:43:10.924Z"
   },
   {
    "duration": 0,
    "start_time": "2022-12-10T11:43:10.925Z"
   },
   {
    "duration": 0,
    "start_time": "2022-12-10T11:43:10.928Z"
   },
   {
    "duration": 37,
    "start_time": "2022-12-10T11:43:12.704Z"
   },
   {
    "duration": 15,
    "start_time": "2022-12-10T11:43:13.750Z"
   },
   {
    "duration": 13,
    "start_time": "2022-12-10T11:43:16.810Z"
   },
   {
    "duration": 7,
    "start_time": "2022-12-10T11:43:22.140Z"
   },
   {
    "duration": 6,
    "start_time": "2022-12-10T11:43:27.194Z"
   },
   {
    "duration": 15,
    "start_time": "2022-12-10T11:43:27.421Z"
   },
   {
    "duration": 40,
    "start_time": "2022-12-10T11:43:39.716Z"
   },
   {
    "duration": 13,
    "start_time": "2022-12-10T11:43:40.278Z"
   },
   {
    "duration": 11,
    "start_time": "2022-12-10T11:43:42.247Z"
   },
   {
    "duration": 3,
    "start_time": "2022-12-10T11:44:01.838Z"
   },
   {
    "duration": 13,
    "start_time": "2022-12-10T11:44:03.971Z"
   },
   {
    "duration": 7,
    "start_time": "2022-12-10T11:44:45.022Z"
   },
   {
    "duration": 41,
    "start_time": "2022-12-10T11:44:51.844Z"
   },
   {
    "duration": 15,
    "start_time": "2022-12-10T11:44:52.015Z"
   },
   {
    "duration": 12,
    "start_time": "2022-12-10T11:44:52.178Z"
   },
   {
    "duration": 5,
    "start_time": "2022-12-10T11:44:54.608Z"
   },
   {
    "duration": 11,
    "start_time": "2022-12-10T11:44:58.256Z"
   },
   {
    "duration": 14,
    "start_time": "2022-12-10T11:45:19.224Z"
   },
   {
    "duration": 6,
    "start_time": "2022-12-10T11:45:22.427Z"
   },
   {
    "duration": 4,
    "start_time": "2022-12-10T11:45:27.358Z"
   },
   {
    "duration": 5,
    "start_time": "2022-12-10T11:45:28.300Z"
   },
   {
    "duration": 4,
    "start_time": "2022-12-10T11:45:31.407Z"
   },
   {
    "duration": 6,
    "start_time": "2022-12-10T11:45:38.869Z"
   },
   {
    "duration": 5,
    "start_time": "2022-12-10T11:46:24.241Z"
   },
   {
    "duration": 18,
    "start_time": "2022-12-10T11:46:59.314Z"
   },
   {
    "duration": 49,
    "start_time": "2022-12-10T11:47:03.122Z"
   },
   {
    "duration": 21,
    "start_time": "2022-12-10T11:47:03.261Z"
   },
   {
    "duration": 12,
    "start_time": "2022-12-10T11:47:03.388Z"
   },
   {
    "duration": 5,
    "start_time": "2022-12-10T11:47:03.647Z"
   },
   {
    "duration": 11,
    "start_time": "2022-12-10T11:47:03.792Z"
   },
   {
    "duration": 15,
    "start_time": "2022-12-10T11:47:05.341Z"
   },
   {
    "duration": 5,
    "start_time": "2022-12-10T11:47:06.783Z"
   },
   {
    "duration": 4,
    "start_time": "2022-12-10T11:47:07.057Z"
   },
   {
    "duration": 8,
    "start_time": "2022-12-10T11:47:08.012Z"
   },
   {
    "duration": 5,
    "start_time": "2022-12-10T11:47:09.375Z"
   },
   {
    "duration": 6,
    "start_time": "2022-12-10T11:47:09.536Z"
   },
   {
    "duration": 4,
    "start_time": "2022-12-10T11:47:10.304Z"
   },
   {
    "duration": 9,
    "start_time": "2022-12-10T11:47:12.334Z"
   },
   {
    "duration": 7,
    "start_time": "2022-12-10T11:47:12.561Z"
   },
   {
    "duration": 22,
    "start_time": "2022-12-10T11:47:15.956Z"
   },
   {
    "duration": 16,
    "start_time": "2022-12-10T11:48:42.927Z"
   },
   {
    "duration": 14,
    "start_time": "2022-12-10T11:50:16.567Z"
   },
   {
    "duration": 9,
    "start_time": "2022-12-10T11:50:37.209Z"
   },
   {
    "duration": 19,
    "start_time": "2022-12-10T11:50:46.372Z"
   },
   {
    "duration": 5,
    "start_time": "2022-12-10T11:51:06.713Z"
   },
   {
    "duration": 5,
    "start_time": "2022-12-10T11:51:10.842Z"
   },
   {
    "duration": 10,
    "start_time": "2022-12-10T11:51:34.833Z"
   },
   {
    "duration": 15,
    "start_time": "2022-12-10T11:51:41.142Z"
   },
   {
    "duration": 10,
    "start_time": "2022-12-10T11:51:52.712Z"
   },
   {
    "duration": 22,
    "start_time": "2022-12-10T11:51:55.752Z"
   },
   {
    "duration": 7,
    "start_time": "2022-12-10T11:52:08.063Z"
   },
   {
    "duration": 41,
    "start_time": "2022-12-10T11:52:08.323Z"
   },
   {
    "duration": 15,
    "start_time": "2022-12-10T11:52:08.449Z"
   },
   {
    "duration": 11,
    "start_time": "2022-12-10T11:52:08.568Z"
   },
   {
    "duration": 4,
    "start_time": "2022-12-10T11:52:08.834Z"
   },
   {
    "duration": 11,
    "start_time": "2022-12-10T11:52:08.960Z"
   },
   {
    "duration": 11,
    "start_time": "2022-12-10T11:52:09.226Z"
   },
   {
    "duration": 5,
    "start_time": "2022-12-10T11:52:09.627Z"
   },
   {
    "duration": 5,
    "start_time": "2022-12-10T11:52:09.887Z"
   },
   {
    "duration": 3,
    "start_time": "2022-12-10T11:52:10.031Z"
   },
   {
    "duration": 4,
    "start_time": "2022-12-10T11:52:10.183Z"
   },
   {
    "duration": 5,
    "start_time": "2022-12-10T11:52:10.631Z"
   },
   {
    "duration": 4,
    "start_time": "2022-12-10T11:52:10.933Z"
   },
   {
    "duration": 8,
    "start_time": "2022-12-10T11:52:11.618Z"
   },
   {
    "duration": 6,
    "start_time": "2022-12-10T11:52:11.766Z"
   },
   {
    "duration": 20,
    "start_time": "2022-12-10T11:52:12.488Z"
   },
   {
    "duration": 4,
    "start_time": "2022-12-10T11:52:13.799Z"
   },
   {
    "duration": 10,
    "start_time": "2022-12-10T11:52:14.856Z"
   },
   {
    "duration": 7,
    "start_time": "2022-12-10T11:52:31.425Z"
   },
   {
    "duration": 6,
    "start_time": "2022-12-10T11:52:36.264Z"
   },
   {
    "duration": 8,
    "start_time": "2022-12-10T11:52:50.623Z"
   },
   {
    "duration": 8,
    "start_time": "2022-12-10T11:52:54.023Z"
   },
   {
    "duration": 10,
    "start_time": "2022-12-10T11:52:55.596Z"
   },
   {
    "duration": 9,
    "start_time": "2022-12-10T11:53:02.401Z"
   },
   {
    "duration": 2100,
    "start_time": "2022-12-10T11:53:04.634Z"
   },
   {
    "duration": 4979,
    "start_time": "2022-12-10T11:53:10.759Z"
   },
   {
    "duration": 8149,
    "start_time": "2022-12-10T11:53:18.666Z"
   },
   {
    "duration": 4,
    "start_time": "2022-12-10T11:53:29.691Z"
   },
   {
    "duration": 12,
    "start_time": "2022-12-10T11:53:30.848Z"
   },
   {
    "duration": 5,
    "start_time": "2022-12-10T11:53:32.096Z"
   },
   {
    "duration": 13,
    "start_time": "2022-12-10T11:53:32.276Z"
   },
   {
    "duration": 2707,
    "start_time": "2022-12-10T11:53:33.689Z"
   },
   {
    "duration": 1045,
    "start_time": "2022-12-10T11:53:37.999Z"
   },
   {
    "duration": 6973,
    "start_time": "2022-12-10T11:53:43.253Z"
   },
   {
    "duration": 2672,
    "start_time": "2022-12-10T11:53:50.228Z"
   },
   {
    "duration": 11414,
    "start_time": "2022-12-10T11:53:52.902Z"
   },
   {
    "duration": 3510,
    "start_time": "2022-12-10T11:54:04.318Z"
   },
   {
    "duration": 8,
    "start_time": "2022-12-10T11:55:14.943Z"
   },
   {
    "duration": 5,
    "start_time": "2022-12-10T11:55:21.959Z"
   },
   {
    "duration": 39,
    "start_time": "2022-12-10T11:55:22.270Z"
   },
   {
    "duration": 22,
    "start_time": "2022-12-10T11:55:22.424Z"
   },
   {
    "duration": 15,
    "start_time": "2022-12-10T11:55:22.581Z"
   },
   {
    "duration": 5,
    "start_time": "2022-12-10T11:55:22.936Z"
   },
   {
    "duration": 13,
    "start_time": "2022-12-10T11:55:23.092Z"
   },
   {
    "duration": 10,
    "start_time": "2022-12-10T11:55:23.449Z"
   },
   {
    "duration": 5,
    "start_time": "2022-12-10T11:55:24.081Z"
   },
   {
    "duration": 5,
    "start_time": "2022-12-10T11:55:26.268Z"
   },
   {
    "duration": 6,
    "start_time": "2022-12-10T11:55:26.399Z"
   },
   {
    "duration": 4,
    "start_time": "2022-12-10T11:55:26.728Z"
   },
   {
    "duration": 7,
    "start_time": "2022-12-10T11:55:26.735Z"
   },
   {
    "duration": 5,
    "start_time": "2022-12-10T11:55:27.116Z"
   },
   {
    "duration": 7,
    "start_time": "2022-12-10T11:55:29.074Z"
   },
   {
    "duration": 5,
    "start_time": "2022-12-10T11:55:29.267Z"
   },
   {
    "duration": 28,
    "start_time": "2022-12-10T11:55:30.001Z"
   },
   {
    "duration": 7,
    "start_time": "2022-12-10T11:55:30.366Z"
   },
   {
    "duration": 9,
    "start_time": "2022-12-10T11:55:57.371Z"
   },
   {
    "duration": 4,
    "start_time": "2022-12-10T11:58:58.326Z"
   },
   {
    "duration": 6143,
    "start_time": "2022-12-10T11:59:21.545Z"
   },
   {
    "duration": 4,
    "start_time": "2022-12-10T11:59:27.691Z"
   },
   {
    "duration": 16476,
    "start_time": "2022-12-10T11:59:38.166Z"
   },
   {
    "duration": 6,
    "start_time": "2022-12-10T11:59:54.644Z"
   },
   {
    "duration": 37293,
    "start_time": "2022-12-10T12:00:18.765Z"
   },
   {
    "duration": 6,
    "start_time": "2022-12-10T12:00:56.062Z"
   },
   {
    "duration": 5,
    "start_time": "2022-12-10T12:01:48.696Z"
   },
   {
    "duration": 42777,
    "start_time": "2022-12-10T12:01:55.119Z"
   },
   {
    "duration": 4,
    "start_time": "2022-12-10T12:02:37.898Z"
   },
   {
    "duration": 3,
    "start_time": "2022-12-10T12:02:37.916Z"
   },
   {
    "duration": 4334,
    "start_time": "2022-12-10T12:03:31.296Z"
   },
   {
    "duration": 4,
    "start_time": "2022-12-10T12:03:35.717Z"
   },
   {
    "duration": 7160,
    "start_time": "2022-12-10T12:04:01.468Z"
   },
   {
    "duration": 89,
    "start_time": "2022-12-10T12:04:08.630Z"
   },
   {
    "duration": 12403,
    "start_time": "2022-12-10T12:04:18.917Z"
   },
   {
    "duration": 5,
    "start_time": "2022-12-10T12:04:31.322Z"
   },
   {
    "duration": 4,
    "start_time": "2022-12-10T12:05:55.973Z"
   },
   {
    "duration": 12,
    "start_time": "2022-12-10T12:05:57.184Z"
   },
   {
    "duration": 4,
    "start_time": "2022-12-10T12:05:59.083Z"
   },
   {
    "duration": 14,
    "start_time": "2022-12-10T12:05:59.627Z"
   },
   {
    "duration": 3057,
    "start_time": "2022-12-10T12:06:03.804Z"
   },
   {
    "duration": 1039,
    "start_time": "2022-12-10T12:06:06.863Z"
   },
   {
    "duration": 63849,
    "start_time": "2022-12-10T12:06:09.069Z"
   },
   {
    "duration": 21922,
    "start_time": "2022-12-10T12:07:12.920Z"
   },
   {
    "duration": 4,
    "start_time": "2022-12-10T12:07:34.844Z"
   },
   {
    "duration": 92498,
    "start_time": "2022-12-10T12:11:08.187Z"
   },
   {
    "duration": 0,
    "start_time": "2022-12-10T12:12:40.687Z"
   },
   {
    "duration": 125749,
    "start_time": "2022-12-10T12:12:46.759Z"
   },
   {
    "duration": 10,
    "start_time": "2022-12-10T12:14:52.511Z"
   },
   {
    "duration": 2691,
    "start_time": "2022-12-10T12:15:07.688Z"
   },
   {
    "duration": 1093,
    "start_time": "2022-12-10T12:15:10.382Z"
   },
   {
    "duration": 181554,
    "start_time": "2022-12-10T12:15:11.478Z"
   },
   {
    "duration": 5,
    "start_time": "2022-12-10T12:18:13.034Z"
   },
   {
    "duration": 5,
    "start_time": "2022-12-10T12:18:24.465Z"
   },
   {
    "duration": 78819,
    "start_time": "2022-12-10T12:18:24.888Z"
   },
   {
    "duration": 7,
    "start_time": "2022-12-10T12:20:29.559Z"
   },
   {
    "duration": 10,
    "start_time": "2022-12-10T12:20:32.102Z"
   },
   {
    "duration": 6,
    "start_time": "2022-12-10T12:21:26.035Z"
   },
   {
    "duration": 7,
    "start_time": "2022-12-10T12:21:40.768Z"
   },
   {
    "duration": 6,
    "start_time": "2022-12-10T12:21:44.693Z"
   },
   {
    "duration": 8,
    "start_time": "2022-12-10T12:22:20.466Z"
   },
   {
    "duration": 9,
    "start_time": "2022-12-10T12:22:22.649Z"
   },
   {
    "duration": 11,
    "start_time": "2022-12-10T12:22:29.977Z"
   },
   {
    "duration": 9,
    "start_time": "2022-12-10T12:22:38.916Z"
   },
   {
    "duration": 4,
    "start_time": "2022-12-10T12:23:10.106Z"
   },
   {
    "duration": 10,
    "start_time": "2022-12-10T12:23:20.468Z"
   },
   {
    "duration": 7,
    "start_time": "2022-12-10T12:23:26.874Z"
   },
   {
    "duration": 2153,
    "start_time": "2022-12-10T12:23:31.750Z"
   },
   {
    "duration": 10,
    "start_time": "2022-12-10T12:23:33.905Z"
   },
   {
    "duration": 2463,
    "start_time": "2022-12-10T12:23:57.143Z"
   },
   {
    "duration": 8,
    "start_time": "2022-12-10T12:23:59.609Z"
   },
   {
    "duration": 65340,
    "start_time": "2022-12-10T12:23:59.619Z"
   },
   {
    "duration": 4,
    "start_time": "2022-12-10T12:25:04.962Z"
   },
   {
    "duration": 64504,
    "start_time": "2022-12-10T12:40:11.696Z"
   },
   {
    "duration": 4,
    "start_time": "2022-12-10T12:41:16.202Z"
   },
   {
    "duration": 6212,
    "start_time": "2022-12-10T12:41:16.207Z"
   },
   {
    "duration": 5,
    "start_time": "2022-12-10T12:41:22.422Z"
   },
   {
    "duration": 96,
    "start_time": "2022-12-10T12:41:22.429Z"
   },
   {
    "duration": 15,
    "start_time": "2022-12-10T12:41:22.527Z"
   },
   {
    "duration": 7,
    "start_time": "2022-12-10T12:41:22.544Z"
   },
   {
    "duration": 14,
    "start_time": "2022-12-10T12:41:22.553Z"
   },
   {
    "duration": 2813,
    "start_time": "2022-12-10T12:41:22.569Z"
   },
   {
    "duration": 1146,
    "start_time": "2022-12-10T12:41:25.384Z"
   },
   {
    "duration": 88339,
    "start_time": "2022-12-10T12:41:26.531Z"
   },
   {
    "duration": 4,
    "start_time": "2022-12-10T12:42:54.871Z"
   },
   {
    "duration": 38455,
    "start_time": "2022-12-10T12:42:54.878Z"
   },
   {
    "duration": 11190,
    "start_time": "2022-12-10T12:43:33.334Z"
   },
   {
    "duration": 7591,
    "start_time": "2022-12-10T12:43:44.528Z"
   },
   {
    "duration": 5,
    "start_time": "2022-12-10T12:43:52.328Z"
   },
   {
    "duration": 91105,
    "start_time": "2022-12-10T12:43:52.401Z"
   },
   {
    "duration": 66396,
    "start_time": "2022-12-10T12:45:43.062Z"
   },
   {
    "duration": 4,
    "start_time": "2022-12-10T12:46:49.461Z"
   },
   {
    "duration": 17552,
    "start_time": "2022-12-10T12:46:49.468Z"
   },
   {
    "duration": 6,
    "start_time": "2022-12-10T12:47:07.023Z"
   },
   {
    "duration": 95,
    "start_time": "2022-12-10T12:47:07.031Z"
   },
   {
    "duration": 15,
    "start_time": "2022-12-10T12:47:07.129Z"
   },
   {
    "duration": 6,
    "start_time": "2022-12-10T12:47:07.147Z"
   },
   {
    "duration": 22,
    "start_time": "2022-12-10T12:47:07.155Z"
   },
   {
    "duration": 2976,
    "start_time": "2022-12-10T12:47:07.179Z"
   },
   {
    "duration": 1148,
    "start_time": "2022-12-10T12:47:10.158Z"
   },
   {
    "duration": 95556,
    "start_time": "2022-12-10T12:47:11.308Z"
   },
   {
    "duration": 5,
    "start_time": "2022-12-10T12:48:46.866Z"
   },
   {
    "duration": 41298,
    "start_time": "2022-12-10T12:48:46.873Z"
   },
   {
    "duration": 6939,
    "start_time": "2022-12-10T12:49:28.178Z"
   },
   {
    "duration": 6996,
    "start_time": "2022-12-10T12:49:35.120Z"
   },
   {
    "duration": 61,
    "start_time": "2022-12-10T12:54:16.997Z"
   },
   {
    "duration": 5952,
    "start_time": "2022-12-10T12:54:42.597Z"
   },
   {
    "duration": 47,
    "start_time": "2022-12-10T12:55:03.826Z"
   },
   {
    "duration": 63932,
    "start_time": "2022-12-10T12:55:10.560Z"
   },
   {
    "duration": 5,
    "start_time": "2022-12-10T12:56:14.495Z"
   },
   {
    "duration": 11317,
    "start_time": "2022-12-10T12:56:14.502Z"
   },
   {
    "duration": 9,
    "start_time": "2022-12-10T12:56:25.824Z"
   },
   {
    "duration": 16,
    "start_time": "2022-12-10T12:56:25.917Z"
   },
   {
    "duration": 19,
    "start_time": "2022-12-10T12:56:25.935Z"
   },
   {
    "duration": 7,
    "start_time": "2022-12-10T12:56:25.958Z"
   },
   {
    "duration": 22,
    "start_time": "2022-12-10T12:56:25.967Z"
   },
   {
    "duration": 3035,
    "start_time": "2022-12-10T12:56:25.990Z"
   },
   {
    "duration": 1111,
    "start_time": "2022-12-10T12:56:29.028Z"
   },
   {
    "duration": 90590,
    "start_time": "2022-12-10T12:56:30.141Z"
   },
   {
    "duration": 6,
    "start_time": "2022-12-10T12:58:00.734Z"
   },
   {
    "duration": 38817,
    "start_time": "2022-12-10T12:58:00.741Z"
   },
   {
    "duration": 4070,
    "start_time": "2022-12-10T12:58:39.560Z"
   },
   {
    "duration": 2194,
    "start_time": "2022-12-10T12:58:43.632Z"
   },
   {
    "duration": 94188,
    "start_time": "2022-12-10T12:59:13.577Z"
   },
   {
    "duration": 4,
    "start_time": "2022-12-10T13:00:47.767Z"
   },
   {
    "duration": 122113,
    "start_time": "2022-12-10T13:01:27.065Z"
   },
   {
    "duration": 5,
    "start_time": "2022-12-10T13:03:29.180Z"
   },
   {
    "duration": 151169,
    "start_time": "2022-12-10T13:04:03.343Z"
   },
   {
    "duration": 3,
    "start_time": "2022-12-10T13:06:34.515Z"
   },
   {
    "duration": 5197,
    "start_time": "2022-12-10T13:06:34.520Z"
   },
   {
    "duration": 8,
    "start_time": "2022-12-10T13:06:39.719Z"
   },
   {
    "duration": 87,
    "start_time": "2022-12-10T13:06:39.731Z"
   },
   {
    "duration": 13,
    "start_time": "2022-12-10T13:06:39.820Z"
   },
   {
    "duration": 4,
    "start_time": "2022-12-10T13:06:39.835Z"
   },
   {
    "duration": 13,
    "start_time": "2022-12-10T13:06:39.841Z"
   },
   {
    "duration": 2840,
    "start_time": "2022-12-10T13:06:39.856Z"
   },
   {
    "duration": 1095,
    "start_time": "2022-12-10T13:06:42.699Z"
   },
   {
    "duration": 211088,
    "start_time": "2022-12-10T13:06:43.796Z"
   },
   {
    "duration": 5,
    "start_time": "2022-12-10T13:10:14.886Z"
   },
   {
    "duration": 93429,
    "start_time": "2022-12-10T13:10:14.892Z"
   },
   {
    "duration": 7701,
    "start_time": "2022-12-10T13:11:48.323Z"
   },
   {
    "duration": 3098,
    "start_time": "2022-12-10T13:11:56.027Z"
   },
   {
    "duration": 391274,
    "start_time": "2022-12-10T13:12:19.258Z"
   },
   {
    "duration": 4,
    "start_time": "2022-12-10T13:18:50.534Z"
   },
   {
    "duration": 535696,
    "start_time": "2022-12-10T13:18:50.539Z"
   },
   {
    "duration": 5,
    "start_time": "2022-12-10T13:27:46.237Z"
   },
   {
    "duration": 1126,
    "start_time": "2022-12-10T13:27:46.243Z"
   },
   {
    "duration": 235941,
    "start_time": "2022-12-10T13:27:47.371Z"
   },
   {
    "duration": 4,
    "start_time": "2022-12-10T13:31:43.315Z"
   },
   {
    "duration": 486057,
    "start_time": "2022-12-10T13:31:43.321Z"
   },
   {
    "duration": 8,
    "start_time": "2022-12-10T13:39:49.380Z"
   },
   {
    "duration": 759692,
    "start_time": "2022-12-10T13:42:15.093Z"
   },
   {
    "duration": 4,
    "start_time": "2022-12-10T13:54:54.788Z"
   },
   {
    "duration": 1121099,
    "start_time": "2022-12-10T13:54:54.794Z"
   },
   {
    "duration": 4,
    "start_time": "2022-12-10T14:13:35.895Z"
   },
   {
    "duration": 877436,
    "start_time": "2022-12-10T14:20:36.842Z"
   },
   {
    "duration": 4,
    "start_time": "2022-12-10T14:35:14.280Z"
   },
   {
    "duration": 1198,
    "start_time": "2022-12-10T14:35:14.286Z"
   },
   {
    "duration": 1274818,
    "start_time": "2022-12-10T14:35:15.486Z"
   },
   {
    "duration": 10,
    "start_time": "2022-12-10T14:56:30.306Z"
   },
   {
    "duration": 478138,
    "start_time": "2022-12-10T14:56:30.318Z"
   },
   {
    "duration": 4,
    "start_time": "2022-12-10T15:04:28.458Z"
   },
   {
    "duration": 1098,
    "start_time": "2022-12-11T05:34:10.898Z"
   },
   {
    "duration": 168,
    "start_time": "2022-12-11T05:34:11.998Z"
   },
   {
    "duration": 19,
    "start_time": "2022-12-11T05:34:12.167Z"
   },
   {
    "duration": 12,
    "start_time": "2022-12-11T05:34:12.300Z"
   },
   {
    "duration": 5,
    "start_time": "2022-12-11T05:34:13.335Z"
   },
   {
    "duration": 12,
    "start_time": "2022-12-11T05:34:14.003Z"
   },
   {
    "duration": 10,
    "start_time": "2022-12-11T05:34:15.159Z"
   },
   {
    "duration": 5,
    "start_time": "2022-12-11T05:34:16.336Z"
   },
   {
    "duration": 4,
    "start_time": "2022-12-11T05:34:17.411Z"
   },
   {
    "duration": 4,
    "start_time": "2022-12-11T05:34:17.899Z"
   },
   {
    "duration": 6,
    "start_time": "2022-12-11T05:34:18.381Z"
   },
   {
    "duration": 5,
    "start_time": "2022-12-11T05:34:19.335Z"
   },
   {
    "duration": 5,
    "start_time": "2022-12-11T05:34:20.358Z"
   },
   {
    "duration": 6,
    "start_time": "2022-12-11T05:34:22.037Z"
   },
   {
    "duration": 6,
    "start_time": "2022-12-11T05:34:22.424Z"
   },
   {
    "duration": 19,
    "start_time": "2022-12-11T05:34:23.818Z"
   },
   {
    "duration": 9,
    "start_time": "2022-12-11T05:34:24.857Z"
   },
   {
    "duration": 5,
    "start_time": "2022-12-11T05:34:28.430Z"
   },
   {
    "duration": 6,
    "start_time": "2022-12-11T05:34:28.961Z"
   },
   {
    "duration": 5,
    "start_time": "2022-12-11T05:34:31.145Z"
   },
   {
    "duration": 6,
    "start_time": "2022-12-11T05:34:31.754Z"
   },
   {
    "duration": 1931,
    "start_time": "2022-12-11T05:34:36.942Z"
   },
   {
    "duration": 3,
    "start_time": "2022-12-11T05:34:38.875Z"
   },
   {
    "duration": 791100,
    "start_time": "2022-12-11T05:34:52.628Z"
   },
   {
    "duration": 4,
    "start_time": "2022-12-11T05:48:03.731Z"
   },
   {
    "duration": 4584,
    "start_time": "2022-12-11T05:48:03.736Z"
   },
   {
    "duration": 95,
    "start_time": "2022-12-11T05:48:08.323Z"
   },
   {
    "duration": 98,
    "start_time": "2022-12-11T05:48:08.422Z"
   },
   {
    "duration": 15,
    "start_time": "2022-12-11T05:48:08.521Z"
   },
   {
    "duration": 4,
    "start_time": "2022-12-11T05:48:08.537Z"
   },
   {
    "duration": 16,
    "start_time": "2022-12-11T05:48:08.542Z"
   },
   {
    "duration": 2643,
    "start_time": "2022-12-11T05:48:08.560Z"
   },
   {
    "duration": 986,
    "start_time": "2022-12-11T05:48:11.205Z"
   },
   {
    "duration": 1155880,
    "start_time": "2022-12-11T05:48:12.193Z"
   },
   {
    "duration": 4,
    "start_time": "2022-12-11T06:07:28.075Z"
   },
   {
    "duration": 434185,
    "start_time": "2022-12-11T06:07:28.080Z"
   },
   {
    "duration": 4,
    "start_time": "2022-12-11T06:14:42.266Z"
   },
   {
    "duration": 5942,
    "start_time": "2022-12-11T06:14:42.272Z"
   },
   {
    "duration": 3401,
    "start_time": "2022-12-11T06:14:48.216Z"
   },
   {
    "duration": 93,
    "start_time": "2022-12-11T06:25:06.773Z"
   },
   {
    "duration": 4,
    "start_time": "2022-12-11T06:25:25.153Z"
   },
   {
    "duration": 36,
    "start_time": "2022-12-11T06:25:27.946Z"
   },
   {
    "duration": 13,
    "start_time": "2022-12-11T06:25:28.141Z"
   },
   {
    "duration": 12,
    "start_time": "2022-12-11T06:25:28.325Z"
   },
   {
    "duration": 4,
    "start_time": "2022-12-11T06:25:28.701Z"
   },
   {
    "duration": 21,
    "start_time": "2022-12-11T06:25:28.904Z"
   },
   {
    "duration": 10,
    "start_time": "2022-12-11T06:25:29.265Z"
   },
   {
    "duration": 4,
    "start_time": "2022-12-11T06:25:29.917Z"
   },
   {
    "duration": 5,
    "start_time": "2022-12-11T06:25:30.294Z"
   },
   {
    "duration": 5,
    "start_time": "2022-12-11T06:25:30.507Z"
   },
   {
    "duration": 4,
    "start_time": "2022-12-11T06:25:30.707Z"
   },
   {
    "duration": 5,
    "start_time": "2022-12-11T06:25:30.904Z"
   },
   {
    "duration": 5,
    "start_time": "2022-12-11T06:25:31.316Z"
   },
   {
    "duration": 7,
    "start_time": "2022-12-11T06:25:32.139Z"
   },
   {
    "duration": 6,
    "start_time": "2022-12-11T06:25:32.343Z"
   },
   {
    "duration": 21,
    "start_time": "2022-12-11T06:25:32.723Z"
   },
   {
    "duration": 8,
    "start_time": "2022-12-11T06:25:32.919Z"
   },
   {
    "duration": 5,
    "start_time": "2022-12-11T06:25:33.526Z"
   },
   {
    "duration": 6,
    "start_time": "2022-12-11T06:25:33.724Z"
   },
   {
    "duration": 6,
    "start_time": "2022-12-11T06:25:34.288Z"
   },
   {
    "duration": 6,
    "start_time": "2022-12-11T06:25:34.468Z"
   },
   {
    "duration": 2001,
    "start_time": "2022-12-11T06:25:35.029Z"
   },
   {
    "duration": 4,
    "start_time": "2022-12-11T06:25:37.032Z"
   },
   {
    "duration": 805100,
    "start_time": "2022-12-11T06:25:37.037Z"
   },
   {
    "duration": 4,
    "start_time": "2022-12-11T06:39:02.140Z"
   },
   {
    "duration": 4475,
    "start_time": "2022-12-11T06:39:02.146Z"
   },
   {
    "duration": 6,
    "start_time": "2022-12-11T06:39:06.712Z"
   },
   {
    "duration": 97,
    "start_time": "2022-12-11T06:39:06.720Z"
   },
   {
    "duration": 16,
    "start_time": "2022-12-11T06:39:06.819Z"
   },
   {
    "duration": 4,
    "start_time": "2022-12-11T06:39:06.837Z"
   },
   {
    "duration": 16,
    "start_time": "2022-12-11T06:39:06.844Z"
   },
   {
    "duration": 2620,
    "start_time": "2022-12-11T06:39:06.861Z"
   },
   {
    "duration": 1044,
    "start_time": "2022-12-11T06:39:09.483Z"
   },
   {
    "duration": 1171443,
    "start_time": "2022-12-11T06:39:10.528Z"
   },
   {
    "duration": 3,
    "start_time": "2022-12-11T06:58:41.973Z"
   },
   {
    "duration": 435802,
    "start_time": "2022-12-11T06:58:41.978Z"
   },
   {
    "duration": 3,
    "start_time": "2022-12-11T07:05:57.782Z"
   },
   {
    "duration": 6128,
    "start_time": "2022-12-11T07:05:57.786Z"
   },
   {
    "duration": 3797,
    "start_time": "2022-12-11T07:06:03.917Z"
   },
   {
    "duration": 4,
    "start_time": "2022-12-11T07:53:27.128Z"
   },
   {
    "duration": 39,
    "start_time": "2022-12-11T07:53:27.525Z"
   },
   {
    "duration": 13,
    "start_time": "2022-12-11T07:53:27.708Z"
   },
   {
    "duration": 12,
    "start_time": "2022-12-11T07:53:27.921Z"
   },
   {
    "duration": 4,
    "start_time": "2022-12-11T07:53:28.309Z"
   },
   {
    "duration": 11,
    "start_time": "2022-12-11T07:53:28.525Z"
   },
   {
    "duration": 10,
    "start_time": "2022-12-11T07:53:28.915Z"
   },
   {
    "duration": 5,
    "start_time": "2022-12-11T07:53:29.540Z"
   },
   {
    "duration": 4,
    "start_time": "2022-12-11T07:53:29.909Z"
   },
   {
    "duration": 4,
    "start_time": "2022-12-11T07:53:30.102Z"
   },
   {
    "duration": 4,
    "start_time": "2022-12-11T07:53:30.314Z"
   },
   {
    "duration": 7,
    "start_time": "2022-12-11T07:53:30.568Z"
   },
   {
    "duration": 4,
    "start_time": "2022-12-11T07:53:30.987Z"
   },
   {
    "duration": 7,
    "start_time": "2022-12-11T07:53:31.807Z"
   },
   {
    "duration": 6,
    "start_time": "2022-12-11T07:53:32.013Z"
   },
   {
    "duration": 21,
    "start_time": "2022-12-11T07:53:32.405Z"
   },
   {
    "duration": 7,
    "start_time": "2022-12-11T07:53:32.593Z"
   },
   {
    "duration": 5,
    "start_time": "2022-12-11T07:53:33.141Z"
   },
   {
    "duration": 7,
    "start_time": "2022-12-11T07:53:33.327Z"
   },
   {
    "duration": 5,
    "start_time": "2022-12-11T07:53:33.905Z"
   },
   {
    "duration": 6,
    "start_time": "2022-12-11T07:53:34.075Z"
   },
   {
    "duration": 2047,
    "start_time": "2022-12-11T07:53:34.649Z"
   },
   {
    "duration": 4,
    "start_time": "2022-12-11T07:53:36.698Z"
   },
   {
    "duration": 804980,
    "start_time": "2022-12-11T07:53:36.703Z"
   },
   {
    "duration": 4,
    "start_time": "2022-12-11T08:07:01.685Z"
   },
   {
    "duration": 4722,
    "start_time": "2022-12-11T08:07:01.690Z"
   },
   {
    "duration": 4,
    "start_time": "2022-12-11T08:07:06.414Z"
   },
   {
    "duration": 95,
    "start_time": "2022-12-11T08:07:06.419Z"
   },
   {
    "duration": 14,
    "start_time": "2022-12-11T08:07:06.516Z"
   },
   {
    "duration": 5,
    "start_time": "2022-12-11T08:07:06.531Z"
   },
   {
    "duration": 12,
    "start_time": "2022-12-11T08:07:06.539Z"
   },
   {
    "duration": 2651,
    "start_time": "2022-12-11T08:07:06.553Z"
   },
   {
    "duration": 993,
    "start_time": "2022-12-11T08:07:09.205Z"
   },
   {
    "duration": 1161139,
    "start_time": "2022-12-11T08:07:10.200Z"
   },
   {
    "duration": 3,
    "start_time": "2022-12-11T08:26:31.341Z"
   },
   {
    "duration": 439241,
    "start_time": "2022-12-11T08:26:31.346Z"
   },
   {
    "duration": 4,
    "start_time": "2022-12-11T08:33:50.589Z"
   },
   {
    "duration": 6322,
    "start_time": "2022-12-11T08:33:50.595Z"
   },
   {
    "duration": 3695,
    "start_time": "2022-12-11T08:33:56.919Z"
   },
   {
    "duration": 37,
    "start_time": "2022-12-11T09:18:36.724Z"
   },
   {
    "duration": 16,
    "start_time": "2022-12-11T09:18:36.950Z"
   },
   {
    "duration": 11,
    "start_time": "2022-12-11T09:18:37.130Z"
   },
   {
    "duration": 4,
    "start_time": "2022-12-11T09:18:37.539Z"
   },
   {
    "duration": 12,
    "start_time": "2022-12-11T09:18:37.724Z"
   },
   {
    "duration": 11,
    "start_time": "2022-12-11T09:18:38.173Z"
   },
   {
    "duration": 4,
    "start_time": "2022-12-11T09:18:38.821Z"
   },
   {
    "duration": 4,
    "start_time": "2022-12-11T09:18:39.248Z"
   },
   {
    "duration": 4,
    "start_time": "2022-12-11T09:18:39.489Z"
   },
   {
    "duration": 4,
    "start_time": "2022-12-11T09:18:39.685Z"
   },
   {
    "duration": 4,
    "start_time": "2022-12-11T09:18:39.900Z"
   },
   {
    "duration": 6,
    "start_time": "2022-12-11T09:18:40.370Z"
   },
   {
    "duration": 7,
    "start_time": "2022-12-11T09:18:41.265Z"
   },
   {
    "duration": 6,
    "start_time": "2022-12-11T09:18:41.476Z"
   },
   {
    "duration": 21,
    "start_time": "2022-12-11T09:18:41.912Z"
   },
   {
    "duration": 5,
    "start_time": "2022-12-11T09:18:42.109Z"
   },
   {
    "duration": 5,
    "start_time": "2022-12-11T09:18:42.777Z"
   },
   {
    "duration": 6,
    "start_time": "2022-12-11T09:18:42.990Z"
   },
   {
    "duration": 5,
    "start_time": "2022-12-11T09:18:43.653Z"
   },
   {
    "duration": 6,
    "start_time": "2022-12-11T09:18:43.859Z"
   },
   {
    "duration": 1996,
    "start_time": "2022-12-11T09:18:44.725Z"
   },
   {
    "duration": 3,
    "start_time": "2022-12-11T09:18:46.723Z"
   },
   {
    "duration": 4,
    "start_time": "2022-12-11T09:59:53.717Z"
   },
   {
    "duration": 39,
    "start_time": "2022-12-11T09:59:53.732Z"
   },
   {
    "duration": 14,
    "start_time": "2022-12-11T09:59:53.787Z"
   },
   {
    "duration": 15,
    "start_time": "2022-12-11T09:59:53.821Z"
   },
   {
    "duration": 4,
    "start_time": "2022-12-11T09:59:53.849Z"
   },
   {
    "duration": 15,
    "start_time": "2022-12-11T09:59:53.861Z"
   },
   {
    "duration": 11,
    "start_time": "2022-12-11T09:59:53.924Z"
   },
   {
    "duration": 6,
    "start_time": "2022-12-11T09:59:53.949Z"
   },
   {
    "duration": 9,
    "start_time": "2022-12-11T09:59:53.977Z"
   },
   {
    "duration": 8,
    "start_time": "2022-12-11T09:59:54.017Z"
   },
   {
    "duration": 6,
    "start_time": "2022-12-11T09:59:54.037Z"
   },
   {
    "duration": 18,
    "start_time": "2022-12-11T09:59:54.052Z"
   },
   {
    "duration": 8,
    "start_time": "2022-12-11T09:59:54.084Z"
   },
   {
    "duration": 0,
    "start_time": "2022-12-11T09:59:54.126Z"
   },
   {
    "duration": 0,
    "start_time": "2022-12-11T09:59:54.128Z"
   },
   {
    "duration": 0,
    "start_time": "2022-12-11T09:59:54.131Z"
   },
   {
    "duration": 0,
    "start_time": "2022-12-11T09:59:54.134Z"
   },
   {
    "duration": 0,
    "start_time": "2022-12-11T09:59:54.136Z"
   },
   {
    "duration": 0,
    "start_time": "2022-12-11T09:59:54.139Z"
   },
   {
    "duration": 0,
    "start_time": "2022-12-11T09:59:54.141Z"
   },
   {
    "duration": 0,
    "start_time": "2022-12-11T09:59:54.144Z"
   },
   {
    "duration": 0,
    "start_time": "2022-12-11T09:59:54.146Z"
   },
   {
    "duration": 0,
    "start_time": "2022-12-11T09:59:54.148Z"
   },
   {
    "duration": 0,
    "start_time": "2022-12-11T09:59:54.151Z"
   },
   {
    "duration": 0,
    "start_time": "2022-12-11T09:59:54.153Z"
   },
   {
    "duration": 0,
    "start_time": "2022-12-11T09:59:54.155Z"
   },
   {
    "duration": 0,
    "start_time": "2022-12-11T09:59:54.156Z"
   },
   {
    "duration": 0,
    "start_time": "2022-12-11T09:59:54.158Z"
   },
   {
    "duration": 0,
    "start_time": "2022-12-11T09:59:54.160Z"
   },
   {
    "duration": 0,
    "start_time": "2022-12-11T09:59:54.214Z"
   },
   {
    "duration": 0,
    "start_time": "2022-12-11T09:59:54.217Z"
   },
   {
    "duration": 0,
    "start_time": "2022-12-11T09:59:54.218Z"
   },
   {
    "duration": 0,
    "start_time": "2022-12-11T09:59:54.220Z"
   },
   {
    "duration": 0,
    "start_time": "2022-12-11T09:59:54.222Z"
   },
   {
    "duration": 0,
    "start_time": "2022-12-11T09:59:54.225Z"
   },
   {
    "duration": 0,
    "start_time": "2022-12-11T09:59:54.227Z"
   },
   {
    "duration": 0,
    "start_time": "2022-12-11T09:59:54.229Z"
   },
   {
    "duration": 0,
    "start_time": "2022-12-11T09:59:54.231Z"
   },
   {
    "duration": 0,
    "start_time": "2022-12-11T09:59:54.233Z"
   },
   {
    "duration": 7,
    "start_time": "2022-12-11T10:21:48.329Z"
   },
   {
    "duration": 7,
    "start_time": "2022-12-11T10:21:48.544Z"
   },
   {
    "duration": 20,
    "start_time": "2022-12-11T10:21:49.603Z"
   },
   {
    "duration": 6,
    "start_time": "2022-12-11T10:21:50.523Z"
   },
   {
    "duration": 6,
    "start_time": "2022-12-11T10:21:51.523Z"
   },
   {
    "duration": 6,
    "start_time": "2022-12-11T10:21:51.946Z"
   },
   {
    "duration": 6,
    "start_time": "2022-12-11T10:21:53.432Z"
   },
   {
    "duration": 6,
    "start_time": "2022-12-11T10:21:53.710Z"
   },
   {
    "duration": 2047,
    "start_time": "2022-12-11T10:21:55.285Z"
   },
   {
    "duration": 3,
    "start_time": "2022-12-11T10:21:57.334Z"
   },
   {
    "duration": 826631,
    "start_time": "2022-12-11T10:21:57.340Z"
   },
   {
    "duration": 4,
    "start_time": "2022-12-11T10:35:43.973Z"
   },
   {
    "duration": 5443,
    "start_time": "2022-12-11T10:35:43.978Z"
   },
   {
    "duration": 5,
    "start_time": "2022-12-11T10:35:49.513Z"
   },
   {
    "duration": 114,
    "start_time": "2022-12-11T10:35:49.520Z"
   },
   {
    "duration": 21,
    "start_time": "2022-12-11T10:35:49.636Z"
   },
   {
    "duration": 16,
    "start_time": "2022-12-11T10:35:49.659Z"
   },
   {
    "duration": 31,
    "start_time": "2022-12-11T10:35:49.678Z"
   },
   {
    "duration": 2718,
    "start_time": "2022-12-11T10:35:49.711Z"
   },
   {
    "duration": 1096,
    "start_time": "2022-12-11T10:35:52.431Z"
   },
   {
    "duration": 1210924,
    "start_time": "2022-12-11T10:35:53.529Z"
   },
   {
    "duration": 4,
    "start_time": "2022-12-11T10:56:04.454Z"
   },
   {
    "duration": 441949,
    "start_time": "2022-12-11T10:56:04.460Z"
   },
   {
    "duration": 6,
    "start_time": "2022-12-11T11:03:26.410Z"
   },
   {
    "duration": 6598,
    "start_time": "2022-12-11T11:03:26.418Z"
   },
   {
    "duration": 4200,
    "start_time": "2022-12-11T11:03:33.018Z"
   },
   {
    "duration": 5,
    "start_time": "2022-12-11T11:22:11.278Z"
   },
   {
    "duration": 6,
    "start_time": "2022-12-11T11:22:58.226Z"
   },
   {
    "duration": 6,
    "start_time": "2022-12-11T11:23:49.026Z"
   },
   {
    "duration": 5,
    "start_time": "2022-12-11T11:47:30.554Z"
   },
   {
    "duration": 3,
    "start_time": "2022-12-11T11:49:19.062Z"
   },
   {
    "duration": 36,
    "start_time": "2022-12-11T11:49:19.784Z"
   },
   {
    "duration": 13,
    "start_time": "2022-12-11T11:49:20.197Z"
   },
   {
    "duration": 13,
    "start_time": "2022-12-11T11:49:20.782Z"
   },
   {
    "duration": 4,
    "start_time": "2022-12-11T11:49:21.846Z"
   },
   {
    "duration": 12,
    "start_time": "2022-12-11T11:49:22.253Z"
   },
   {
    "duration": 11,
    "start_time": "2022-12-11T11:49:24.046Z"
   },
   {
    "duration": 5,
    "start_time": "2022-12-11T11:49:25.437Z"
   },
   {
    "duration": 4,
    "start_time": "2022-12-11T11:49:26.699Z"
   },
   {
    "duration": 5,
    "start_time": "2022-12-11T11:49:27.118Z"
   },
   {
    "duration": 5,
    "start_time": "2022-12-11T11:49:27.557Z"
   },
   {
    "duration": 5,
    "start_time": "2022-12-11T11:49:28.036Z"
   },
   {
    "duration": 4,
    "start_time": "2022-12-11T11:49:28.481Z"
   },
   {
    "duration": 5,
    "start_time": "2022-12-11T11:49:30.624Z"
   },
   {
    "duration": 4,
    "start_time": "2022-12-11T11:49:31.588Z"
   },
   {
    "duration": 6,
    "start_time": "2022-12-11T11:49:34.172Z"
   },
   {
    "duration": 5,
    "start_time": "2022-12-11T11:49:35.352Z"
   },
   {
    "duration": 6,
    "start_time": "2022-12-11T11:49:36.432Z"
   },
   {
    "duration": 24,
    "start_time": "2022-12-11T11:49:37.306Z"
   },
   {
    "duration": 1114,
    "start_time": "2022-12-11T11:49:37.820Z"
   },
   {
    "duration": 6,
    "start_time": "2022-12-11T11:49:50.209Z"
   },
   {
    "duration": 5,
    "start_time": "2022-12-11T11:49:51.722Z"
   },
   {
    "duration": 6,
    "start_time": "2022-12-11T11:50:20.370Z"
   },
   {
    "duration": 6,
    "start_time": "2022-12-11T11:50:21.228Z"
   },
   {
    "duration": 6,
    "start_time": "2022-12-11T11:50:23.230Z"
   },
   {
    "duration": 7,
    "start_time": "2022-12-11T11:50:26.312Z"
   },
   {
    "duration": 442,
    "start_time": "2022-12-11T11:50:39.425Z"
   },
   {
    "duration": 5,
    "start_time": "2022-12-11T11:50:44.520Z"
   },
   {
    "duration": 212674,
    "start_time": "2022-12-11T11:51:07.694Z"
   },
   {
    "duration": 5,
    "start_time": "2022-12-11T11:54:40.370Z"
   },
   {
    "duration": 6138,
    "start_time": "2022-12-11T11:54:40.377Z"
   },
   {
    "duration": 94,
    "start_time": "2022-12-11T11:54:46.518Z"
   },
   {
    "duration": 12,
    "start_time": "2022-12-11T11:54:46.639Z"
   },
   {
    "duration": 28,
    "start_time": "2022-12-11T11:54:46.653Z"
   },
   {
    "duration": 4,
    "start_time": "2022-12-11T11:54:46.683Z"
   },
   {
    "duration": 28,
    "start_time": "2022-12-11T11:54:46.688Z"
   },
   {
    "duration": 586,
    "start_time": "2022-12-11T11:54:46.718Z"
   },
   {
    "duration": 222,
    "start_time": "2022-12-11T11:54:47.305Z"
   },
   {
    "duration": 305201,
    "start_time": "2022-12-11T11:54:47.529Z"
   },
   {
    "duration": 3,
    "start_time": "2022-12-11T11:59:52.732Z"
   },
   {
    "duration": 96490,
    "start_time": "2022-12-11T11:59:52.737Z"
   },
   {
    "duration": 3,
    "start_time": "2022-12-11T12:01:29.229Z"
   },
   {
    "duration": 8385,
    "start_time": "2022-12-11T12:01:29.233Z"
   },
   {
    "duration": 3696,
    "start_time": "2022-12-11T12:01:37.620Z"
   },
   {
    "duration": 4,
    "start_time": "2022-12-11T12:02:35.708Z"
   },
   {
    "duration": 12,
    "start_time": "2022-12-11T12:02:38.131Z"
   },
   {
    "duration": 21,
    "start_time": "2022-12-11T12:04:38.177Z"
   },
   {
    "duration": 22,
    "start_time": "2022-12-11T12:04:57.632Z"
   },
   {
    "duration": 5,
    "start_time": "2022-12-11T12:05:56.680Z"
   },
   {
    "duration": 8,
    "start_time": "2022-12-11T12:05:57.034Z"
   },
   {
    "duration": 22,
    "start_time": "2022-12-11T12:05:57.831Z"
   },
   {
    "duration": 5,
    "start_time": "2022-12-11T12:06:28.149Z"
   },
   {
    "duration": 21,
    "start_time": "2022-12-11T12:06:29.112Z"
   },
   {
    "duration": 7,
    "start_time": "2022-12-11T12:06:29.681Z"
   },
   {
    "duration": 6,
    "start_time": "2022-12-11T12:06:31.634Z"
   },
   {
    "duration": 7,
    "start_time": "2022-12-11T12:06:31.839Z"
   },
   {
    "duration": 421,
    "start_time": "2022-12-11T12:06:32.454Z"
   },
   {
    "duration": 5,
    "start_time": "2022-12-11T12:06:32.878Z"
   },
   {
    "duration": 212871,
    "start_time": "2022-12-11T12:06:32.885Z"
   },
   {
    "duration": 4,
    "start_time": "2022-12-11T12:10:05.758Z"
   },
   {
    "duration": 4058,
    "start_time": "2022-12-11T12:10:05.763Z"
   },
   {
    "duration": 90,
    "start_time": "2022-12-11T12:10:09.824Z"
   },
   {
    "duration": 100,
    "start_time": "2022-12-11T12:10:09.919Z"
   },
   {
    "duration": 13,
    "start_time": "2022-12-11T12:10:10.022Z"
   },
   {
    "duration": 4,
    "start_time": "2022-12-11T12:10:10.037Z"
   },
   {
    "duration": 13,
    "start_time": "2022-12-11T12:10:10.042Z"
   },
   {
    "duration": 620,
    "start_time": "2022-12-11T12:10:10.057Z"
   },
   {
    "duration": 229,
    "start_time": "2022-12-11T12:10:10.678Z"
   },
   {
    "duration": 300338,
    "start_time": "2022-12-11T12:10:10.913Z"
   },
   {
    "duration": 3,
    "start_time": "2022-12-11T12:15:11.252Z"
   },
   {
    "duration": 94405,
    "start_time": "2022-12-11T12:15:11.256Z"
   },
   {
    "duration": 4,
    "start_time": "2022-12-11T12:16:45.663Z"
   },
   {
    "duration": 5446,
    "start_time": "2022-12-11T12:16:45.668Z"
   },
   {
    "duration": 3706,
    "start_time": "2022-12-11T12:16:51.116Z"
   },
   {
    "duration": 3,
    "start_time": "2022-12-11T12:21:16.247Z"
   },
   {
    "duration": 42,
    "start_time": "2022-12-11T12:21:16.649Z"
   },
   {
    "duration": 24,
    "start_time": "2022-12-11T12:21:16.863Z"
   },
   {
    "duration": 12,
    "start_time": "2022-12-11T12:21:17.146Z"
   },
   {
    "duration": 4,
    "start_time": "2022-12-11T12:21:17.569Z"
   },
   {
    "duration": 13,
    "start_time": "2022-12-11T12:21:17.765Z"
   },
   {
    "duration": 11,
    "start_time": "2022-12-11T12:21:18.136Z"
   },
   {
    "duration": 5,
    "start_time": "2022-12-11T12:21:18.685Z"
   },
   {
    "duration": 5,
    "start_time": "2022-12-11T12:21:19.081Z"
   },
   {
    "duration": 4,
    "start_time": "2022-12-11T12:21:19.281Z"
   },
   {
    "duration": 4,
    "start_time": "2022-12-11T12:21:19.459Z"
   },
   {
    "duration": 5,
    "start_time": "2022-12-11T12:21:19.656Z"
   },
   {
    "duration": 4,
    "start_time": "2022-12-11T12:21:19.831Z"
   },
   {
    "duration": 5,
    "start_time": "2022-12-11T12:21:20.015Z"
   },
   {
    "duration": 6,
    "start_time": "2022-12-11T12:21:20.431Z"
   },
   {
    "duration": 6,
    "start_time": "2022-12-11T12:21:21.212Z"
   },
   {
    "duration": 6,
    "start_time": "2022-12-11T12:21:21.396Z"
   },
   {
    "duration": 5,
    "start_time": "2022-12-11T12:21:21.629Z"
   },
   {
    "duration": 22,
    "start_time": "2022-12-11T12:21:22.040Z"
   },
   {
    "duration": 6,
    "start_time": "2022-12-11T12:21:22.246Z"
   },
   {
    "duration": 7,
    "start_time": "2022-12-11T12:21:22.454Z"
   },
   {
    "duration": 21,
    "start_time": "2022-12-11T12:21:22.654Z"
   },
   {
    "duration": 5,
    "start_time": "2022-12-11T12:21:23.244Z"
   },
   {
    "duration": 23,
    "start_time": "2022-12-11T12:21:23.452Z"
   },
   {
    "duration": 6,
    "start_time": "2022-12-11T12:21:23.624Z"
   },
   {
    "duration": 6,
    "start_time": "2022-12-11T12:21:24.241Z"
   },
   {
    "duration": 6,
    "start_time": "2022-12-11T12:21:24.431Z"
   },
   {
    "duration": 434,
    "start_time": "2022-12-11T12:21:25.006Z"
   },
   {
    "duration": 4,
    "start_time": "2022-12-11T12:21:25.442Z"
   },
   {
    "duration": 223080,
    "start_time": "2022-12-11T12:21:25.447Z"
   },
   {
    "duration": 4,
    "start_time": "2022-12-11T12:25:08.529Z"
   },
   {
    "duration": 5278,
    "start_time": "2022-12-11T12:25:08.535Z"
   },
   {
    "duration": 97,
    "start_time": "2022-12-11T12:25:13.815Z"
   },
   {
    "duration": 10,
    "start_time": "2022-12-11T12:25:13.914Z"
   },
   {
    "duration": 12,
    "start_time": "2022-12-11T12:25:13.926Z"
   },
   {
    "duration": 4,
    "start_time": "2022-12-11T12:25:13.940Z"
   },
   {
    "duration": 16,
    "start_time": "2022-12-11T12:25:13.946Z"
   },
   {
    "duration": 598,
    "start_time": "2022-12-11T12:25:13.964Z"
   },
   {
    "duration": 286,
    "start_time": "2022-12-11T12:25:14.565Z"
   },
   {
    "duration": 315855,
    "start_time": "2022-12-11T12:25:14.853Z"
   },
   {
    "duration": 5,
    "start_time": "2022-12-11T12:30:30.709Z"
   },
   {
    "duration": 117817,
    "start_time": "2022-12-11T12:30:30.715Z"
   },
   {
    "duration": 3,
    "start_time": "2022-12-11T12:32:28.534Z"
   },
   {
    "duration": 5478,
    "start_time": "2022-12-11T12:32:28.539Z"
   },
   {
    "duration": 4194,
    "start_time": "2022-12-11T12:32:34.020Z"
   },
   {
    "duration": 98,
    "start_time": "2022-12-11T12:37:51.606Z"
   },
   {
    "duration": 9,
    "start_time": "2022-12-11T12:37:51.928Z"
   },
   {
    "duration": 11,
    "start_time": "2022-12-11T12:37:52.312Z"
   },
   {
    "duration": 9,
    "start_time": "2022-12-11T12:37:53.479Z"
   },
   {
    "duration": 9,
    "start_time": "2022-12-11T12:37:53.968Z"
   },
   {
    "duration": 436,
    "start_time": "2022-12-11T12:38:53.657Z"
   },
   {
    "duration": 30,
    "start_time": "2022-12-11T12:39:04.337Z"
   },
   {
    "duration": 6,
    "start_time": "2022-12-11T12:39:18.447Z"
   },
   {
    "duration": 7,
    "start_time": "2022-12-11T12:39:22.311Z"
   },
   {
    "duration": 146,
    "start_time": "2022-12-11T12:39:22.917Z"
   },
   {
    "duration": 14,
    "start_time": "2022-12-11T12:39:23.816Z"
   },
   {
    "duration": 8,
    "start_time": "2022-12-11T12:39:28.251Z"
   },
   {
    "duration": 4,
    "start_time": "2022-12-11T12:39:29.800Z"
   },
   {
    "duration": 5,
    "start_time": "2022-12-11T12:46:27.390Z"
   },
   {
    "duration": 70,
    "start_time": "2022-12-11T12:46:37.814Z"
   },
   {
    "duration": 4,
    "start_time": "2022-12-11T12:46:50.841Z"
   },
   {
    "duration": 6,
    "start_time": "2022-12-11T12:47:02.736Z"
   },
   {
    "duration": 5,
    "start_time": "2022-12-11T12:47:16.193Z"
   },
   {
    "duration": 67,
    "start_time": "2022-12-11T12:56:35.939Z"
   },
   {
    "duration": 16,
    "start_time": "2022-12-11T12:58:53.411Z"
   },
   {
    "duration": 6,
    "start_time": "2022-12-11T12:58:53.728Z"
   },
   {
    "duration": 7,
    "start_time": "2022-12-11T12:58:53.963Z"
   },
   {
    "duration": 4,
    "start_time": "2022-12-11T12:58:54.219Z"
   },
   {
    "duration": 163,
    "start_time": "2022-12-11T12:58:54.596Z"
   },
   {
    "duration": 4,
    "start_time": "2022-12-11T13:00:27.828Z"
   },
   {
    "duration": 47,
    "start_time": "2022-12-11T13:00:28.337Z"
   },
   {
    "duration": 21,
    "start_time": "2022-12-11T13:00:28.561Z"
   },
   {
    "duration": 14,
    "start_time": "2022-12-11T13:00:28.771Z"
   },
   {
    "duration": 4,
    "start_time": "2022-12-11T13:00:29.176Z"
   },
   {
    "duration": 16,
    "start_time": "2022-12-11T13:00:29.386Z"
   },
   {
    "duration": 11,
    "start_time": "2022-12-11T13:00:29.753Z"
   },
   {
    "duration": 10,
    "start_time": "2022-12-11T13:00:30.334Z"
   },
   {
    "duration": 7,
    "start_time": "2022-12-11T13:00:30.719Z"
   },
   {
    "duration": 5,
    "start_time": "2022-12-11T13:00:30.936Z"
   },
   {
    "duration": 5,
    "start_time": "2022-12-11T13:00:31.318Z"
   },
   {
    "duration": 7,
    "start_time": "2022-12-11T13:00:31.503Z"
   },
   {
    "duration": 6,
    "start_time": "2022-12-11T13:00:32.103Z"
   },
   {
    "duration": 6,
    "start_time": "2022-12-11T13:00:32.289Z"
   },
   {
    "duration": 5,
    "start_time": "2022-12-11T13:00:32.480Z"
   },
   {
    "duration": 5,
    "start_time": "2022-12-11T13:00:32.660Z"
   },
   {
    "duration": 10,
    "start_time": "2022-12-11T13:00:33.643Z"
   },
   {
    "duration": 6,
    "start_time": "2022-12-11T13:00:33.801Z"
   },
   {
    "duration": 7,
    "start_time": "2022-12-11T13:00:34.001Z"
   },
   {
    "duration": 8,
    "start_time": "2022-12-11T13:00:34.366Z"
   },
   {
    "duration": 8,
    "start_time": "2022-12-11T13:00:34.558Z"
   },
   {
    "duration": 7,
    "start_time": "2022-12-11T13:00:35.157Z"
   },
   {
    "duration": 7,
    "start_time": "2022-12-11T13:00:35.451Z"
   },
   {
    "duration": 6,
    "start_time": "2022-12-11T13:00:36.034Z"
   },
   {
    "duration": 8,
    "start_time": "2022-12-11T13:00:36.249Z"
   },
   {
    "duration": 469,
    "start_time": "2022-12-11T13:00:36.872Z"
   },
   {
    "duration": 4,
    "start_time": "2022-12-11T13:00:37.343Z"
   },
   {
    "duration": 219411,
    "start_time": "2022-12-11T13:00:37.349Z"
   },
   {
    "duration": 4,
    "start_time": "2022-12-11T13:04:16.763Z"
   },
   {
    "duration": 4548,
    "start_time": "2022-12-11T13:04:16.769Z"
   },
   {
    "duration": 4,
    "start_time": "2022-12-11T13:04:21.319Z"
   },
   {
    "duration": 101,
    "start_time": "2022-12-11T13:04:21.413Z"
   },
   {
    "duration": 28,
    "start_time": "2022-12-11T13:04:21.516Z"
   },
   {
    "duration": 4,
    "start_time": "2022-12-11T13:04:21.545Z"
   },
   {
    "duration": 17,
    "start_time": "2022-12-11T13:04:21.550Z"
   },
   {
    "duration": 542,
    "start_time": "2022-12-11T13:04:21.568Z"
   },
   {
    "duration": 255,
    "start_time": "2022-12-11T13:04:22.112Z"
   },
   {
    "duration": 310550,
    "start_time": "2022-12-11T13:04:22.368Z"
   },
   {
    "duration": 116276,
    "start_time": "2022-12-11T13:09:32.921Z"
   },
   {
    "duration": 5821,
    "start_time": "2022-12-11T13:11:29.199Z"
   },
   {
    "duration": 3905,
    "start_time": "2022-12-11T13:11:35.022Z"
   },
   {
    "duration": 130,
    "start_time": "2022-12-11T13:11:39.014Z"
   },
   {
    "duration": 4,
    "start_time": "2022-12-11T13:11:39.146Z"
   },
   {
    "duration": 120,
    "start_time": "2022-12-11T13:11:39.151Z"
   },
   {
    "duration": 6,
    "start_time": "2022-12-11T13:11:39.273Z"
   },
   {
    "duration": 5,
    "start_time": "2022-12-11T13:11:39.280Z"
   },
   {
    "duration": 28,
    "start_time": "2022-12-11T13:11:39.286Z"
   },
   {
    "duration": 4,
    "start_time": "2022-12-11T13:11:39.317Z"
   },
   {
    "duration": 193,
    "start_time": "2022-12-11T13:11:39.323Z"
   },
   {
    "duration": 4,
    "start_time": "2022-12-11T13:11:39.517Z"
   },
   {
    "duration": 124,
    "start_time": "2022-12-11T13:11:39.522Z"
   },
   {
    "duration": 3371,
    "start_time": "2022-12-12T11:40:01.663Z"
   },
   {
    "duration": 43,
    "start_time": "2022-12-12T11:40:05.036Z"
   },
   {
    "duration": 18,
    "start_time": "2022-12-12T11:40:05.080Z"
   },
   {
    "duration": 11,
    "start_time": "2022-12-12T11:40:05.100Z"
   },
   {
    "duration": 4,
    "start_time": "2022-12-12T11:40:05.112Z"
   },
   {
    "duration": 14,
    "start_time": "2022-12-12T11:40:05.117Z"
   },
   {
    "duration": 24,
    "start_time": "2022-12-12T11:40:05.132Z"
   },
   {
    "duration": 4,
    "start_time": "2022-12-12T11:40:05.158Z"
   },
   {
    "duration": 9,
    "start_time": "2022-12-12T11:40:05.164Z"
   },
   {
    "duration": 7,
    "start_time": "2022-12-12T11:40:05.175Z"
   },
   {
    "duration": 8,
    "start_time": "2022-12-12T11:40:05.183Z"
   },
   {
    "duration": 5,
    "start_time": "2022-12-12T11:40:05.192Z"
   },
   {
    "duration": 7,
    "start_time": "2022-12-12T11:40:05.199Z"
   },
   {
    "duration": 7,
    "start_time": "2022-12-12T11:40:05.208Z"
   },
   {
    "duration": 6,
    "start_time": "2022-12-12T11:40:05.217Z"
   },
   {
    "duration": 34,
    "start_time": "2022-12-12T11:40:05.225Z"
   },
   {
    "duration": 11,
    "start_time": "2022-12-12T11:40:05.261Z"
   },
   {
    "duration": 11,
    "start_time": "2022-12-12T11:40:05.274Z"
   },
   {
    "duration": 6,
    "start_time": "2022-12-12T11:40:05.287Z"
   },
   {
    "duration": 6,
    "start_time": "2022-12-12T11:40:05.295Z"
   },
   {
    "duration": 10,
    "start_time": "2022-12-12T11:40:05.303Z"
   },
   {
    "duration": 4,
    "start_time": "2022-12-12T11:40:05.316Z"
   },
   {
    "duration": 15,
    "start_time": "2022-12-12T11:40:05.322Z"
   },
   {
    "duration": 17,
    "start_time": "2022-12-12T11:40:05.339Z"
   },
   {
    "duration": 13,
    "start_time": "2022-12-12T11:40:05.358Z"
   },
   {
    "duration": 492,
    "start_time": "2022-12-12T11:40:05.374Z"
   },
   {
    "duration": 4,
    "start_time": "2022-12-12T11:40:05.868Z"
   },
   {
    "duration": 247513,
    "start_time": "2022-12-12T11:40:05.876Z"
   },
   {
    "duration": 4,
    "start_time": "2022-12-12T11:44:13.390Z"
   },
   {
    "duration": 6365,
    "start_time": "2022-12-12T11:44:13.396Z"
   },
   {
    "duration": 94,
    "start_time": "2022-12-12T11:44:19.763Z"
   },
   {
    "duration": 10,
    "start_time": "2022-12-12T11:44:19.858Z"
   },
   {
    "duration": 13,
    "start_time": "2022-12-12T11:44:19.870Z"
   },
   {
    "duration": 5,
    "start_time": "2022-12-12T11:44:19.884Z"
   },
   {
    "duration": 11,
    "start_time": "2022-12-12T11:44:19.890Z"
   },
   {
    "duration": 650,
    "start_time": "2022-12-12T11:44:19.903Z"
   },
   {
    "duration": 293,
    "start_time": "2022-12-12T11:44:20.555Z"
   },
   {
    "duration": 346286,
    "start_time": "2022-12-12T11:44:20.850Z"
   },
   {
    "duration": 134141,
    "start_time": "2022-12-12T11:50:07.138Z"
   },
   {
    "duration": 9080,
    "start_time": "2022-12-12T11:52:21.281Z"
   },
   {
    "duration": 4596,
    "start_time": "2022-12-12T11:52:30.365Z"
   },
   {
    "duration": 100,
    "start_time": "2022-12-12T11:52:34.963Z"
   },
   {
    "duration": 4,
    "start_time": "2022-12-12T11:52:35.065Z"
   },
   {
    "duration": 142,
    "start_time": "2022-12-12T11:52:35.071Z"
   },
   {
    "duration": 7,
    "start_time": "2022-12-12T11:52:35.215Z"
   },
   {
    "duration": 13,
    "start_time": "2022-12-12T11:52:35.223Z"
   },
   {
    "duration": 25,
    "start_time": "2022-12-12T11:52:35.238Z"
   },
   {
    "duration": 93,
    "start_time": "2022-12-12T11:52:35.266Z"
   },
   {
    "duration": 99,
    "start_time": "2022-12-12T11:52:35.364Z"
   },
   {
    "duration": 9,
    "start_time": "2022-12-12T11:52:35.464Z"
   },
   {
    "duration": 126,
    "start_time": "2022-12-12T11:52:35.475Z"
   },
   {
    "duration": 24,
    "start_time": "2022-12-12T12:17:28.606Z"
   },
   {
    "duration": 74,
    "start_time": "2022-12-18T11:50:16.558Z"
   },
   {
    "duration": 45,
    "start_time": "2022-12-18T12:02:23.421Z"
   },
   {
    "duration": 5,
    "start_time": "2022-12-18T12:02:28.309Z"
   },
   {
    "duration": 1558,
    "start_time": "2022-12-18T12:03:18.518Z"
   },
   {
    "duration": 3,
    "start_time": "2022-12-18T12:03:34.808Z"
   },
   {
    "duration": 4,
    "start_time": "2022-12-18T12:03:40.936Z"
   },
   {
    "duration": 154,
    "start_time": "2022-12-18T12:03:42.874Z"
   },
   {
    "duration": 18,
    "start_time": "2022-12-18T12:03:43.726Z"
   },
   {
    "duration": 17,
    "start_time": "2022-12-18T12:03:44.358Z"
   },
   {
    "duration": 5,
    "start_time": "2022-12-18T12:03:46.323Z"
   },
   {
    "duration": 13,
    "start_time": "2022-12-18T12:03:46.891Z"
   },
   {
    "duration": 12,
    "start_time": "2022-12-18T12:03:48.567Z"
   },
   {
    "duration": 5,
    "start_time": "2022-12-18T12:03:50.474Z"
   },
   {
    "duration": 5,
    "start_time": "2022-12-18T12:03:51.712Z"
   },
   {
    "duration": 5,
    "start_time": "2022-12-18T12:03:52.207Z"
   },
   {
    "duration": 7,
    "start_time": "2022-12-18T12:03:53.146Z"
   },
   {
    "duration": 5,
    "start_time": "2022-12-18T12:03:53.604Z"
   },
   {
    "duration": 5,
    "start_time": "2022-12-18T12:03:55.420Z"
   },
   {
    "duration": 5,
    "start_time": "2022-12-18T12:03:56.098Z"
   },
   {
    "duration": 5,
    "start_time": "2022-12-18T12:03:57.233Z"
   },
   {
    "duration": 4,
    "start_time": "2022-12-18T12:03:57.942Z"
   },
   {
    "duration": 4,
    "start_time": "2022-12-18T12:04:02.710Z"
   },
   {
    "duration": 3,
    "start_time": "2022-12-18T12:04:03.324Z"
   },
   {
    "duration": 2,
    "start_time": "2022-12-18T12:04:03.839Z"
   },
   {
    "duration": 2,
    "start_time": "2022-12-18T12:04:07.339Z"
   },
   {
    "duration": 3,
    "start_time": "2022-12-18T12:04:07.828Z"
   },
   {
    "duration": 4,
    "start_time": "2022-12-18T12:04:14.254Z"
   },
   {
    "duration": 6,
    "start_time": "2022-12-18T12:04:16.210Z"
   },
   {
    "duration": 5,
    "start_time": "2022-12-18T12:04:17.155Z"
   },
   {
    "duration": 6,
    "start_time": "2022-12-18T12:04:17.946Z"
   },
   {
    "duration": 3,
    "start_time": "2022-12-18T12:04:22.444Z"
   },
   {
    "duration": 3,
    "start_time": "2022-12-18T12:08:16.067Z"
   },
   {
    "duration": 82,
    "start_time": "2022-12-18T12:08:16.549Z"
   },
   {
    "duration": 71,
    "start_time": "2022-12-18T12:08:25.223Z"
   },
   {
    "duration": 18,
    "start_time": "2022-12-18T12:08:42.198Z"
   },
   {
    "duration": 12,
    "start_time": "2022-12-18T12:10:24.220Z"
   },
   {
    "duration": 12,
    "start_time": "2022-12-18T12:10:30.766Z"
   },
   {
    "duration": 15,
    "start_time": "2022-12-18T12:10:52.552Z"
   },
   {
    "duration": 76,
    "start_time": "2022-12-18T12:12:07.132Z"
   },
   {
    "duration": 4,
    "start_time": "2022-12-18T12:12:28.224Z"
   },
   {
    "duration": 65,
    "start_time": "2022-12-18T12:12:35.534Z"
   },
   {
    "duration": 72,
    "start_time": "2022-12-18T12:12:40.541Z"
   },
   {
    "duration": 69,
    "start_time": "2022-12-18T12:12:55.411Z"
   },
   {
    "duration": 17,
    "start_time": "2022-12-18T12:13:02.646Z"
   },
   {
    "duration": 14,
    "start_time": "2022-12-18T12:13:14.717Z"
   },
   {
    "duration": 15,
    "start_time": "2022-12-18T12:13:25.016Z"
   },
   {
    "duration": 4,
    "start_time": "2022-12-18T12:13:46.357Z"
   },
   {
    "duration": 6,
    "start_time": "2022-12-18T12:13:48.017Z"
   },
   {
    "duration": 7,
    "start_time": "2022-12-18T12:13:48.688Z"
   },
   {
    "duration": 6,
    "start_time": "2022-12-18T12:13:49.426Z"
   },
   {
    "duration": 2,
    "start_time": "2022-12-18T12:13:50.761Z"
   },
   {
    "duration": 122,
    "start_time": "2022-12-18T12:13:51.350Z"
   },
   {
    "duration": 18,
    "start_time": "2022-12-18T12:14:07.566Z"
   },
   {
    "duration": 16,
    "start_time": "2022-12-18T12:14:53.854Z"
   },
   {
    "duration": 115,
    "start_time": "2022-12-18T12:15:09.828Z"
   },
   {
    "duration": 17,
    "start_time": "2022-12-18T12:15:41.951Z"
   },
   {
    "duration": 126,
    "start_time": "2022-12-18T12:16:32.437Z"
   },
   {
    "duration": 79,
    "start_time": "2022-12-18T12:16:34.950Z"
   },
   {
    "duration": 4,
    "start_time": "2022-12-18T12:18:00.494Z"
   },
   {
    "duration": 8,
    "start_time": "2022-12-18T12:18:53.855Z"
   },
   {
    "duration": 113,
    "start_time": "2022-12-18T12:19:05.172Z"
   },
   {
    "duration": 6,
    "start_time": "2022-12-18T12:19:31.829Z"
   },
   {
    "duration": 13,
    "start_time": "2022-12-18T12:19:45.579Z"
   },
   {
    "duration": 16,
    "start_time": "2022-12-18T12:21:16.109Z"
   },
   {
    "duration": 4,
    "start_time": "2022-12-18T12:22:39.355Z"
   },
   {
    "duration": 11,
    "start_time": "2022-12-18T12:23:20.634Z"
   },
   {
    "duration": 11,
    "start_time": "2022-12-18T12:23:29.914Z"
   },
   {
    "duration": 4,
    "start_time": "2022-12-18T12:24:44.954Z"
   },
   {
    "duration": 5,
    "start_time": "2022-12-18T12:25:24.200Z"
   },
   {
    "duration": 8,
    "start_time": "2022-12-18T12:25:31.712Z"
   },
   {
    "duration": 5,
    "start_time": "2022-12-18T12:27:45.333Z"
   },
   {
    "duration": 8,
    "start_time": "2022-12-18T12:28:51.265Z"
   },
   {
    "duration": 67,
    "start_time": "2022-12-18T12:30:05.625Z"
   },
   {
    "duration": 12,
    "start_time": "2022-12-18T12:30:11.928Z"
   },
   {
    "duration": 16,
    "start_time": "2022-12-18T12:30:41.525Z"
   },
   {
    "duration": 17,
    "start_time": "2022-12-18T13:06:14.403Z"
   },
   {
    "duration": 16,
    "start_time": "2022-12-18T13:07:13.770Z"
   },
   {
    "duration": 16,
    "start_time": "2022-12-18T13:10:21.212Z"
   },
   {
    "duration": 72,
    "start_time": "2022-12-18T13:11:59.154Z"
   },
   {
    "duration": 8,
    "start_time": "2022-12-18T13:12:05.317Z"
   },
   {
    "duration": 21,
    "start_time": "2022-12-18T13:12:12.734Z"
   },
   {
    "duration": 7,
    "start_time": "2022-12-18T13:13:19.218Z"
   },
   {
    "duration": 6,
    "start_time": "2022-12-18T13:13:19.487Z"
   },
   {
    "duration": 6,
    "start_time": "2022-12-18T13:13:20.004Z"
   },
   {
    "duration": 4,
    "start_time": "2022-12-18T13:13:23.653Z"
   },
   {
    "duration": 10,
    "start_time": "2022-12-18T13:13:24.924Z"
   },
   {
    "duration": 20,
    "start_time": "2022-12-18T13:13:26.303Z"
   },
   {
    "duration": 19,
    "start_time": "2022-12-18T13:15:30.949Z"
   },
   {
    "duration": 9,
    "start_time": "2022-12-18T13:16:06.845Z"
   },
   {
    "duration": 23,
    "start_time": "2022-12-18T13:17:10.234Z"
   },
   {
    "duration": 8,
    "start_time": "2022-12-18T13:18:16.187Z"
   },
   {
    "duration": 2,
    "start_time": "2022-12-18T13:21:13.941Z"
   },
   {
    "duration": 22,
    "start_time": "2022-12-18T13:21:54.934Z"
   },
   {
    "duration": 1109,
    "start_time": "2022-12-18T13:23:01.031Z"
   },
   {
    "duration": 4,
    "start_time": "2022-12-18T13:23:19.676Z"
   },
   {
    "duration": 12,
    "start_time": "2022-12-18T13:23:24.616Z"
   },
   {
    "duration": 12,
    "start_time": "2022-12-18T13:23:48.509Z"
   },
   {
    "duration": 4,
    "start_time": "2022-12-18T13:25:34.546Z"
   },
   {
    "duration": 11,
    "start_time": "2022-12-18T13:26:22.774Z"
   },
   {
    "duration": 3,
    "start_time": "2022-12-18T13:26:29.818Z"
   },
   {
    "duration": 3,
    "start_time": "2022-12-18T13:26:44.820Z"
   },
   {
    "duration": 3,
    "start_time": "2022-12-18T13:26:55.377Z"
   },
   {
    "duration": 14,
    "start_time": "2022-12-18T13:26:59.829Z"
   },
   {
    "duration": 10,
    "start_time": "2022-12-18T13:27:24.268Z"
   },
   {
    "duration": 11,
    "start_time": "2022-12-18T13:27:30.571Z"
   },
   {
    "duration": 12,
    "start_time": "2022-12-18T13:27:34.044Z"
   },
   {
    "duration": 6,
    "start_time": "2022-12-18T13:27:47.166Z"
   },
   {
    "duration": 5,
    "start_time": "2022-12-18T13:27:57.754Z"
   },
   {
    "duration": 4,
    "start_time": "2022-12-18T13:28:00.662Z"
   },
   {
    "duration": 4,
    "start_time": "2022-12-18T13:28:03.371Z"
   },
   {
    "duration": 4,
    "start_time": "2022-12-18T13:28:54.244Z"
   },
   {
    "duration": 13,
    "start_time": "2022-12-18T13:32:04.668Z"
   },
   {
    "duration": 8,
    "start_time": "2022-12-18T13:33:19.941Z"
   },
   {
    "duration": 11,
    "start_time": "2022-12-18T13:34:12.010Z"
   },
   {
    "duration": 9,
    "start_time": "2022-12-18T13:35:58.654Z"
   },
   {
    "duration": 9,
    "start_time": "2022-12-18T13:35:59.178Z"
   },
   {
    "duration": 11,
    "start_time": "2022-12-18T13:35:59.609Z"
   },
   {
    "duration": 10,
    "start_time": "2022-12-18T13:36:00.078Z"
   },
   {
    "duration": 170,
    "start_time": "2022-12-18T13:36:49.574Z"
   },
   {
    "duration": 7,
    "start_time": "2022-12-18T13:46:45.766Z"
   },
   {
    "duration": 38,
    "start_time": "2022-12-18T13:46:46.618Z"
   },
   {
    "duration": 16,
    "start_time": "2022-12-18T13:46:46.892Z"
   },
   {
    "duration": 12,
    "start_time": "2022-12-18T13:46:47.166Z"
   },
   {
    "duration": 5,
    "start_time": "2022-12-18T13:46:47.893Z"
   },
   {
    "duration": 13,
    "start_time": "2022-12-18T13:46:48.157Z"
   },
   {
    "duration": 11,
    "start_time": "2022-12-18T13:46:48.921Z"
   },
   {
    "duration": 5,
    "start_time": "2022-12-18T13:46:49.622Z"
   },
   {
    "duration": 5,
    "start_time": "2022-12-18T13:46:50.080Z"
   },
   {
    "duration": 5,
    "start_time": "2022-12-18T13:46:50.323Z"
   },
   {
    "duration": 5,
    "start_time": "2022-12-18T13:46:50.759Z"
   },
   {
    "duration": 6,
    "start_time": "2022-12-18T13:46:50.992Z"
   },
   {
    "duration": 3,
    "start_time": "2022-12-18T13:46:51.828Z"
   },
   {
    "duration": 5,
    "start_time": "2022-12-18T13:46:52.060Z"
   },
   {
    "duration": 5,
    "start_time": "2022-12-18T13:46:52.325Z"
   },
   {
    "duration": 4,
    "start_time": "2022-12-18T13:46:52.536Z"
   },
   {
    "duration": 3,
    "start_time": "2022-12-18T13:46:54.176Z"
   },
   {
    "duration": 2,
    "start_time": "2022-12-18T13:46:54.420Z"
   },
   {
    "duration": 2,
    "start_time": "2022-12-18T13:46:54.670Z"
   },
   {
    "duration": 2,
    "start_time": "2022-12-18T13:46:56.093Z"
   },
   {
    "duration": 2,
    "start_time": "2022-12-18T13:46:56.335Z"
   },
   {
    "duration": 4,
    "start_time": "2022-12-18T13:46:57.771Z"
   },
   {
    "duration": 6,
    "start_time": "2022-12-18T13:46:57.983Z"
   },
   {
    "duration": 7,
    "start_time": "2022-12-18T13:46:58.255Z"
   },
   {
    "duration": 7,
    "start_time": "2022-12-18T13:46:58.518Z"
   },
   {
    "duration": 4,
    "start_time": "2022-12-18T13:46:59.478Z"
   },
   {
    "duration": 8,
    "start_time": "2022-12-18T13:46:59.719Z"
   },
   {
    "duration": 10,
    "start_time": "2022-12-18T13:47:00.718Z"
   },
   {
    "duration": 9,
    "start_time": "2022-12-18T13:47:01.118Z"
   },
   {
    "duration": 3,
    "start_time": "2022-12-18T13:47:01.572Z"
   },
   {
    "duration": 8,
    "start_time": "2022-12-18T13:47:02.067Z"
   },
   {
    "duration": 8,
    "start_time": "2022-12-18T13:47:02.518Z"
   },
   {
    "duration": 8,
    "start_time": "2022-12-18T13:47:02.888Z"
   },
   {
    "duration": 9,
    "start_time": "2022-12-18T13:47:03.216Z"
   },
   {
    "duration": 8,
    "start_time": "2022-12-18T13:47:03.516Z"
   },
   {
    "duration": 8,
    "start_time": "2022-12-18T13:47:03.858Z"
   },
   {
    "duration": 9,
    "start_time": "2022-12-18T13:47:04.219Z"
   },
   {
    "duration": 5,
    "start_time": "2022-12-18T13:47:05.139Z"
   },
   {
    "duration": 6,
    "start_time": "2022-12-18T13:47:06.016Z"
   },
   {
    "duration": 130,
    "start_time": "2022-12-18T13:47:09.044Z"
   },
   {
    "duration": 7,
    "start_time": "2022-12-18T13:50:08.236Z"
   },
   {
    "duration": 2,
    "start_time": "2022-12-18T13:50:09.491Z"
   },
   {
    "duration": 8,
    "start_time": "2022-12-18T13:50:14.443Z"
   },
   {
    "duration": 7,
    "start_time": "2022-12-18T13:50:14.784Z"
   },
   {
    "duration": 9,
    "start_time": "2022-12-18T13:50:15.121Z"
   },
   {
    "duration": 8,
    "start_time": "2022-12-18T13:50:15.389Z"
   },
   {
    "duration": 9,
    "start_time": "2022-12-18T13:50:15.723Z"
   },
   {
    "duration": 7,
    "start_time": "2022-12-18T13:50:16.516Z"
   },
   {
    "duration": 8,
    "start_time": "2022-12-18T13:50:17.177Z"
   },
   {
    "duration": 5,
    "start_time": "2022-12-18T13:50:21.089Z"
   },
   {
    "duration": 6,
    "start_time": "2022-12-18T13:50:21.366Z"
   },
   {
    "duration": 268,
    "start_time": "2022-12-18T13:50:23.179Z"
   },
   {
    "duration": 20,
    "start_time": "2022-12-18T13:50:44.282Z"
   },
   {
    "duration": 20,
    "start_time": "2022-12-18T13:51:31.949Z"
   },
   {
    "duration": 20,
    "start_time": "2022-12-18T13:51:45.649Z"
   },
   {
    "duration": 307,
    "start_time": "2022-12-18T13:52:18.239Z"
   },
   {
    "duration": 302,
    "start_time": "2022-12-18T13:53:08.882Z"
   },
   {
    "duration": 286,
    "start_time": "2022-12-18T13:54:37.138Z"
   },
   {
    "duration": 4,
    "start_time": "2022-12-18T13:55:51.861Z"
   },
   {
    "duration": 273,
    "start_time": "2022-12-18T13:56:32.794Z"
   },
   {
    "duration": 265,
    "start_time": "2022-12-18T14:00:23.536Z"
   },
   {
    "duration": 128938,
    "start_time": "2022-12-18T14:01:24.049Z"
   },
   {
    "duration": 17,
    "start_time": "2022-12-18T14:03:32.989Z"
   },
   {
    "duration": 7950,
    "start_time": "2022-12-18T14:03:33.011Z"
   },
   {
    "duration": 4,
    "start_time": "2022-12-18T14:03:40.963Z"
   },
   {
    "duration": 5,
    "start_time": "2022-12-18T14:13:50.886Z"
   },
   {
    "duration": 8662,
    "start_time": "2022-12-18T14:13:51.702Z"
   },
   {
    "duration": 5,
    "start_time": "2022-12-18T14:14:00.366Z"
   },
   {
    "duration": 4,
    "start_time": "2022-12-18T14:14:02.649Z"
   },
   {
    "duration": 10,
    "start_time": "2022-12-18T14:14:04.122Z"
   },
   {
    "duration": 5,
    "start_time": "2022-12-18T14:14:04.962Z"
   },
   {
    "duration": 12,
    "start_time": "2022-12-18T14:14:07.626Z"
   },
   {
    "duration": 9,
    "start_time": "2022-12-18T14:15:51.824Z"
   },
   {
    "duration": 14,
    "start_time": "2022-12-18T14:16:09.306Z"
   },
   {
    "duration": 13,
    "start_time": "2022-12-18T14:16:20.917Z"
   },
   {
    "duration": 20,
    "start_time": "2022-12-18T14:17:24.997Z"
   },
   {
    "duration": 7583,
    "start_time": "2022-12-18T14:17:59.784Z"
   },
   {
    "duration": 24,
    "start_time": "2022-12-18T14:18:08.862Z"
   },
   {
    "duration": 22,
    "start_time": "2022-12-18T14:18:28.793Z"
   },
   {
    "duration": 2448,
    "start_time": "2022-12-18T14:18:45.649Z"
   },
   {
    "duration": 1301,
    "start_time": "2022-12-18T14:18:49.777Z"
   },
   {
    "duration": 51,
    "start_time": "2022-12-18T14:19:00.624Z"
   },
   {
    "duration": 28,
    "start_time": "2022-12-18T14:19:01.062Z"
   },
   {
    "duration": 19,
    "start_time": "2022-12-18T14:19:01.539Z"
   },
   {
    "duration": 4,
    "start_time": "2022-12-18T14:19:02.970Z"
   },
   {
    "duration": 16,
    "start_time": "2022-12-18T14:19:03.427Z"
   },
   {
    "duration": 11,
    "start_time": "2022-12-18T14:19:04.972Z"
   },
   {
    "duration": 5,
    "start_time": "2022-12-18T14:19:07.368Z"
   },
   {
    "duration": 7,
    "start_time": "2022-12-18T14:19:08.101Z"
   },
   {
    "duration": 5,
    "start_time": "2022-12-18T14:19:08.443Z"
   },
   {
    "duration": 6,
    "start_time": "2022-12-18T14:19:09.071Z"
   },
   {
    "duration": 6,
    "start_time": "2022-12-18T14:19:09.391Z"
   },
   {
    "duration": 4,
    "start_time": "2022-12-18T14:19:10.465Z"
   },
   {
    "duration": 5,
    "start_time": "2022-12-18T14:19:10.850Z"
   },
   {
    "duration": 5,
    "start_time": "2022-12-18T14:19:11.274Z"
   },
   {
    "duration": 5,
    "start_time": "2022-12-18T14:19:11.670Z"
   },
   {
    "duration": 3,
    "start_time": "2022-12-18T14:19:14.148Z"
   },
   {
    "duration": 3,
    "start_time": "2022-12-18T14:19:14.781Z"
   },
   {
    "duration": 2,
    "start_time": "2022-12-18T14:19:15.100Z"
   },
   {
    "duration": 2,
    "start_time": "2022-12-18T14:19:17.366Z"
   },
   {
    "duration": 2,
    "start_time": "2022-12-18T14:19:17.833Z"
   },
   {
    "duration": 6,
    "start_time": "2022-12-18T14:19:19.931Z"
   },
   {
    "duration": 8,
    "start_time": "2022-12-18T14:19:20.468Z"
   },
   {
    "duration": 7,
    "start_time": "2022-12-18T14:19:21.283Z"
   },
   {
    "duration": 7,
    "start_time": "2022-12-18T14:19:21.747Z"
   },
   {
    "duration": 7,
    "start_time": "2022-12-18T14:19:23.372Z"
   },
   {
    "duration": 9,
    "start_time": "2022-12-18T14:19:29.722Z"
   },
   {
    "duration": 10,
    "start_time": "2022-12-18T14:19:33.114Z"
   },
   {
    "duration": 8,
    "start_time": "2022-12-18T14:19:33.529Z"
   },
   {
    "duration": 6,
    "start_time": "2022-12-18T14:19:33.942Z"
   },
   {
    "duration": 3,
    "start_time": "2022-12-18T14:19:34.339Z"
   },
   {
    "duration": 8,
    "start_time": "2022-12-18T14:19:34.755Z"
   },
   {
    "duration": 115,
    "start_time": "2022-12-18T14:19:35.149Z"
   },
   {
    "duration": 10,
    "start_time": "2022-12-18T14:19:36.314Z"
   },
   {
    "duration": 12,
    "start_time": "2022-12-18T14:19:36.670Z"
   },
   {
    "duration": 9,
    "start_time": "2022-12-18T14:20:25.185Z"
   },
   {
    "duration": 7,
    "start_time": "2022-12-18T14:20:33.059Z"
   },
   {
    "duration": 9,
    "start_time": "2022-12-18T14:20:33.418Z"
   },
   {
    "duration": 13,
    "start_time": "2022-12-18T14:20:34.163Z"
   },
   {
    "duration": 9,
    "start_time": "2022-12-18T14:20:35.064Z"
   },
   {
    "duration": 8,
    "start_time": "2022-12-18T14:20:39.216Z"
   },
   {
    "duration": 9,
    "start_time": "2022-12-18T14:20:40.738Z"
   },
   {
    "duration": 32,
    "start_time": "2022-12-18T14:20:41.289Z"
   },
   {
    "duration": 5,
    "start_time": "2022-12-18T14:20:43.174Z"
   },
   {
    "duration": 5,
    "start_time": "2022-12-18T14:20:43.491Z"
   },
   {
    "duration": 285,
    "start_time": "2022-12-18T14:20:44.761Z"
   },
   {
    "duration": 5,
    "start_time": "2022-12-18T14:20:50.117Z"
   },
   {
    "duration": 130630,
    "start_time": "2022-12-18T14:20:50.521Z"
   },
   {
    "duration": 4,
    "start_time": "2022-12-18T14:23:01.153Z"
   },
   {
    "duration": 11902,
    "start_time": "2022-12-18T14:23:01.158Z"
   },
   {
    "duration": 4,
    "start_time": "2022-12-18T14:23:13.062Z"
   },
   {
    "duration": 6,
    "start_time": "2022-12-18T14:23:13.068Z"
   },
   {
    "duration": 18,
    "start_time": "2022-12-18T14:23:13.076Z"
   },
   {
    "duration": 22,
    "start_time": "2022-12-18T14:23:13.095Z"
   },
   {
    "duration": 17,
    "start_time": "2022-12-18T14:23:13.119Z"
   },
   {
    "duration": 0,
    "start_time": "2022-12-18T14:23:13.167Z"
   },
   {
    "duration": 0,
    "start_time": "2022-12-18T14:23:13.168Z"
   },
   {
    "duration": 26,
    "start_time": "2022-12-18T14:24:08.804Z"
   },
   {
    "duration": 24,
    "start_time": "2022-12-18T14:24:39.299Z"
   },
   {
    "duration": 8,
    "start_time": "2022-12-18T14:24:48.940Z"
   },
   {
    "duration": 4,
    "start_time": "2022-12-18T14:26:04.157Z"
   },
   {
    "duration": 8,
    "start_time": "2022-12-18T14:26:18.663Z"
   },
   {
    "duration": 203,
    "start_time": "2022-12-18T14:27:10.217Z"
   },
   {
    "duration": 1644,
    "start_time": "2022-12-23T21:34:03.450Z"
   },
   {
    "duration": 6278,
    "start_time": "2022-12-23T21:34:50.397Z"
   },
   {
    "duration": 21,
    "start_time": "2022-12-23T21:34:56.677Z"
   },
   {
    "duration": 17,
    "start_time": "2022-12-23T21:35:09.100Z"
   },
   {
    "duration": 1323,
    "start_time": "2022-12-23T21:37:21.401Z"
   },
   {
    "duration": 83,
    "start_time": "2022-12-23T21:37:27.161Z"
   },
   {
    "duration": 18,
    "start_time": "2022-12-23T21:37:27.491Z"
   },
   {
    "duration": 17,
    "start_time": "2022-12-23T21:37:27.870Z"
   },
   {
    "duration": 5,
    "start_time": "2022-12-23T21:37:28.756Z"
   },
   {
    "duration": 16,
    "start_time": "2022-12-23T21:37:28.973Z"
   },
   {
    "duration": 11,
    "start_time": "2022-12-23T21:37:30.900Z"
   },
   {
    "duration": 5,
    "start_time": "2022-12-23T21:37:33.352Z"
   },
   {
    "duration": 4,
    "start_time": "2022-12-23T21:37:50.351Z"
   },
   {
    "duration": 11,
    "start_time": "2022-12-23T21:37:50.694Z"
   },
   {
    "duration": 10,
    "start_time": "2022-12-23T21:37:55.297Z"
   },
   {
    "duration": 4,
    "start_time": "2022-12-23T21:37:57.319Z"
   },
   {
    "duration": 4,
    "start_time": "2022-12-23T21:37:58.952Z"
   },
   {
    "duration": 4,
    "start_time": "2022-12-23T21:37:59.589Z"
   },
   {
    "duration": 5,
    "start_time": "2022-12-23T21:38:01.799Z"
   },
   {
    "duration": 4,
    "start_time": "2022-12-23T21:38:04.461Z"
   },
   {
    "duration": 4,
    "start_time": "2022-12-23T21:38:05.469Z"
   },
   {
    "duration": 4,
    "start_time": "2022-12-23T21:38:05.782Z"
   },
   {
    "duration": 5,
    "start_time": "2022-12-23T21:38:06.251Z"
   },
   {
    "duration": 5,
    "start_time": "2022-12-23T21:38:06.652Z"
   },
   {
    "duration": 3,
    "start_time": "2022-12-23T21:38:08.963Z"
   },
   {
    "duration": 2,
    "start_time": "2022-12-23T21:38:09.456Z"
   },
   {
    "duration": 3,
    "start_time": "2022-12-23T21:38:10.162Z"
   },
   {
    "duration": 3,
    "start_time": "2022-12-23T21:38:12.872Z"
   },
   {
    "duration": 3,
    "start_time": "2022-12-23T21:38:13.162Z"
   },
   {
    "duration": 4,
    "start_time": "2022-12-23T21:38:14.572Z"
   },
   {
    "duration": 6,
    "start_time": "2022-12-23T21:38:14.779Z"
   },
   {
    "duration": 6,
    "start_time": "2022-12-23T21:38:15.000Z"
   },
   {
    "duration": 7,
    "start_time": "2022-12-23T21:38:15.251Z"
   },
   {
    "duration": 5,
    "start_time": "2022-12-23T21:38:16.099Z"
   },
   {
    "duration": 9,
    "start_time": "2022-12-23T21:38:16.307Z"
   },
   {
    "duration": 12,
    "start_time": "2022-12-23T21:38:16.557Z"
   },
   {
    "duration": 9,
    "start_time": "2022-12-23T21:38:17.396Z"
   },
   {
    "duration": 7,
    "start_time": "2022-12-23T21:38:17.636Z"
   },
   {
    "duration": 3,
    "start_time": "2022-12-23T21:38:17.999Z"
   },
   {
    "duration": 9,
    "start_time": "2022-12-23T21:38:18.319Z"
   },
   {
    "duration": 8,
    "start_time": "2022-12-23T21:38:18.659Z"
   },
   {
    "duration": 10,
    "start_time": "2022-12-23T21:38:19.014Z"
   },
   {
    "duration": 8,
    "start_time": "2022-12-23T21:38:19.485Z"
   },
   {
    "duration": 9,
    "start_time": "2022-12-23T21:38:19.648Z"
   },
   {
    "duration": 9,
    "start_time": "2022-12-23T21:38:19.862Z"
   },
   {
    "duration": 8,
    "start_time": "2022-12-23T21:38:20.099Z"
   },
   {
    "duration": 21,
    "start_time": "2022-12-23T21:38:20.352Z"
   },
   {
    "duration": 5,
    "start_time": "2022-12-23T21:38:21.570Z"
   },
   {
    "duration": 6,
    "start_time": "2022-12-23T21:38:21.916Z"
   },
   {
    "duration": 261,
    "start_time": "2022-12-23T21:38:23.452Z"
   },
   {
    "duration": 4,
    "start_time": "2022-12-23T21:38:25.899Z"
   },
   {
    "duration": 129110,
    "start_time": "2022-12-23T21:38:26.296Z"
   },
   {
    "duration": 5,
    "start_time": "2022-12-23T21:40:35.408Z"
   },
   {
    "duration": 3236,
    "start_time": "2022-12-23T21:40:35.415Z"
   },
   {
    "duration": 4,
    "start_time": "2022-12-23T21:40:38.653Z"
   },
   {
    "duration": 9,
    "start_time": "2022-12-23T21:40:38.659Z"
   },
   {
    "duration": 14,
    "start_time": "2022-12-23T21:40:38.669Z"
   },
   {
    "duration": 6,
    "start_time": "2022-12-23T21:40:38.684Z"
   },
   {
    "duration": 27,
    "start_time": "2022-12-23T21:40:38.692Z"
   },
   {
    "duration": 25,
    "start_time": "2022-12-23T21:40:38.721Z"
   },
   {
    "duration": 11,
    "start_time": "2022-12-23T21:40:38.748Z"
   },
   {
    "duration": 211,
    "start_time": "2022-12-23T21:40:38.761Z"
   },
   {
    "duration": 214,
    "start_time": "2022-12-23T21:43:09.705Z"
   },
   {
    "duration": 167269,
    "start_time": "2022-12-23T21:43:12.171Z"
   },
   {
    "duration": 94856,
    "start_time": "2022-12-23T21:45:59.442Z"
   },
   {
    "duration": 3913,
    "start_time": "2022-12-23T21:47:34.300Z"
   },
   {
    "duration": 304,
    "start_time": "2022-12-23T21:47:38.215Z"
   },
   {
    "duration": 210,
    "start_time": "2022-12-23T21:51:02.644Z"
   },
   {
    "duration": 195,
    "start_time": "2022-12-23T21:53:16.647Z"
   },
   {
    "duration": 211,
    "start_time": "2022-12-23T21:53:29.844Z"
   },
   {
    "duration": 479,
    "start_time": "2022-12-23T21:54:23.944Z"
   },
   {
    "duration": 392,
    "start_time": "2022-12-23T21:54:32.006Z"
   },
   {
    "duration": 405,
    "start_time": "2022-12-23T21:54:39.810Z"
   },
   {
    "duration": 222,
    "start_time": "2022-12-23T21:54:50.051Z"
   },
   {
    "duration": 221,
    "start_time": "2022-12-23T21:56:24.805Z"
   },
   {
    "duration": 359,
    "start_time": "2022-12-23T21:57:01.716Z"
   },
   {
    "duration": 10,
    "start_time": "2022-12-23T21:58:49.215Z"
   },
   {
    "duration": 11,
    "start_time": "2022-12-23T21:58:55.936Z"
   },
   {
    "duration": 229,
    "start_time": "2022-12-23T21:58:59.136Z"
   },
   {
    "duration": 236,
    "start_time": "2022-12-23T21:59:06.332Z"
   },
   {
    "duration": 358,
    "start_time": "2022-12-23T21:59:24.339Z"
   },
   {
    "duration": 385,
    "start_time": "2022-12-23T22:00:08.154Z"
   },
   {
    "duration": 93136,
    "start_time": "2022-12-23T22:00:57.010Z"
   },
   {
    "duration": 96444,
    "start_time": "2022-12-23T22:02:52.813Z"
   },
   {
    "duration": 184797,
    "start_time": "2022-12-23T22:04:29.259Z"
   },
   {
    "duration": 2987,
    "start_time": "2022-12-23T22:07:48.433Z"
   },
   {
    "duration": 3478,
    "start_time": "2022-12-23T22:07:51.514Z"
   },
   {
    "duration": 180614,
    "start_time": "2022-12-23T22:11:58.680Z"
   },
   {
    "duration": 4123,
    "start_time": "2022-12-23T22:14:59.296Z"
   },
   {
    "duration": 4166,
    "start_time": "2022-12-23T22:15:03.424Z"
   },
   {
    "duration": 2469,
    "start_time": "2022-12-23T22:17:46.251Z"
   },
   {
    "duration": 10,
    "start_time": "2022-12-23T22:20:55.839Z"
   },
   {
    "duration": 3561,
    "start_time": "2022-12-23T22:21:11.661Z"
   },
   {
    "duration": 66932,
    "start_time": "2022-12-23T22:21:25.597Z"
   },
   {
    "duration": 0,
    "start_time": "2022-12-23T22:22:32.531Z"
   },
   {
    "duration": 0,
    "start_time": "2022-12-23T22:22:32.532Z"
   },
   {
    "duration": 22,
    "start_time": "2022-12-23T22:22:36.017Z"
   },
   {
    "duration": 12,
    "start_time": "2022-12-23T22:22:36.199Z"
   },
   {
    "duration": 228,
    "start_time": "2022-12-23T22:22:37.151Z"
   },
   {
    "duration": 409,
    "start_time": "2022-12-23T22:22:43.140Z"
   },
   {
    "duration": 390,
    "start_time": "2022-12-23T22:22:53.729Z"
   },
   {
    "duration": 97537,
    "start_time": "2022-12-23T22:23:29.239Z"
   },
   {
    "duration": 187023,
    "start_time": "2022-12-23T22:25:06.779Z"
   },
   {
    "duration": 2716,
    "start_time": "2022-12-23T22:28:13.803Z"
   },
   {
    "duration": 4273,
    "start_time": "2022-12-23T22:28:16.521Z"
   },
   {
    "duration": 7,
    "start_time": "2022-12-23T22:30:26.880Z"
   },
   {
    "duration": 6,
    "start_time": "2022-12-23T22:30:33.567Z"
   },
   {
    "duration": 8,
    "start_time": "2022-12-23T22:30:34.437Z"
   },
   {
    "duration": 7,
    "start_time": "2022-12-23T22:30:38.079Z"
   },
   {
    "duration": 11,
    "start_time": "2022-12-23T22:30:38.478Z"
   },
   {
    "duration": 6,
    "start_time": "2022-12-23T22:30:47.609Z"
   },
   {
    "duration": 28,
    "start_time": "2022-12-23T22:30:49.143Z"
   },
   {
    "duration": 2040,
    "start_time": "2022-12-23T22:31:12.576Z"
   },
   {
    "duration": 1252,
    "start_time": "2022-12-23T22:31:15.259Z"
   },
   {
    "duration": 40,
    "start_time": "2022-12-23T22:31:17.987Z"
   },
   {
    "duration": 20,
    "start_time": "2022-12-23T22:31:18.362Z"
   },
   {
    "duration": 13,
    "start_time": "2022-12-23T22:31:18.553Z"
   },
   {
    "duration": 4,
    "start_time": "2022-12-23T22:31:20.415Z"
   },
   {
    "duration": 25,
    "start_time": "2022-12-23T22:31:20.805Z"
   },
   {
    "duration": 12,
    "start_time": "2022-12-23T22:31:23.238Z"
   },
   {
    "duration": 5,
    "start_time": "2022-12-23T22:31:24.608Z"
   },
   {
    "duration": 4,
    "start_time": "2022-12-23T22:31:25.412Z"
   },
   {
    "duration": 4,
    "start_time": "2022-12-23T22:31:25.777Z"
   },
   {
    "duration": 7,
    "start_time": "2022-12-23T22:31:27.316Z"
   },
   {
    "duration": 6,
    "start_time": "2022-12-23T22:31:27.611Z"
   },
   {
    "duration": 5,
    "start_time": "2022-12-23T22:31:29.123Z"
   },
   {
    "duration": 6,
    "start_time": "2022-12-23T22:31:29.275Z"
   },
   {
    "duration": 5,
    "start_time": "2022-12-23T22:31:29.311Z"
   },
   {
    "duration": 5,
    "start_time": "2022-12-23T22:31:29.454Z"
   },
   {
    "duration": 2,
    "start_time": "2022-12-23T22:31:36.664Z"
   },
   {
    "duration": 2,
    "start_time": "2022-12-23T22:31:36.808Z"
   },
   {
    "duration": 2,
    "start_time": "2022-12-23T22:31:36.941Z"
   },
   {
    "duration": 2,
    "start_time": "2022-12-23T22:31:39.862Z"
   },
   {
    "duration": 4,
    "start_time": "2022-12-23T22:31:41.615Z"
   },
   {
    "duration": 4,
    "start_time": "2022-12-23T22:31:47.573Z"
   },
   {
    "duration": 6,
    "start_time": "2022-12-23T22:32:17.993Z"
   },
   {
    "duration": 6,
    "start_time": "2022-12-23T22:32:19.684Z"
   },
   {
    "duration": 7,
    "start_time": "2022-12-23T22:32:20.139Z"
   },
   {
    "duration": 5,
    "start_time": "2022-12-23T22:32:29.793Z"
   },
   {
    "duration": 9,
    "start_time": "2022-12-23T22:32:32.274Z"
   },
   {
    "duration": 11,
    "start_time": "2022-12-23T22:32:33.740Z"
   },
   {
    "duration": 10,
    "start_time": "2022-12-23T22:32:40.803Z"
   },
   {
    "duration": 9,
    "start_time": "2022-12-23T22:32:44.745Z"
   },
   {
    "duration": 4,
    "start_time": "2022-12-23T22:32:46.680Z"
   },
   {
    "duration": 10,
    "start_time": "2022-12-23T22:32:47.451Z"
   },
   {
    "duration": 3,
    "start_time": "2022-12-23T22:34:14.368Z"
   },
   {
    "duration": 10,
    "start_time": "2022-12-23T22:34:15.120Z"
   },
   {
    "duration": 8,
    "start_time": "2022-12-23T22:34:16.066Z"
   },
   {
    "duration": 10,
    "start_time": "2022-12-23T22:34:16.595Z"
   },
   {
    "duration": 9,
    "start_time": "2022-12-23T22:34:17.098Z"
   },
   {
    "duration": 10,
    "start_time": "2022-12-23T22:34:17.552Z"
   },
   {
    "duration": 8,
    "start_time": "2022-12-23T22:34:17.860Z"
   },
   {
    "duration": 9,
    "start_time": "2022-12-23T22:34:18.214Z"
   },
   {
    "duration": 22,
    "start_time": "2022-12-23T22:34:22.549Z"
   },
   {
    "duration": 5,
    "start_time": "2022-12-23T22:34:45.106Z"
   },
   {
    "duration": 6,
    "start_time": "2022-12-23T22:34:46.245Z"
   },
   {
    "duration": 354,
    "start_time": "2022-12-23T22:37:05.274Z"
   },
   {
    "duration": 4,
    "start_time": "2022-12-23T22:37:20.872Z"
   },
   {
    "duration": 767,
    "start_time": "2022-12-23T22:37:48.388Z"
   },
   {
    "duration": 4,
    "start_time": "2022-12-23T22:37:50.483Z"
   },
   {
    "duration": 660,
    "start_time": "2022-12-23T22:38:01.909Z"
   },
   {
    "duration": 4,
    "start_time": "2022-12-23T22:38:04.258Z"
   },
   {
    "duration": 880,
    "start_time": "2022-12-23T22:38:44.702Z"
   },
   {
    "duration": 4,
    "start_time": "2022-12-23T22:38:46.654Z"
   },
   {
    "duration": 4,
    "start_time": "2022-12-23T22:38:50.851Z"
   },
   {
    "duration": 30960,
    "start_time": "2022-12-23T22:38:57.246Z"
   },
   {
    "duration": 0,
    "start_time": "2022-12-23T22:39:28.212Z"
   },
   {
    "duration": 20661,
    "start_time": "2022-12-23T22:39:40.017Z"
   },
   {
    "duration": 20465,
    "start_time": "2022-12-23T22:40:10.358Z"
   },
   {
    "duration": 4,
    "start_time": "2022-12-23T22:40:30.825Z"
   },
   {
    "duration": 949,
    "start_time": "2022-12-23T22:40:30.831Z"
   },
   {
    "duration": 4,
    "start_time": "2022-12-23T22:40:31.781Z"
   },
   {
    "duration": 4,
    "start_time": "2022-12-23T22:40:46.747Z"
   },
   {
    "duration": 61188,
    "start_time": "2022-12-23T22:41:15.192Z"
   },
   {
    "duration": 6,
    "start_time": "2022-12-23T22:42:16.383Z"
   },
   {
    "duration": 3077,
    "start_time": "2022-12-23T22:43:08.552Z"
   },
   {
    "duration": 4,
    "start_time": "2022-12-23T22:43:11.631Z"
   },
   {
    "duration": 16,
    "start_time": "2022-12-23T22:43:57.456Z"
   },
   {
    "duration": 10,
    "start_time": "2022-12-23T22:44:02.151Z"
   },
   {
    "duration": 1325,
    "start_time": "2022-12-23T22:44:52.052Z"
   },
   {
    "duration": 1342,
    "start_time": "2022-12-23T22:45:07.220Z"
   },
   {
    "duration": 4,
    "start_time": "2022-12-23T22:45:30.655Z"
   },
   {
    "duration": 3,
    "start_time": "2022-12-23T22:46:20.264Z"
   },
   {
    "duration": 1928,
    "start_time": "2022-12-23T22:46:49.761Z"
   },
   {
    "duration": 4,
    "start_time": "2022-12-23T22:46:51.691Z"
   },
   {
    "duration": 3,
    "start_time": "2022-12-23T22:47:44.702Z"
   },
   {
    "duration": 938,
    "start_time": "2022-12-23T22:48:22.756Z"
   },
   {
    "duration": 2138,
    "start_time": "2022-12-23T22:48:25.989Z"
   },
   {
    "duration": 4,
    "start_time": "2022-12-23T22:48:29.770Z"
   },
   {
    "duration": 3,
    "start_time": "2022-12-23T22:48:40.457Z"
   },
   {
    "duration": 937,
    "start_time": "2022-12-23T22:48:56.391Z"
   },
   {
    "duration": 1935,
    "start_time": "2022-12-23T22:48:59.393Z"
   },
   {
    "duration": 46185,
    "start_time": "2022-12-23T22:49:07.254Z"
   },
   {
    "duration": 77946,
    "start_time": "2022-12-23T22:49:53.441Z"
   },
   {
    "duration": 4,
    "start_time": "2022-12-23T22:51:29.208Z"
   },
   {
    "duration": 3,
    "start_time": "2022-12-23T22:52:55.666Z"
   },
   {
    "duration": 234508,
    "start_time": "2022-12-23T22:53:01.689Z"
   },
   {
    "duration": 126773,
    "start_time": "2022-12-23T22:56:56.199Z"
   },
   {
    "duration": 4,
    "start_time": "2022-12-23T22:59:02.974Z"
   },
   {
    "duration": 4,
    "start_time": "2022-12-23T22:59:15.950Z"
   },
   {
    "duration": 9,
    "start_time": "2022-12-23T22:59:22.268Z"
   },
   {
    "duration": 4,
    "start_time": "2022-12-23T22:59:28.740Z"
   },
   {
    "duration": 6,
    "start_time": "2022-12-23T23:02:57.644Z"
   },
   {
    "duration": 5,
    "start_time": "2022-12-23T23:08:39.492Z"
   },
   {
    "duration": 4,
    "start_time": "2022-12-23T23:08:51.195Z"
   },
   {
    "duration": 43,
    "start_time": "2022-12-23T23:18:16.061Z"
   },
   {
    "duration": 7981,
    "start_time": "2022-12-23T23:19:15.039Z"
   },
   {
    "duration": 46,
    "start_time": "2022-12-23T23:21:53.401Z"
   },
   {
    "duration": 103,
    "start_time": "2022-12-23T23:22:41.255Z"
   },
   {
    "duration": 20228,
    "start_time": "2022-12-23T23:23:05.063Z"
   },
   {
    "duration": 309247,
    "start_time": "2022-12-23T23:23:31.918Z"
   },
   {
    "duration": 4,
    "start_time": "2022-12-23T23:28:47.872Z"
   },
   {
    "duration": 53,
    "start_time": "2022-12-23T23:34:45.675Z"
   },
   {
    "duration": 2513807,
    "start_time": "2022-12-23T23:34:50.084Z"
   },
   {
    "duration": 5,
    "start_time": "2022-12-24T00:16:54.231Z"
   },
   {
    "duration": 56,
    "start_time": "2022-12-24T00:18:29.643Z"
   },
   {
    "duration": 51,
    "start_time": "2022-12-24T00:18:44.032Z"
   },
   {
    "duration": 22316,
    "start_time": "2022-12-24T00:18:55.769Z"
   },
   {
    "duration": 30961,
    "start_time": "2022-12-24T00:19:29.845Z"
   },
   {
    "duration": 7923,
    "start_time": "2022-12-24T13:41:56.733Z"
   },
   {
    "duration": 1657,
    "start_time": "2022-12-24T13:42:04.659Z"
   },
   {
    "duration": 91,
    "start_time": "2022-12-24T13:42:06.318Z"
   },
   {
    "duration": 29,
    "start_time": "2022-12-24T13:42:06.412Z"
   },
   {
    "duration": 20,
    "start_time": "2022-12-24T13:42:06.444Z"
   },
   {
    "duration": 12,
    "start_time": "2022-12-24T13:42:06.466Z"
   },
   {
    "duration": 25,
    "start_time": "2022-12-24T13:42:06.480Z"
   },
   {
    "duration": 28,
    "start_time": "2022-12-24T13:42:06.507Z"
   },
   {
    "duration": 5,
    "start_time": "2022-12-24T13:42:06.887Z"
   },
   {
    "duration": 5,
    "start_time": "2022-12-24T13:42:07.266Z"
   },
   {
    "duration": 9,
    "start_time": "2022-12-24T13:42:07.423Z"
   },
   {
    "duration": 8,
    "start_time": "2022-12-24T13:42:07.722Z"
   },
   {
    "duration": 6,
    "start_time": "2022-12-24T13:42:07.840Z"
   },
   {
    "duration": 4,
    "start_time": "2022-12-24T13:42:10.646Z"
   },
   {
    "duration": 4,
    "start_time": "2022-12-24T13:42:10.764Z"
   },
   {
    "duration": 5,
    "start_time": "2022-12-24T13:42:10.850Z"
   },
   {
    "duration": 4,
    "start_time": "2022-12-24T13:42:10.989Z"
   },
   {
    "duration": 4,
    "start_time": "2022-12-24T13:42:15.232Z"
   },
   {
    "duration": 3,
    "start_time": "2022-12-24T13:42:15.344Z"
   },
   {
    "duration": 2,
    "start_time": "2022-12-24T13:42:15.487Z"
   },
   {
    "duration": 3,
    "start_time": "2022-12-24T13:42:16.302Z"
   },
   {
    "duration": 4,
    "start_time": "2022-12-24T13:42:16.437Z"
   },
   {
    "duration": 5,
    "start_time": "2022-12-24T13:42:17.742Z"
   },
   {
    "duration": 9,
    "start_time": "2022-12-24T13:42:19.321Z"
   },
   {
    "duration": 8,
    "start_time": "2022-12-24T13:42:19.485Z"
   },
   {
    "duration": 8,
    "start_time": "2022-12-24T13:42:19.559Z"
   },
   {
    "duration": 5,
    "start_time": "2022-12-24T13:42:22.768Z"
   },
   {
    "duration": 8,
    "start_time": "2022-12-24T13:42:22.906Z"
   },
   {
    "duration": 9,
    "start_time": "2022-12-24T13:42:23.016Z"
   },
   {
    "duration": 11,
    "start_time": "2022-12-24T13:42:23.201Z"
   },
   {
    "duration": 9,
    "start_time": "2022-12-24T13:42:23.372Z"
   },
   {
    "duration": 3,
    "start_time": "2022-12-24T13:42:24.357Z"
   },
   {
    "duration": 9,
    "start_time": "2022-12-24T13:42:24.383Z"
   },
   {
    "duration": 8,
    "start_time": "2022-12-24T13:42:24.546Z"
   },
   {
    "duration": 9,
    "start_time": "2022-12-24T13:42:24.688Z"
   },
   {
    "duration": 8,
    "start_time": "2022-12-24T13:42:25.971Z"
   },
   {
    "duration": 10,
    "start_time": "2022-12-24T13:42:26.111Z"
   },
   {
    "duration": 9,
    "start_time": "2022-12-24T13:42:26.242Z"
   },
   {
    "duration": 12,
    "start_time": "2022-12-24T13:42:26.512Z"
   },
   {
    "duration": 5,
    "start_time": "2022-12-24T13:42:29.602Z"
   },
   {
    "duration": 6,
    "start_time": "2022-12-24T13:42:29.737Z"
   },
   {
    "duration": 1757,
    "start_time": "2022-12-24T13:42:33.251Z"
   },
   {
    "duration": 4,
    "start_time": "2022-12-24T13:42:35.011Z"
   },
   {
    "duration": 188012,
    "start_time": "2022-12-24T13:42:35.018Z"
   },
   {
    "duration": 4,
    "start_time": "2022-12-24T13:45:43.032Z"
   },
   {
    "duration": 4681,
    "start_time": "2022-12-24T13:45:43.038Z"
   },
   {
    "duration": 8,
    "start_time": "2022-12-24T13:45:47.724Z"
   },
   {
    "duration": 24,
    "start_time": "2022-12-24T13:45:47.735Z"
   },
   {
    "duration": 8,
    "start_time": "2022-12-24T13:45:47.762Z"
   },
   {
    "duration": 1367,
    "start_time": "2022-12-24T13:45:47.772Z"
   },
   {
    "duration": 95065,
    "start_time": "2022-12-24T13:45:49.141Z"
   },
   {
    "duration": 96543,
    "start_time": "2022-12-24T13:47:36.565Z"
   },
   {
    "duration": 1956703,
    "start_time": "2022-12-24T13:50:03.589Z"
   },
   {
    "duration": 7825,
    "start_time": "2022-12-24T21:51:58.570Z"
   },
   {
    "duration": 1505,
    "start_time": "2022-12-24T21:52:06.398Z"
   },
   {
    "duration": 86,
    "start_time": "2022-12-24T21:52:12.583Z"
   },
   {
    "duration": 20,
    "start_time": "2022-12-24T21:52:13.216Z"
   },
   {
    "duration": 12,
    "start_time": "2022-12-24T21:52:13.576Z"
   },
   {
    "duration": 5,
    "start_time": "2022-12-24T21:52:14.889Z"
   },
   {
    "duration": 13,
    "start_time": "2022-12-24T21:52:15.355Z"
   },
   {
    "duration": 13,
    "start_time": "2022-12-24T21:52:16.271Z"
   },
   {
    "duration": 5,
    "start_time": "2022-12-24T21:52:17.420Z"
   },
   {
    "duration": 4,
    "start_time": "2022-12-24T21:52:18.990Z"
   },
   {
    "duration": 5,
    "start_time": "2022-12-24T21:52:19.210Z"
   },
   {
    "duration": 6,
    "start_time": "2022-12-24T21:52:19.748Z"
   },
   {
    "duration": 7,
    "start_time": "2022-12-24T21:52:20.004Z"
   },
   {
    "duration": 6,
    "start_time": "2022-12-24T21:52:20.901Z"
   },
   {
    "duration": 7,
    "start_time": "2022-12-24T21:52:21.374Z"
   },
   {
    "duration": 5,
    "start_time": "2022-12-24T21:52:21.975Z"
   },
   {
    "duration": 5,
    "start_time": "2022-12-24T21:52:33.206Z"
   },
   {
    "duration": 3,
    "start_time": "2022-12-24T21:52:37.845Z"
   },
   {
    "duration": 3,
    "start_time": "2022-12-24T21:52:38.861Z"
   },
   {
    "duration": 3,
    "start_time": "2022-12-24T21:52:39.273Z"
   },
   {
    "duration": 5,
    "start_time": "2022-12-24T21:52:54.191Z"
   },
   {
    "duration": 3,
    "start_time": "2022-12-24T21:52:54.593Z"
   },
   {
    "duration": 3,
    "start_time": "2022-12-24T22:00:40.980Z"
   },
   {
    "duration": 3,
    "start_time": "2022-12-24T22:00:41.218Z"
   },
   {
    "duration": 5,
    "start_time": "2022-12-24T22:00:43.166Z"
   },
   {
    "duration": 7,
    "start_time": "2022-12-24T22:00:43.699Z"
   },
   {
    "duration": 7,
    "start_time": "2022-12-24T22:00:44.378Z"
   },
   {
    "duration": 7,
    "start_time": "2022-12-24T22:00:44.870Z"
   },
   {
    "duration": 115,
    "start_time": "2022-12-24T22:01:06.508Z"
   },
   {
    "duration": 11,
    "start_time": "2022-12-24T22:02:03.972Z"
   },
   {
    "duration": 5,
    "start_time": "2022-12-24T22:02:16.212Z"
   },
   {
    "duration": 5,
    "start_time": "2022-12-24T22:02:26.979Z"
   },
   {
    "duration": 23,
    "start_time": "2022-12-24T22:02:27.393Z"
   },
   {
    "duration": 5,
    "start_time": "2022-12-24T22:03:22.118Z"
   },
   {
    "duration": 12,
    "start_time": "2022-12-24T22:03:22.478Z"
   },
   {
    "duration": 6,
    "start_time": "2022-12-24T22:10:25.110Z"
   },
   {
    "duration": 17,
    "start_time": "2022-12-24T22:10:27.738Z"
   },
   {
    "duration": 4,
    "start_time": "2022-12-24T22:11:07.137Z"
   },
   {
    "duration": 22,
    "start_time": "2022-12-24T22:11:27.493Z"
   },
   {
    "duration": 20,
    "start_time": "2022-12-24T22:11:50.102Z"
   },
   {
    "duration": 7,
    "start_time": "2022-12-24T22:11:59.625Z"
   },
   {
    "duration": 7,
    "start_time": "2022-12-24T22:11:59.872Z"
   },
   {
    "duration": 7,
    "start_time": "2022-12-24T22:12:00.244Z"
   },
   {
    "duration": 6,
    "start_time": "2022-12-24T22:12:01.566Z"
   },
   {
    "duration": 8,
    "start_time": "2022-12-24T22:12:05.346Z"
   },
   {
    "duration": 15,
    "start_time": "2022-12-24T22:13:35.645Z"
   },
   {
    "duration": 5,
    "start_time": "2022-12-24T22:13:58.296Z"
   },
   {
    "duration": 7,
    "start_time": "2022-12-24T22:14:01.038Z"
   },
   {
    "duration": 7,
    "start_time": "2022-12-24T22:14:01.215Z"
   },
   {
    "duration": 6,
    "start_time": "2022-12-24T22:14:01.435Z"
   },
   {
    "duration": 5,
    "start_time": "2022-12-24T22:14:02.234Z"
   },
   {
    "duration": 18,
    "start_time": "2022-12-24T22:14:13.360Z"
   },
   {
    "duration": 4,
    "start_time": "2022-12-24T22:14:32.218Z"
   },
   {
    "duration": 5,
    "start_time": "2022-12-24T22:14:56.814Z"
   },
   {
    "duration": 10,
    "start_time": "2022-12-24T22:15:02.921Z"
   },
   {
    "duration": 4,
    "start_time": "2022-12-24T22:15:05.354Z"
   },
   {
    "duration": 8,
    "start_time": "2022-12-24T22:15:56.357Z"
   },
   {
    "duration": 11,
    "start_time": "2022-12-24T22:16:03.952Z"
   },
   {
    "duration": 10,
    "start_time": "2022-12-24T22:16:08.620Z"
   },
   {
    "duration": 6,
    "start_time": "2022-12-24T22:16:10.239Z"
   },
   {
    "duration": 3,
    "start_time": "2022-12-24T22:16:12.298Z"
   },
   {
    "duration": 10,
    "start_time": "2022-12-24T22:16:13.022Z"
   },
   {
    "duration": 14,
    "start_time": "2022-12-24T22:16:33.578Z"
   },
   {
    "duration": 6,
    "start_time": "2022-12-24T22:16:40.965Z"
   },
   {
    "duration": 6,
    "start_time": "2022-12-24T22:16:41.100Z"
   },
   {
    "duration": 6,
    "start_time": "2022-12-24T22:16:41.398Z"
   },
   {
    "duration": 5,
    "start_time": "2022-12-24T22:16:42.037Z"
   },
   {
    "duration": 5,
    "start_time": "2022-12-24T22:16:42.208Z"
   },
   {
    "duration": 12,
    "start_time": "2022-12-24T22:16:42.393Z"
   },
   {
    "duration": 9,
    "start_time": "2022-12-24T22:16:43.033Z"
   },
   {
    "duration": 10,
    "start_time": "2022-12-24T22:16:43.774Z"
   },
   {
    "duration": 7,
    "start_time": "2022-12-24T22:16:44.593Z"
   },
   {
    "duration": 3,
    "start_time": "2022-12-24T22:17:08.816Z"
   },
   {
    "duration": 8,
    "start_time": "2022-12-24T22:17:09.080Z"
   },
   {
    "duration": 8,
    "start_time": "2022-12-24T22:17:09.595Z"
   },
   {
    "duration": 10,
    "start_time": "2022-12-24T22:17:09.830Z"
   },
   {
    "duration": 9,
    "start_time": "2022-12-24T22:17:10.075Z"
   },
   {
    "duration": 9,
    "start_time": "2022-12-24T22:17:10.292Z"
   },
   {
    "duration": 8,
    "start_time": "2022-12-24T22:17:10.508Z"
   },
   {
    "duration": 12,
    "start_time": "2022-12-24T22:17:10.968Z"
   },
   {
    "duration": 7,
    "start_time": "2022-12-24T22:17:12.437Z"
   },
   {
    "duration": 5,
    "start_time": "2022-12-24T22:17:12.694Z"
   },
   {
    "duration": 1674,
    "start_time": "2022-12-24T22:17:13.748Z"
   },
   {
    "duration": 4,
    "start_time": "2022-12-24T22:17:15.424Z"
   },
   {
    "duration": 1540,
    "start_time": "2022-12-24T22:17:23.949Z"
   },
   {
    "duration": 3,
    "start_time": "2022-12-24T22:17:25.492Z"
   },
   {
    "duration": 175963,
    "start_time": "2022-12-24T22:17:27.897Z"
   },
   {
    "duration": 3,
    "start_time": "2022-12-24T22:20:23.862Z"
   },
   {
    "duration": 3670,
    "start_time": "2022-12-24T22:20:23.867Z"
   },
   {
    "duration": 4,
    "start_time": "2022-12-24T22:20:27.540Z"
   },
   {
    "duration": 22,
    "start_time": "2022-12-24T22:20:27.545Z"
   },
   {
    "duration": 9,
    "start_time": "2022-12-24T22:20:27.569Z"
   },
   {
    "duration": 1148,
    "start_time": "2022-12-24T22:20:27.579Z"
   },
   {
    "duration": 243777,
    "start_time": "2022-12-24T22:20:28.729Z"
   },
   {
    "duration": 4,
    "start_time": "2022-12-24T22:25:16.301Z"
   },
   {
    "duration": 11,
    "start_time": "2022-12-24T22:28:07.306Z"
   },
   {
    "duration": 10693,
    "start_time": "2022-12-24T22:28:11.549Z"
   },
   {
    "duration": 10,
    "start_time": "2022-12-24T22:28:35.073Z"
   },
   {
    "duration": 4,
    "start_time": "2022-12-24T22:28:37.204Z"
   },
   {
    "duration": 11349,
    "start_time": "2022-12-24T22:29:18.397Z"
   },
   {
    "duration": 4,
    "start_time": "2022-12-24T22:29:34.094Z"
   },
   {
    "duration": 1524285,
    "start_time": "2022-12-24T22:32:01.181Z"
   },
   {
    "duration": 0,
    "start_time": "2022-12-24T22:57:25.467Z"
   },
   {
    "duration": 5457,
    "start_time": "2022-12-24T22:58:03.381Z"
   },
   {
    "duration": 8301541,
    "start_time": "2022-12-24T22:58:33.644Z"
   },
   {
    "duration": 4,
    "start_time": "2022-12-25T01:16:55.188Z"
   },
   {
    "duration": 7272,
    "start_time": "2022-12-25T10:20:18.751Z"
   },
   {
    "duration": 1592,
    "start_time": "2022-12-25T10:20:26.026Z"
   },
   {
    "duration": 100,
    "start_time": "2022-12-25T10:20:27.619Z"
   },
   {
    "duration": 20,
    "start_time": "2022-12-25T10:20:27.721Z"
   },
   {
    "duration": 13,
    "start_time": "2022-12-25T10:20:27.742Z"
   },
   {
    "duration": 4,
    "start_time": "2022-12-25T10:20:27.756Z"
   },
   {
    "duration": 14,
    "start_time": "2022-12-25T10:20:27.761Z"
   },
   {
    "duration": 10,
    "start_time": "2022-12-25T10:20:27.777Z"
   },
   {
    "duration": 12,
    "start_time": "2022-12-25T10:20:27.800Z"
   },
   {
    "duration": 4,
    "start_time": "2022-12-25T10:20:27.815Z"
   },
   {
    "duration": 5,
    "start_time": "2022-12-25T10:20:27.825Z"
   },
   {
    "duration": 11,
    "start_time": "2022-12-25T10:20:27.833Z"
   },
   {
    "duration": 9,
    "start_time": "2022-12-25T10:20:27.845Z"
   },
   {
    "duration": 4,
    "start_time": "2022-12-25T10:20:27.856Z"
   },
   {
    "duration": 6,
    "start_time": "2022-12-25T10:20:27.862Z"
   },
   {
    "duration": 4,
    "start_time": "2022-12-25T10:20:27.870Z"
   },
   {
    "duration": 9,
    "start_time": "2022-12-25T10:20:27.901Z"
   },
   {
    "duration": 12,
    "start_time": "2022-12-25T10:20:27.913Z"
   },
   {
    "duration": 12,
    "start_time": "2022-12-25T10:20:27.927Z"
   },
   {
    "duration": 6,
    "start_time": "2022-12-25T10:20:27.941Z"
   },
   {
    "duration": 9,
    "start_time": "2022-12-25T10:20:27.949Z"
   },
   {
    "duration": 8,
    "start_time": "2022-12-25T10:20:27.960Z"
   },
   {
    "duration": 8,
    "start_time": "2022-12-25T10:20:27.969Z"
   },
   {
    "duration": 10,
    "start_time": "2022-12-25T10:20:27.978Z"
   },
   {
    "duration": 16,
    "start_time": "2022-12-25T10:20:27.990Z"
   },
   {
    "duration": 14,
    "start_time": "2022-12-25T10:20:28.008Z"
   },
   {
    "duration": 5,
    "start_time": "2022-12-25T10:20:28.111Z"
   },
   {
    "duration": 6,
    "start_time": "2022-12-25T10:20:28.297Z"
   },
   {
    "duration": 15,
    "start_time": "2022-12-25T10:20:28.489Z"
   },
   {
    "duration": 11,
    "start_time": "2022-12-25T10:20:28.649Z"
   },
   {
    "duration": 10,
    "start_time": "2022-12-25T10:20:28.969Z"
   },
   {
    "duration": 7,
    "start_time": "2022-12-25T10:20:29.125Z"
   },
   {
    "duration": 3,
    "start_time": "2022-12-25T10:20:29.343Z"
   },
   {
    "duration": 10,
    "start_time": "2022-12-25T10:20:29.492Z"
   },
   {
    "duration": 9,
    "start_time": "2022-12-25T10:20:29.726Z"
   },
   {
    "duration": 12,
    "start_time": "2022-12-25T10:20:29.893Z"
   },
   {
    "duration": 8,
    "start_time": "2022-12-25T10:20:30.045Z"
   },
   {
    "duration": 9,
    "start_time": "2022-12-25T10:20:30.209Z"
   },
   {
    "duration": 8,
    "start_time": "2022-12-25T10:20:30.352Z"
   },
   {
    "duration": 10,
    "start_time": "2022-12-25T10:20:30.776Z"
   },
   {
    "duration": 22,
    "start_time": "2022-12-25T10:20:36.587Z"
   },
   {
    "duration": 9,
    "start_time": "2022-12-25T10:20:36.857Z"
   },
   {
    "duration": 1676821,
    "start_time": "2022-12-25T10:21:59.524Z"
   },
   {
    "duration": 6039,
    "start_time": "2023-01-02T00:18:31.949Z"
   },
   {
    "duration": 1304,
    "start_time": "2023-01-02T00:18:52.210Z"
   },
   {
    "duration": 75,
    "start_time": "2023-01-02T00:18:55.420Z"
   },
   {
    "duration": 19,
    "start_time": "2023-01-02T00:18:55.983Z"
   },
   {
    "duration": 14,
    "start_time": "2023-01-02T00:18:56.564Z"
   },
   {
    "duration": 4,
    "start_time": "2023-01-02T00:18:58.888Z"
   },
   {
    "duration": 12,
    "start_time": "2023-01-02T00:19:01.045Z"
   },
   {
    "duration": 12,
    "start_time": "2023-01-02T00:19:04.384Z"
   },
   {
    "duration": 5,
    "start_time": "2023-01-02T00:19:05.632Z"
   },
   {
    "duration": 4,
    "start_time": "2023-01-02T00:19:06.259Z"
   },
   {
    "duration": 4,
    "start_time": "2023-01-02T00:19:06.587Z"
   },
   {
    "duration": 5,
    "start_time": "2023-01-02T00:19:07.228Z"
   },
   {
    "duration": 5,
    "start_time": "2023-01-02T00:19:07.551Z"
   },
   {
    "duration": 4,
    "start_time": "2023-01-02T00:19:08.381Z"
   },
   {
    "duration": 4,
    "start_time": "2023-01-02T00:19:08.661Z"
   },
   {
    "duration": 214,
    "start_time": "2023-01-02T00:19:08.920Z"
   },
   {
    "duration": 138,
    "start_time": "2023-01-02T00:19:09.188Z"
   },
   {
    "duration": 2,
    "start_time": "2023-01-02T00:19:11.012Z"
   },
   {
    "duration": 3,
    "start_time": "2023-01-02T00:19:11.390Z"
   },
   {
    "duration": 2,
    "start_time": "2023-01-02T00:19:11.741Z"
   },
   {
    "duration": 2,
    "start_time": "2023-01-02T00:19:13.451Z"
   },
   {
    "duration": 2,
    "start_time": "2023-01-02T00:19:13.748Z"
   },
   {
    "duration": 4,
    "start_time": "2023-01-02T00:19:15.707Z"
   },
   {
    "duration": 7,
    "start_time": "2023-01-02T00:19:16.060Z"
   },
   {
    "duration": 5,
    "start_time": "2023-01-02T00:19:16.371Z"
   },
   {
    "duration": 6,
    "start_time": "2023-01-02T00:19:16.698Z"
   },
   {
    "duration": 4,
    "start_time": "2023-01-02T00:19:17.821Z"
   },
   {
    "duration": 3,
    "start_time": "2023-01-02T00:19:17.902Z"
   },
   {
    "duration": 8,
    "start_time": "2023-01-02T00:19:17.985Z"
   },
   {
    "duration": 9,
    "start_time": "2023-01-02T00:19:18.068Z"
   },
   {
    "duration": 10,
    "start_time": "2023-01-02T00:19:18.151Z"
   },
   {
    "duration": 6,
    "start_time": "2023-01-02T00:19:18.235Z"
   },
   {
    "duration": 3,
    "start_time": "2023-01-02T00:19:18.319Z"
   },
   {
    "duration": 8,
    "start_time": "2023-01-02T00:19:19.587Z"
   },
   {
    "duration": 7,
    "start_time": "2023-01-02T00:19:20.120Z"
   },
   {
    "duration": 8,
    "start_time": "2023-01-02T00:19:20.359Z"
   },
   {
    "duration": 7,
    "start_time": "2023-01-02T00:19:20.867Z"
   },
   {
    "duration": 9,
    "start_time": "2023-01-02T00:19:20.935Z"
   },
   {
    "duration": 8,
    "start_time": "2023-01-02T00:19:21.018Z"
   },
   {
    "duration": 8,
    "start_time": "2023-01-02T00:19:21.102Z"
   },
   {
    "duration": 5,
    "start_time": "2023-01-02T00:19:22.168Z"
   },
   {
    "duration": 5,
    "start_time": "2023-01-02T00:19:22.252Z"
   },
   {
    "duration": 1445,
    "start_time": "2023-01-02T00:19:22.585Z"
   },
   {
    "duration": 3,
    "start_time": "2023-01-02T00:19:24.032Z"
   },
   {
    "duration": 154670,
    "start_time": "2023-01-02T00:19:24.037Z"
   },
   {
    "duration": 4,
    "start_time": "2023-01-02T00:21:58.709Z"
   },
   {
    "duration": 3420,
    "start_time": "2023-01-02T00:21:58.715Z"
   },
   {
    "duration": 3,
    "start_time": "2023-01-02T00:22:02.137Z"
   },
   {
    "duration": 24,
    "start_time": "2023-01-02T00:22:02.141Z"
   },
   {
    "duration": 17,
    "start_time": "2023-01-02T00:22:02.167Z"
   },
   {
    "duration": 22,
    "start_time": "2023-01-02T00:22:02.186Z"
   },
   {
    "duration": 30,
    "start_time": "2023-01-02T00:22:02.210Z"
   },
   {
    "duration": 15,
    "start_time": "2023-01-02T00:22:02.242Z"
   },
   {
    "duration": 20,
    "start_time": "2023-01-02T00:22:02.259Z"
   },
   {
    "duration": 1014,
    "start_time": "2023-01-02T00:22:02.280Z"
   },
   {
    "duration": 2152,
    "start_time": "2023-01-02T00:22:03.296Z"
   },
   {
    "duration": 111676,
    "start_time": "2023-01-02T00:22:05.450Z"
   },
   {
    "duration": 215032,
    "start_time": "2023-01-02T00:23:57.127Z"
   },
   {
    "duration": 7277922,
    "start_time": "2023-01-02T00:27:32.161Z"
   },
   {
    "duration": 4,
    "start_time": "2023-01-02T02:28:50.084Z"
   },
   {
    "duration": 1461260,
    "start_time": "2023-01-02T02:28:50.089Z"
   },
   {
    "duration": 379,
    "start_time": "2023-01-02T02:53:11.352Z"
   },
   {
    "duration": 3990,
    "start_time": "2023-01-02T02:53:11.822Z"
   },
   {
    "duration": 102,
    "start_time": "2023-01-02T02:53:15.813Z"
   },
   {
    "duration": 0,
    "start_time": "2023-01-02T02:53:15.917Z"
   },
   {
    "duration": 0,
    "start_time": "2023-01-02T02:53:15.921Z"
   },
   {
    "duration": 0,
    "start_time": "2023-01-02T02:53:15.922Z"
   },
   {
    "duration": 0,
    "start_time": "2023-01-02T02:53:15.923Z"
   },
   {
    "duration": 323,
    "start_time": "2023-01-02T03:22:48.428Z"
   },
   {
    "duration": 319,
    "start_time": "2023-01-02T03:23:18.005Z"
   },
   {
    "duration": 5,
    "start_time": "2023-01-02T03:23:28.939Z"
   },
   {
    "duration": 105,
    "start_time": "2023-01-02T03:23:29.565Z"
   },
   {
    "duration": 5,
    "start_time": "2023-01-02T03:23:32.309Z"
   },
   {
    "duration": 4,
    "start_time": "2023-01-02T03:23:33.290Z"
   },
   {
    "duration": 7011,
    "start_time": "2023-01-09T08:43:56.758Z"
   },
   {
    "duration": 1453,
    "start_time": "2023-01-09T08:44:03.771Z"
   },
   {
    "duration": 179,
    "start_time": "2023-01-09T08:44:05.225Z"
   },
   {
    "duration": 24,
    "start_time": "2023-01-09T08:44:05.406Z"
   },
   {
    "duration": 15,
    "start_time": "2023-01-09T08:44:05.432Z"
   },
   {
    "duration": 4,
    "start_time": "2023-01-09T08:44:05.449Z"
   },
   {
    "duration": 19,
    "start_time": "2023-01-09T08:44:05.455Z"
   },
   {
    "duration": 11,
    "start_time": "2023-01-09T08:44:05.476Z"
   },
   {
    "duration": 10,
    "start_time": "2023-01-09T08:44:05.489Z"
   },
   {
    "duration": 26,
    "start_time": "2023-01-09T08:44:05.503Z"
   },
   {
    "duration": 5,
    "start_time": "2023-01-09T08:44:05.531Z"
   },
   {
    "duration": 30,
    "start_time": "2023-01-09T08:44:05.538Z"
   },
   {
    "duration": 14,
    "start_time": "2023-01-09T08:44:05.570Z"
   },
   {
    "duration": 14,
    "start_time": "2023-01-09T08:44:05.586Z"
   },
   {
    "duration": 14,
    "start_time": "2023-01-09T08:44:05.602Z"
   },
   {
    "duration": 13,
    "start_time": "2023-01-09T08:44:05.617Z"
   },
   {
    "duration": 37,
    "start_time": "2023-01-09T08:44:05.632Z"
   },
   {
    "duration": 31,
    "start_time": "2023-01-09T08:44:05.670Z"
   },
   {
    "duration": 51,
    "start_time": "2023-01-09T08:44:05.702Z"
   },
   {
    "duration": 24,
    "start_time": "2023-01-09T08:44:05.756Z"
   },
   {
    "duration": 55,
    "start_time": "2023-01-09T08:44:05.783Z"
   },
   {
    "duration": 20,
    "start_time": "2023-01-09T08:44:05.841Z"
   },
   {
    "duration": 22,
    "start_time": "2023-01-09T08:44:05.864Z"
   },
   {
    "duration": 66,
    "start_time": "2023-01-09T08:44:05.888Z"
   },
   {
    "duration": 28,
    "start_time": "2023-01-09T08:44:05.955Z"
   },
   {
    "duration": 12,
    "start_time": "2023-01-09T08:44:05.985Z"
   },
   {
    "duration": 14,
    "start_time": "2023-01-09T08:44:05.999Z"
   },
   {
    "duration": 21,
    "start_time": "2023-01-09T08:44:06.018Z"
   },
   {
    "duration": 19,
    "start_time": "2023-01-09T08:44:06.042Z"
   },
   {
    "duration": 17,
    "start_time": "2023-01-09T08:44:06.063Z"
   },
   {
    "duration": 40,
    "start_time": "2023-01-09T08:44:06.082Z"
   },
   {
    "duration": 8,
    "start_time": "2023-01-09T08:44:06.124Z"
   },
   {
    "duration": 19,
    "start_time": "2023-01-09T08:44:06.133Z"
   },
   {
    "duration": 29,
    "start_time": "2023-01-09T08:44:06.154Z"
   },
   {
    "duration": 17,
    "start_time": "2023-01-09T08:44:06.185Z"
   },
   {
    "duration": 33,
    "start_time": "2023-01-09T08:44:06.204Z"
   },
   {
    "duration": 31,
    "start_time": "2023-01-09T08:44:06.239Z"
   },
   {
    "duration": 27,
    "start_time": "2023-01-09T08:44:06.272Z"
   },
   {
    "duration": 33,
    "start_time": "2023-01-09T08:44:06.301Z"
   },
   {
    "duration": 34,
    "start_time": "2023-01-09T08:44:06.336Z"
   },
   {
    "duration": 9,
    "start_time": "2023-01-09T08:44:06.372Z"
   },
   {
    "duration": 13,
    "start_time": "2023-01-09T08:44:06.383Z"
   },
   {
    "duration": 1634,
    "start_time": "2023-01-09T08:44:06.398Z"
   },
   {
    "duration": 4,
    "start_time": "2023-01-09T08:44:08.034Z"
   },
   {
    "duration": 169169,
    "start_time": "2023-01-09T08:44:08.040Z"
   },
   {
    "duration": 4,
    "start_time": "2023-01-09T08:46:57.211Z"
   },
   {
    "duration": 2211,
    "start_time": "2023-01-09T08:46:57.225Z"
   },
   {
    "duration": 4,
    "start_time": "2023-01-09T08:46:59.439Z"
   },
   {
    "duration": 89,
    "start_time": "2023-01-09T08:46:59.444Z"
   },
   {
    "duration": 12,
    "start_time": "2023-01-09T08:46:59.535Z"
   },
   {
    "duration": 6,
    "start_time": "2023-01-09T08:46:59.548Z"
   },
   {
    "duration": 11,
    "start_time": "2023-01-09T08:46:59.556Z"
   },
   {
    "duration": 14,
    "start_time": "2023-01-09T08:46:59.568Z"
   },
   {
    "duration": 16,
    "start_time": "2023-01-09T08:46:59.584Z"
   },
   {
    "duration": 1024,
    "start_time": "2023-01-09T08:46:59.602Z"
   },
   {
    "duration": 2278,
    "start_time": "2023-01-09T08:47:00.628Z"
   },
   {
    "duration": 119140,
    "start_time": "2023-01-09T08:47:02.908Z"
   },
   {
    "duration": 222759,
    "start_time": "2023-01-09T08:49:02.049Z"
   },
   {
    "duration": 1912,
    "start_time": "2023-01-09T09:49:15.486Z"
   },
   {
    "duration": 1184,
    "start_time": "2023-01-09T09:49:17.400Z"
   },
   {
    "duration": 37,
    "start_time": "2023-01-09T09:49:18.585Z"
   },
   {
    "duration": 18,
    "start_time": "2023-01-09T09:49:18.625Z"
   },
   {
    "duration": 11,
    "start_time": "2023-01-09T09:49:18.645Z"
   },
   {
    "duration": 4,
    "start_time": "2023-01-09T09:49:18.657Z"
   },
   {
    "duration": 32,
    "start_time": "2023-01-09T09:49:18.663Z"
   },
   {
    "duration": 18,
    "start_time": "2023-01-09T09:49:18.697Z"
   },
   {
    "duration": 4,
    "start_time": "2023-01-09T09:49:18.717Z"
   },
   {
    "duration": 9,
    "start_time": "2023-01-09T09:49:18.723Z"
   },
   {
    "duration": 7,
    "start_time": "2023-01-09T09:49:18.733Z"
   },
   {
    "duration": 10,
    "start_time": "2023-01-09T09:49:18.741Z"
   },
   {
    "duration": 10,
    "start_time": "2023-01-09T09:49:18.753Z"
   },
   {
    "duration": 6,
    "start_time": "2023-01-09T09:49:18.765Z"
   },
   {
    "duration": 8,
    "start_time": "2023-01-09T09:49:18.772Z"
   },
   {
    "duration": 8,
    "start_time": "2023-01-09T09:49:18.782Z"
   },
   {
    "duration": 34,
    "start_time": "2023-01-09T09:49:18.793Z"
   },
   {
    "duration": 8,
    "start_time": "2023-01-09T09:49:18.830Z"
   },
   {
    "duration": 10,
    "start_time": "2023-01-09T09:49:18.840Z"
   },
   {
    "duration": 14,
    "start_time": "2023-01-09T09:49:18.852Z"
   },
   {
    "duration": 13,
    "start_time": "2023-01-09T09:49:18.867Z"
   },
   {
    "duration": 7,
    "start_time": "2023-01-09T09:49:18.882Z"
   },
   {
    "duration": 10,
    "start_time": "2023-01-09T09:49:18.891Z"
   },
   {
    "duration": 10,
    "start_time": "2023-01-09T09:49:18.903Z"
   },
   {
    "duration": 8,
    "start_time": "2023-01-09T09:49:18.914Z"
   },
   {
    "duration": 13,
    "start_time": "2023-01-09T09:49:18.923Z"
   },
   {
    "duration": 11,
    "start_time": "2023-01-09T09:49:18.938Z"
   },
   {
    "duration": 6,
    "start_time": "2023-01-09T09:49:18.956Z"
   },
   {
    "duration": 14,
    "start_time": "2023-01-09T09:49:18.964Z"
   },
   {
    "duration": 18,
    "start_time": "2023-01-09T09:49:18.981Z"
   },
   {
    "duration": 14,
    "start_time": "2023-01-09T09:49:19.001Z"
   },
   {
    "duration": 14,
    "start_time": "2023-01-09T09:49:19.017Z"
   },
   {
    "duration": 4,
    "start_time": "2023-01-09T09:49:19.033Z"
   },
   {
    "duration": 24,
    "start_time": "2023-01-09T09:49:19.039Z"
   },
   {
    "duration": 14,
    "start_time": "2023-01-09T09:49:19.065Z"
   },
   {
    "duration": 16,
    "start_time": "2023-01-09T09:49:19.081Z"
   },
   {
    "duration": 19,
    "start_time": "2023-01-09T09:49:19.099Z"
   },
   {
    "duration": 18,
    "start_time": "2023-01-09T09:49:19.119Z"
   },
   {
    "duration": 20,
    "start_time": "2023-01-09T09:49:19.139Z"
   },
   {
    "duration": 17,
    "start_time": "2023-01-09T09:49:19.161Z"
   },
   {
    "duration": 12,
    "start_time": "2023-01-09T09:49:19.180Z"
   },
   {
    "duration": 11,
    "start_time": "2023-01-09T09:49:19.194Z"
   },
   {
    "duration": 1483,
    "start_time": "2023-01-09T09:49:19.207Z"
   },
   {
    "duration": 4,
    "start_time": "2023-01-09T09:49:20.692Z"
   },
   {
    "duration": 159397,
    "start_time": "2023-01-09T09:49:20.697Z"
   },
   {
    "duration": 4,
    "start_time": "2023-01-09T09:52:00.097Z"
   },
   {
    "duration": 2925,
    "start_time": "2023-01-09T09:52:00.104Z"
   },
   {
    "duration": 4,
    "start_time": "2023-01-09T09:52:03.031Z"
   },
   {
    "duration": 11,
    "start_time": "2023-01-09T09:52:03.037Z"
   },
   {
    "duration": 20,
    "start_time": "2023-01-09T09:52:03.050Z"
   },
   {
    "duration": 7,
    "start_time": "2023-01-09T09:52:03.072Z"
   },
   {
    "duration": 19,
    "start_time": "2023-01-09T09:52:03.080Z"
   },
   {
    "duration": 21,
    "start_time": "2023-01-09T09:52:03.101Z"
   },
   {
    "duration": 9,
    "start_time": "2023-01-09T09:52:03.124Z"
   },
   {
    "duration": 1046,
    "start_time": "2023-01-09T09:52:03.134Z"
   },
   {
    "duration": 2310,
    "start_time": "2023-01-09T09:52:04.181Z"
   },
   {
    "duration": 117070,
    "start_time": "2023-01-09T09:52:06.493Z"
   },
   {
    "duration": 219756,
    "start_time": "2023-01-09T09:54:03.565Z"
   },
   {
    "duration": 7611627,
    "start_time": "2023-01-09T09:57:43.322Z"
   },
   {
    "duration": 5,
    "start_time": "2023-01-09T12:04:34.951Z"
   },
   {
    "duration": 1522765,
    "start_time": "2023-01-09T12:04:34.957Z"
   },
   {
    "duration": 305,
    "start_time": "2023-01-09T12:29:57.726Z"
   },
   {
    "duration": 10220,
    "start_time": "2023-01-09T12:29:58.033Z"
   },
   {
    "duration": 329,
    "start_time": "2023-01-09T12:30:08.255Z"
   },
   {
    "duration": 4,
    "start_time": "2023-01-09T12:30:08.586Z"
   },
   {
    "duration": 119,
    "start_time": "2023-01-09T12:30:08.591Z"
   },
   {
    "duration": 116,
    "start_time": "2023-01-09T12:30:08.711Z"
   },
   {
    "duration": 0,
    "start_time": "2023-01-09T12:30:08.829Z"
   },
   {
    "duration": 3,
    "start_time": "2023-01-09T12:49:33.880Z"
   },
   {
    "duration": 3,
    "start_time": "2023-01-09T12:54:08.230Z"
   },
   {
    "duration": 13,
    "start_time": "2023-01-09T12:56:29.237Z"
   },
   {
    "duration": 65,
    "start_time": "2023-01-09T15:29:01.250Z"
   },
   {
    "duration": 6785,
    "start_time": "2023-01-09T15:29:11.802Z"
   },
   {
    "duration": 1435,
    "start_time": "2023-01-09T15:29:33.026Z"
   },
   {
    "duration": 154,
    "start_time": "2023-01-09T15:29:38.103Z"
   },
   {
    "duration": 21,
    "start_time": "2023-01-09T15:29:38.992Z"
   },
   {
    "duration": 13,
    "start_time": "2023-01-09T15:29:39.674Z"
   },
   {
    "duration": 4,
    "start_time": "2023-01-09T15:29:41.285Z"
   },
   {
    "duration": 12,
    "start_time": "2023-01-09T15:29:41.767Z"
   },
   {
    "duration": 12,
    "start_time": "2023-01-09T15:29:43.209Z"
   },
   {
    "duration": 4,
    "start_time": "2023-01-09T15:29:44.594Z"
   },
   {
    "duration": 4,
    "start_time": "2023-01-09T15:29:45.958Z"
   },
   {
    "duration": 4,
    "start_time": "2023-01-09T15:29:46.654Z"
   },
   {
    "duration": 5,
    "start_time": "2023-01-09T15:29:47.718Z"
   },
   {
    "duration": 6,
    "start_time": "2023-01-09T15:29:48.191Z"
   },
   {
    "duration": 4,
    "start_time": "2023-01-09T15:29:49.758Z"
   },
   {
    "duration": 4,
    "start_time": "2023-01-09T15:29:50.216Z"
   },
   {
    "duration": 5,
    "start_time": "2023-01-09T15:29:50.678Z"
   },
   {
    "duration": 4,
    "start_time": "2023-01-09T15:29:51.152Z"
   },
   {
    "duration": 2,
    "start_time": "2023-01-09T15:29:53.476Z"
   },
   {
    "duration": 3,
    "start_time": "2023-01-09T15:29:53.983Z"
   },
   {
    "duration": 2,
    "start_time": "2023-01-09T15:29:54.323Z"
   },
   {
    "duration": 2,
    "start_time": "2023-01-09T15:29:56.218Z"
   },
   {
    "duration": 2,
    "start_time": "2023-01-09T15:29:56.780Z"
   },
   {
    "duration": 4,
    "start_time": "2023-01-09T15:29:59.438Z"
   },
   {
    "duration": 8,
    "start_time": "2023-01-09T15:30:00.950Z"
   },
   {
    "duration": 6,
    "start_time": "2023-01-09T15:30:38.428Z"
   },
   {
    "duration": 6,
    "start_time": "2023-01-09T15:30:38.750Z"
   },
   {
    "duration": 5,
    "start_time": "2023-01-09T15:30:39.058Z"
   },
   {
    "duration": 7,
    "start_time": "2023-01-09T15:30:39.374Z"
   },
   {
    "duration": 6,
    "start_time": "2023-01-09T15:30:40.705Z"
   },
   {
    "duration": 4,
    "start_time": "2023-01-09T15:30:41.451Z"
   },
   {
    "duration": 13,
    "start_time": "2023-01-09T15:30:41.672Z"
   },
   {
    "duration": 10,
    "start_time": "2023-01-09T15:30:42.120Z"
   },
   {
    "duration": 8,
    "start_time": "2023-01-09T15:30:42.338Z"
   },
   {
    "duration": 6,
    "start_time": "2023-01-09T15:30:42.819Z"
   },
   {
    "duration": 3,
    "start_time": "2023-01-09T15:30:43.008Z"
   },
   {
    "duration": 9,
    "start_time": "2023-01-09T15:30:43.236Z"
   },
   {
    "duration": 10,
    "start_time": "2023-01-09T15:30:43.464Z"
   },
   {
    "duration": 11,
    "start_time": "2023-01-09T15:30:43.691Z"
   },
   {
    "duration": 7,
    "start_time": "2023-01-09T15:30:43.923Z"
   },
   {
    "duration": 14,
    "start_time": "2023-01-09T15:30:44.137Z"
   },
   {
    "duration": 9,
    "start_time": "2023-01-09T15:30:44.358Z"
   },
   {
    "duration": 10,
    "start_time": "2023-01-09T15:30:44.585Z"
   },
   {
    "duration": 5,
    "start_time": "2023-01-09T15:30:45.469Z"
   },
   {
    "duration": 6,
    "start_time": "2023-01-09T15:30:45.667Z"
   },
   {
    "duration": 4828,
    "start_time": "2023-01-09T15:30:46.670Z"
   },
   {
    "duration": 4,
    "start_time": "2023-01-09T15:30:51.505Z"
   },
   {
    "duration": 464773,
    "start_time": "2023-01-09T15:30:51.511Z"
   },
   {
    "duration": 3,
    "start_time": "2023-01-09T15:38:36.287Z"
   },
   {
    "duration": 6261,
    "start_time": "2023-01-09T15:38:36.304Z"
   },
   {
    "duration": 4,
    "start_time": "2023-01-09T15:38:42.566Z"
   },
   {
    "duration": 7,
    "start_time": "2023-01-09T15:38:42.571Z"
   },
   {
    "duration": 25,
    "start_time": "2023-01-09T15:38:42.580Z"
   },
   {
    "duration": 4,
    "start_time": "2023-01-09T15:38:42.607Z"
   },
   {
    "duration": 12,
    "start_time": "2023-01-09T15:38:42.613Z"
   },
   {
    "duration": 45,
    "start_time": "2023-01-09T15:38:42.627Z"
   },
   {
    "duration": 30,
    "start_time": "2023-01-09T15:38:42.674Z"
   },
   {
    "duration": 2422,
    "start_time": "2023-01-09T15:38:42.707Z"
   },
   {
    "duration": 8185,
    "start_time": "2023-01-09T15:38:45.131Z"
   },
   {
    "duration": 241215,
    "start_time": "2023-01-09T15:38:53.318Z"
   },
   {
    "duration": 765661,
    "start_time": "2023-01-09T15:42:54.534Z"
   },
   {
    "duration": 2322,
    "start_time": "2023-01-09T17:23:35.783Z"
   },
   {
    "duration": 1326,
    "start_time": "2023-01-09T17:23:38.107Z"
   },
   {
    "duration": 2155,
    "start_time": "2023-01-09T18:41:53.441Z"
   },
   {
    "duration": 1246,
    "start_time": "2023-01-09T18:42:09.064Z"
   },
   {
    "duration": 40,
    "start_time": "2023-01-09T18:42:12.179Z"
   },
   {
    "duration": 21,
    "start_time": "2023-01-09T18:42:12.886Z"
   },
   {
    "duration": 13,
    "start_time": "2023-01-09T18:42:13.683Z"
   },
   {
    "duration": 4,
    "start_time": "2023-01-09T18:42:15.028Z"
   },
   {
    "duration": 11,
    "start_time": "2023-01-09T18:42:15.974Z"
   },
   {
    "duration": 13,
    "start_time": "2023-01-09T18:42:17.383Z"
   },
   {
    "duration": 5,
    "start_time": "2023-01-09T18:42:18.530Z"
   },
   {
    "duration": 4,
    "start_time": "2023-01-09T18:42:19.422Z"
   },
   {
    "duration": 4,
    "start_time": "2023-01-09T18:42:19.741Z"
   },
   {
    "duration": 7,
    "start_time": "2023-01-09T18:42:20.369Z"
   },
   {
    "duration": 6,
    "start_time": "2023-01-09T18:42:20.689Z"
   },
   {
    "duration": 5,
    "start_time": "2023-01-09T18:42:21.675Z"
   },
   {
    "duration": 4,
    "start_time": "2023-01-09T18:42:22.002Z"
   },
   {
    "duration": 5,
    "start_time": "2023-01-09T18:42:22.375Z"
   },
   {
    "duration": 5,
    "start_time": "2023-01-09T18:42:22.715Z"
   },
   {
    "duration": 5,
    "start_time": "2023-01-09T18:42:24.931Z"
   },
   {
    "duration": 2,
    "start_time": "2023-01-09T18:42:25.796Z"
   },
   {
    "duration": 3,
    "start_time": "2023-01-09T18:42:26.049Z"
   },
   {
    "duration": 2,
    "start_time": "2023-01-09T18:42:27.899Z"
   },
   {
    "duration": 3,
    "start_time": "2023-01-09T18:42:28.289Z"
   },
   {
    "duration": 5,
    "start_time": "2023-01-09T18:42:30.618Z"
   },
   {
    "duration": 7,
    "start_time": "2023-01-09T18:42:31.920Z"
   },
   {
    "duration": 6,
    "start_time": "2023-01-09T18:42:33.167Z"
   },
   {
    "duration": 7,
    "start_time": "2023-01-09T18:42:36.761Z"
   },
   {
    "duration": 7,
    "start_time": "2023-01-09T18:42:38.028Z"
   },
   {
    "duration": 4,
    "start_time": "2023-01-09T18:42:39.030Z"
   },
   {
    "duration": 127,
    "start_time": "2023-01-09T18:42:39.969Z"
   },
   {
    "duration": 4,
    "start_time": "2023-01-09T19:07:13.902Z"
   },
   {
    "duration": 6,
    "start_time": "2023-01-09T19:08:20.390Z"
   },
   {
    "duration": 4,
    "start_time": "2023-01-09T19:08:21.839Z"
   },
   {
    "duration": 13,
    "start_time": "2023-01-09T19:08:23.874Z"
   },
   {
    "duration": 5,
    "start_time": "2023-01-09T19:08:44.586Z"
   },
   {
    "duration": 13,
    "start_time": "2023-01-09T19:08:55.697Z"
   },
   {
    "duration": 6,
    "start_time": "2023-01-09T19:09:22.607Z"
   },
   {
    "duration": 6,
    "start_time": "2023-01-09T19:09:23.112Z"
   },
   {
    "duration": 6,
    "start_time": "2023-01-09T19:09:23.452Z"
   },
   {
    "duration": 4,
    "start_time": "2023-01-09T19:09:24.510Z"
   },
   {
    "duration": 5,
    "start_time": "2023-01-09T19:10:20.555Z"
   },
   {
    "duration": 6,
    "start_time": "2023-01-09T19:10:30.412Z"
   },
   {
    "duration": 4,
    "start_time": "2023-01-09T19:10:32.906Z"
   },
   {
    "duration": 8,
    "start_time": "2023-01-09T19:10:41.152Z"
   },
   {
    "duration": 9,
    "start_time": "2023-01-09T19:11:14.480Z"
   },
   {
    "duration": 10,
    "start_time": "2023-01-09T19:11:15.380Z"
   },
   {
    "duration": 20,
    "start_time": "2023-01-09T19:11:25.782Z"
   },
   {
    "duration": 6,
    "start_time": "2023-01-09T19:11:30.416Z"
   },
   {
    "duration": 6,
    "start_time": "2023-01-09T19:11:30.541Z"
   },
   {
    "duration": 5,
    "start_time": "2023-01-09T19:11:30.651Z"
   },
   {
    "duration": 5,
    "start_time": "2023-01-09T19:11:31.268Z"
   },
   {
    "duration": 10,
    "start_time": "2023-01-09T19:11:31.648Z"
   },
   {
    "duration": 10,
    "start_time": "2023-01-09T19:11:32.767Z"
   },
   {
    "duration": 10,
    "start_time": "2023-01-09T19:11:32.899Z"
   },
   {
    "duration": 7,
    "start_time": "2023-01-09T19:11:37.147Z"
   },
   {
    "duration": 3,
    "start_time": "2023-01-09T19:11:38.216Z"
   },
   {
    "duration": 9,
    "start_time": "2023-01-09T19:11:38.520Z"
   },
   {
    "duration": 8,
    "start_time": "2023-01-09T19:11:38.685Z"
   },
   {
    "duration": 9,
    "start_time": "2023-01-09T19:11:38.838Z"
   },
   {
    "duration": 8,
    "start_time": "2023-01-09T19:11:38.998Z"
   },
   {
    "duration": 9,
    "start_time": "2023-01-09T19:11:39.125Z"
   },
   {
    "duration": 8,
    "start_time": "2023-01-09T19:11:39.265Z"
   },
   {
    "duration": 10,
    "start_time": "2023-01-09T19:11:39.417Z"
   },
   {
    "duration": 5,
    "start_time": "2023-01-09T19:11:43.922Z"
   },
   {
    "duration": 7,
    "start_time": "2023-01-09T19:11:44.140Z"
   },
   {
    "duration": 2350,
    "start_time": "2023-01-09T19:11:46.903Z"
   },
   {
    "duration": 3,
    "start_time": "2023-01-09T19:11:49.255Z"
   },
   {
    "duration": 6,
    "start_time": "2023-01-09T19:16:26.446Z"
   },
   {
    "duration": 6,
    "start_time": "2023-01-09T19:16:35.850Z"
   },
   {
    "duration": 9,
    "start_time": "2023-01-09T19:16:55.376Z"
   },
   {
    "duration": 11,
    "start_time": "2023-01-09T19:16:57.623Z"
   },
   {
    "duration": 4,
    "start_time": "2023-01-09T19:20:10.993Z"
   },
   {
    "duration": 90677,
    "start_time": "2023-01-09T19:20:14.911Z"
   },
   {
    "duration": 0,
    "start_time": "2023-01-09T19:21:45.590Z"
   },
   {
    "duration": 0,
    "start_time": "2023-01-09T19:21:45.591Z"
   },
   {
    "duration": 1,
    "start_time": "2023-01-09T19:21:45.591Z"
   },
   {
    "duration": 0,
    "start_time": "2023-01-09T19:21:45.605Z"
   },
   {
    "duration": 0,
    "start_time": "2023-01-09T19:21:45.606Z"
   },
   {
    "duration": 1,
    "start_time": "2023-01-09T19:21:45.607Z"
   },
   {
    "duration": 0,
    "start_time": "2023-01-09T19:21:45.609Z"
   },
   {
    "duration": 0,
    "start_time": "2023-01-09T19:21:45.610Z"
   },
   {
    "duration": 0,
    "start_time": "2023-01-09T19:21:45.611Z"
   },
   {
    "duration": 0,
    "start_time": "2023-01-09T19:21:45.612Z"
   },
   {
    "duration": 0,
    "start_time": "2023-01-09T19:21:45.613Z"
   },
   {
    "duration": 886,
    "start_time": "2023-01-09T19:23:01.413Z"
   },
   {
    "duration": 57522,
    "start_time": "2023-01-09T19:25:01.049Z"
   },
   {
    "duration": 0,
    "start_time": "2023-01-09T19:25:58.573Z"
   },
   {
    "duration": 5375,
    "start_time": "2023-01-09T19:26:31.877Z"
   },
   {
    "duration": 65579,
    "start_time": "2023-01-09T19:26:39.678Z"
   },
   {
    "duration": 39278,
    "start_time": "2023-01-09T19:27:52.577Z"
   },
   {
    "duration": 3941,
    "start_time": "2023-01-09T19:28:41.267Z"
   },
   {
    "duration": 18,
    "start_time": "2023-01-09T19:29:03.094Z"
   },
   {
    "duration": 9,
    "start_time": "2023-01-09T19:29:03.714Z"
   },
   {
    "duration": 547,
    "start_time": "2023-01-09T19:29:12.643Z"
   },
   {
    "duration": 1338,
    "start_time": "2023-01-09T19:29:35.057Z"
   },
   {
    "duration": 26541,
    "start_time": "2023-01-09T19:29:41.688Z"
   },
   {
    "duration": 56707,
    "start_time": "2023-01-09T19:30:08.231Z"
   },
   {
    "duration": 1170033,
    "start_time": "2023-01-09T19:31:12.687Z"
   },
   {
    "duration": 550092,
    "start_time": "2023-01-09T19:50:42.721Z"
   },
   {
    "duration": 3736,
    "start_time": "2023-01-09T20:24:26.975Z"
   },
   {
    "duration": 5454,
    "start_time": "2023-01-09T20:24:30.714Z"
   },
   {
    "duration": 77,
    "start_time": "2023-01-09T20:28:33.045Z"
   },
   {
    "duration": 24,
    "start_time": "2023-01-09T20:36:43.730Z"
   },
   {
    "duration": 8,
    "start_time": "2023-01-09T20:36:47.315Z"
   },
   {
    "duration": 126,
    "start_time": "2023-01-09T20:36:51.449Z"
   },
   {
    "duration": 5,
    "start_time": "2023-01-09T20:37:01.479Z"
   },
   {
    "duration": 3,
    "start_time": "2023-01-09T20:37:05.038Z"
   },
   {
    "duration": 26,
    "start_time": "2023-01-09T20:39:46.345Z"
   },
   {
    "duration": 42,
    "start_time": "2023-01-09T20:40:01.020Z"
   },
   {
    "duration": 6,
    "start_time": "2023-01-09T20:40:02.320Z"
   },
   {
    "duration": 115,
    "start_time": "2023-01-09T20:40:04.171Z"
   },
   {
    "duration": 51,
    "start_time": "2023-01-09T20:40:09.971Z"
   },
   {
    "duration": 9,
    "start_time": "2023-01-09T20:40:10.302Z"
   },
   {
    "duration": 129,
    "start_time": "2023-01-09T20:40:11.136Z"
   },
   {
    "duration": 7,
    "start_time": "2023-01-09T20:40:21.418Z"
   },
   {
    "duration": 40,
    "start_time": "2023-01-09T20:42:33.488Z"
   },
   {
    "duration": 5,
    "start_time": "2023-01-09T20:42:34.274Z"
   },
   {
    "duration": 136,
    "start_time": "2023-01-09T20:42:34.698Z"
   },
   {
    "duration": 6,
    "start_time": "2023-01-09T20:42:35.640Z"
   },
   {
    "duration": 3,
    "start_time": "2023-01-09T20:42:36.725Z"
   },
   {
    "duration": 5,
    "start_time": "2023-01-09T20:42:37.343Z"
   },
   {
    "duration": 165,
    "start_time": "2023-01-09T20:43:27.577Z"
   },
   {
    "duration": 5,
    "start_time": "2023-01-09T20:43:28.446Z"
   },
   {
    "duration": 122,
    "start_time": "2023-01-09T20:43:29.095Z"
   },
   {
    "duration": 5,
    "start_time": "2023-01-09T20:43:30.647Z"
   },
   {
    "duration": 3,
    "start_time": "2023-01-09T20:43:32.391Z"
   },
   {
    "duration": 6,
    "start_time": "2023-01-09T20:43:33.337Z"
   },
   {
    "duration": 1686313,
    "start_time": "2023-01-09T20:44:43.919Z"
   },
   {
    "duration": 1607534,
    "start_time": "2023-01-09T21:19:40.319Z"
   },
   {
    "duration": 37,
    "start_time": "2023-01-09T21:49:16.737Z"
   },
   {
    "duration": 4,
    "start_time": "2023-01-09T21:49:17.258Z"
   },
   {
    "duration": 122,
    "start_time": "2023-01-09T21:49:17.629Z"
   },
   {
    "duration": 6,
    "start_time": "2023-01-09T21:49:18.230Z"
   },
   {
    "duration": 4,
    "start_time": "2023-01-09T21:49:19.143Z"
   },
   {
    "duration": 7,
    "start_time": "2023-01-09T21:49:19.556Z"
   },
   {
    "duration": 6907,
    "start_time": "2023-01-10T13:48:26.624Z"
   },
   {
    "duration": 1316,
    "start_time": "2023-01-10T13:48:33.534Z"
   },
   {
    "duration": 46,
    "start_time": "2023-01-10T13:48:34.854Z"
   },
   {
    "duration": 18,
    "start_time": "2023-01-10T13:48:34.902Z"
   },
   {
    "duration": 28,
    "start_time": "2023-01-10T13:48:34.922Z"
   },
   {
    "duration": 8,
    "start_time": "2023-01-10T13:48:34.952Z"
   },
   {
    "duration": 17,
    "start_time": "2023-01-10T13:48:34.962Z"
   },
   {
    "duration": 12,
    "start_time": "2023-01-10T13:48:34.981Z"
   },
   {
    "duration": 14,
    "start_time": "2023-01-10T13:48:34.995Z"
   },
   {
    "duration": 47,
    "start_time": "2023-01-10T13:48:35.012Z"
   },
   {
    "duration": 19,
    "start_time": "2023-01-10T13:48:35.061Z"
   },
   {
    "duration": 44,
    "start_time": "2023-01-10T13:48:35.081Z"
   },
   {
    "duration": 42,
    "start_time": "2023-01-10T13:48:35.127Z"
   },
   {
    "duration": 31,
    "start_time": "2023-01-10T13:48:35.170Z"
   },
   {
    "duration": 28,
    "start_time": "2023-01-10T13:48:35.203Z"
   },
   {
    "duration": 21,
    "start_time": "2023-01-10T13:48:35.233Z"
   },
   {
    "duration": 12,
    "start_time": "2023-01-10T13:48:35.256Z"
   },
   {
    "duration": 18,
    "start_time": "2023-01-10T13:48:35.270Z"
   },
   {
    "duration": 6,
    "start_time": "2023-01-10T13:48:35.290Z"
   },
   {
    "duration": 30,
    "start_time": "2023-01-10T13:48:35.298Z"
   },
   {
    "duration": 16,
    "start_time": "2023-01-10T13:48:35.330Z"
   },
   {
    "duration": 14,
    "start_time": "2023-01-10T13:48:35.347Z"
   },
   {
    "duration": 19,
    "start_time": "2023-01-10T13:48:35.362Z"
   },
   {
    "duration": 17,
    "start_time": "2023-01-10T13:48:35.383Z"
   },
   {
    "duration": 20,
    "start_time": "2023-01-10T13:48:35.401Z"
   },
   {
    "duration": 9,
    "start_time": "2023-01-10T13:48:35.423Z"
   },
   {
    "duration": 28,
    "start_time": "2023-01-10T13:48:35.434Z"
   },
   {
    "duration": 37,
    "start_time": "2023-01-10T13:48:35.466Z"
   },
   {
    "duration": 17,
    "start_time": "2023-01-10T13:48:35.505Z"
   },
   {
    "duration": 11,
    "start_time": "2023-01-10T13:48:35.524Z"
   },
   {
    "duration": 17,
    "start_time": "2023-01-10T13:48:35.536Z"
   },
   {
    "duration": 11,
    "start_time": "2023-01-10T13:48:35.555Z"
   },
   {
    "duration": 38,
    "start_time": "2023-01-10T13:48:35.568Z"
   },
   {
    "duration": 38,
    "start_time": "2023-01-10T13:48:35.608Z"
   },
   {
    "duration": 20,
    "start_time": "2023-01-10T13:48:35.647Z"
   },
   {
    "duration": 15,
    "start_time": "2023-01-10T13:48:35.668Z"
   },
   {
    "duration": 16,
    "start_time": "2023-01-10T13:48:35.685Z"
   },
   {
    "duration": 21,
    "start_time": "2023-01-10T13:48:35.703Z"
   },
   {
    "duration": 25,
    "start_time": "2023-01-10T13:48:35.726Z"
   },
   {
    "duration": 7,
    "start_time": "2023-01-10T13:48:35.753Z"
   },
   {
    "duration": 37,
    "start_time": "2023-01-10T13:48:35.762Z"
   },
   {
    "duration": 964,
    "start_time": "2023-01-10T13:48:35.801Z"
   },
   {
    "duration": 40898,
    "start_time": "2023-01-10T13:48:36.766Z"
   },
   {
    "duration": 4294,
    "start_time": "2023-01-10T13:49:17.666Z"
   },
   {
    "duration": 4,
    "start_time": "2023-01-10T13:49:21.961Z"
   },
   {
    "duration": 16,
    "start_time": "2023-01-10T13:49:21.967Z"
   },
   {
    "duration": 4,
    "start_time": "2023-01-10T13:49:21.985Z"
   },
   {
    "duration": 12,
    "start_time": "2023-01-10T13:49:21.991Z"
   },
   {
    "duration": 50,
    "start_time": "2023-01-10T13:49:22.005Z"
   },
   {
    "duration": 11,
    "start_time": "2023-01-10T13:49:22.057Z"
   },
   {
    "duration": 591,
    "start_time": "2023-01-10T13:49:22.070Z"
   },
   {
    "duration": 1483,
    "start_time": "2023-01-10T13:49:22.664Z"
   },
   {
    "duration": 27359,
    "start_time": "2023-01-10T13:49:24.149Z"
   },
   {
    "duration": 59988,
    "start_time": "2023-01-10T13:49:51.510Z"
   },
   {
    "duration": 1240234,
    "start_time": "2023-01-10T13:50:51.500Z"
   },
   {
    "duration": 1849892,
    "start_time": "2023-01-10T14:11:31.736Z"
   },
   {
    "duration": 9134,
    "start_time": "2023-01-10T14:42:21.630Z"
   },
   {
    "duration": 9455,
    "start_time": "2023-01-10T14:42:30.768Z"
   },
   {
    "duration": 56,
    "start_time": "2023-01-10T14:42:40.225Z"
   },
   {
    "duration": 5,
    "start_time": "2023-01-10T14:42:40.283Z"
   },
   {
    "duration": 171,
    "start_time": "2023-01-10T14:42:40.290Z"
   },
   {
    "duration": 11,
    "start_time": "2023-01-10T14:42:40.462Z"
   },
   {
    "duration": 13,
    "start_time": "2023-01-10T14:42:40.475Z"
   },
   {
    "duration": 11,
    "start_time": "2023-01-10T14:42:40.490Z"
   },
   {
    "duration": 4,
    "start_time": "2023-01-10T15:12:56.053Z"
   },
   {
    "duration": 57,
    "start_time": "2023-01-10T18:17:52.521Z"
   },
   {
    "duration": 6,
    "start_time": "2023-01-10T18:17:52.736Z"
   },
   {
    "duration": 11956,
    "start_time": "2023-01-10T18:18:03.504Z"
   },
   {
    "duration": 1543,
    "start_time": "2023-01-10T18:18:15.462Z"
   },
   {
    "duration": 89,
    "start_time": "2023-01-10T18:18:17.007Z"
   },
   {
    "duration": 18,
    "start_time": "2023-01-10T18:18:17.099Z"
   },
   {
    "duration": 13,
    "start_time": "2023-01-10T18:18:17.119Z"
   },
   {
    "duration": 13,
    "start_time": "2023-01-10T18:18:17.134Z"
   },
   {
    "duration": 26,
    "start_time": "2023-01-10T18:18:17.149Z"
   },
   {
    "duration": 11,
    "start_time": "2023-01-10T18:18:17.177Z"
   },
   {
    "duration": 9,
    "start_time": "2023-01-10T18:18:17.190Z"
   },
   {
    "duration": 5,
    "start_time": "2023-01-10T18:18:17.201Z"
   },
   {
    "duration": 17,
    "start_time": "2023-01-10T18:18:17.208Z"
   },
   {
    "duration": 6,
    "start_time": "2023-01-10T18:18:18.396Z"
   },
   {
    "duration": 5,
    "start_time": "2023-01-10T18:18:18.829Z"
   },
   {
    "duration": 4,
    "start_time": "2023-01-10T18:18:20.257Z"
   },
   {
    "duration": 4,
    "start_time": "2023-01-10T18:18:20.471Z"
   },
   {
    "duration": 4,
    "start_time": "2023-01-10T18:18:20.690Z"
   },
   {
    "duration": 4,
    "start_time": "2023-01-10T18:18:20.892Z"
   },
   {
    "duration": 2,
    "start_time": "2023-01-10T18:18:23.269Z"
   },
   {
    "duration": 3,
    "start_time": "2023-01-10T18:18:23.434Z"
   },
   {
    "duration": 3,
    "start_time": "2023-01-10T18:18:23.601Z"
   },
   {
    "duration": 2,
    "start_time": "2023-01-10T18:18:25.745Z"
   },
   {
    "duration": 2,
    "start_time": "2023-01-10T18:18:26.998Z"
   },
   {
    "duration": 5,
    "start_time": "2023-01-10T18:18:31.070Z"
   },
   {
    "duration": 6,
    "start_time": "2023-01-10T18:18:31.590Z"
   },
   {
    "duration": 6,
    "start_time": "2023-01-10T18:18:31.958Z"
   },
   {
    "duration": 6,
    "start_time": "2023-01-10T18:18:33.077Z"
   },
   {
    "duration": 6,
    "start_time": "2023-01-10T18:18:37.021Z"
   },
   {
    "duration": 13,
    "start_time": "2023-01-10T18:18:40.698Z"
   },
   {
    "duration": 8,
    "start_time": "2023-01-10T18:18:45.920Z"
   },
   {
    "duration": 7,
    "start_time": "2023-01-10T18:18:46.567Z"
   },
   {
    "duration": 7,
    "start_time": "2023-01-10T18:18:48.458Z"
   },
   {
    "duration": 3,
    "start_time": "2023-01-10T18:18:49.965Z"
   },
   {
    "duration": 8,
    "start_time": "2023-01-10T18:18:50.931Z"
   },
   {
    "duration": 10,
    "start_time": "2023-01-10T18:18:51.108Z"
   },
   {
    "duration": 12,
    "start_time": "2023-01-10T18:18:51.265Z"
   },
   {
    "duration": 8,
    "start_time": "2023-01-10T18:18:51.397Z"
   },
   {
    "duration": 9,
    "start_time": "2023-01-10T18:18:51.470Z"
   },
   {
    "duration": 8,
    "start_time": "2023-01-10T18:18:51.627Z"
   },
   {
    "duration": 11,
    "start_time": "2023-01-10T18:18:51.791Z"
   },
   {
    "duration": 8,
    "start_time": "2023-01-10T18:18:54.218Z"
   },
   {
    "duration": 6,
    "start_time": "2023-01-10T18:18:54.404Z"
   },
   {
    "duration": 1849,
    "start_time": "2023-01-10T18:19:00.940Z"
   },
   {
    "duration": 72157,
    "start_time": "2023-01-10T18:19:44.110Z"
   },
   {
    "duration": 8302,
    "start_time": "2023-01-10T18:20:56.269Z"
   },
   {
    "duration": 4,
    "start_time": "2023-01-10T18:21:04.573Z"
   },
   {
    "duration": 31,
    "start_time": "2023-01-10T18:21:04.578Z"
   },
   {
    "duration": 56,
    "start_time": "2023-01-10T18:21:04.610Z"
   },
   {
    "duration": 33,
    "start_time": "2023-01-10T18:21:04.668Z"
   },
   {
    "duration": 46,
    "start_time": "2023-01-10T18:21:04.703Z"
   },
   {
    "duration": 10,
    "start_time": "2023-01-10T18:21:04.750Z"
   },
   {
    "duration": 965,
    "start_time": "2023-01-10T18:21:04.761Z"
   },
   {
    "duration": 3321,
    "start_time": "2023-01-10T18:21:05.729Z"
   },
   {
    "duration": 39826,
    "start_time": "2023-01-10T18:21:09.052Z"
   },
   {
    "duration": 127629,
    "start_time": "2023-01-10T18:21:48.880Z"
   },
   {
    "duration": 2282839,
    "start_time": "2023-01-10T18:23:56.510Z"
   },
   {
    "duration": 2776824,
    "start_time": "2023-01-10T19:01:59.351Z"
   },
   {
    "duration": 12270,
    "start_time": "2023-01-10T19:48:16.177Z"
   },
   {
    "duration": 14918,
    "start_time": "2023-01-10T19:48:28.449Z"
   },
   {
    "duration": 23,
    "start_time": "2023-01-10T19:48:43.369Z"
   },
   {
    "duration": 5,
    "start_time": "2023-01-10T19:48:43.394Z"
   },
   {
    "duration": 188,
    "start_time": "2023-01-10T19:48:43.401Z"
   },
   {
    "duration": 6,
    "start_time": "2023-01-10T19:48:43.591Z"
   },
   {
    "duration": 6,
    "start_time": "2023-01-10T19:48:43.600Z"
   },
   {
    "duration": 10,
    "start_time": "2023-01-10T19:48:43.608Z"
   },
   {
    "duration": 102,
    "start_time": "2023-01-10T20:00:22.794Z"
   },
   {
    "duration": 4,
    "start_time": "2023-01-10T20:00:24.455Z"
   },
   {
    "duration": 121,
    "start_time": "2023-01-10T20:00:26.429Z"
   },
   {
    "duration": 5,
    "start_time": "2023-01-10T20:00:27.737Z"
   },
   {
    "duration": 3,
    "start_time": "2023-01-10T20:00:30.169Z"
   },
   {
    "duration": 5,
    "start_time": "2023-01-10T20:00:30.881Z"
   },
   {
    "duration": 7703,
    "start_time": "2023-01-11T13:07:28.153Z"
   },
   {
    "duration": 1386,
    "start_time": "2023-01-11T13:07:35.859Z"
   },
   {
    "duration": 168,
    "start_time": "2023-01-11T13:07:37.246Z"
   },
   {
    "duration": 19,
    "start_time": "2023-01-11T13:07:37.417Z"
   },
   {
    "duration": 44,
    "start_time": "2023-01-11T13:07:37.438Z"
   },
   {
    "duration": 35,
    "start_time": "2023-01-11T13:07:37.484Z"
   },
   {
    "duration": 51,
    "start_time": "2023-01-11T13:07:37.521Z"
   },
   {
    "duration": 60,
    "start_time": "2023-01-11T13:07:37.574Z"
   },
   {
    "duration": 34,
    "start_time": "2023-01-11T13:07:37.636Z"
   },
   {
    "duration": 31,
    "start_time": "2023-01-11T13:07:37.673Z"
   },
   {
    "duration": 37,
    "start_time": "2023-01-11T13:07:37.705Z"
   },
   {
    "duration": 28,
    "start_time": "2023-01-11T13:07:37.744Z"
   },
   {
    "duration": 48,
    "start_time": "2023-01-11T13:07:37.774Z"
   },
   {
    "duration": 62,
    "start_time": "2023-01-11T13:07:37.825Z"
   },
   {
    "duration": 40,
    "start_time": "2023-01-11T13:07:37.888Z"
   },
   {
    "duration": 35,
    "start_time": "2023-01-11T13:07:37.930Z"
   },
   {
    "duration": 29,
    "start_time": "2023-01-11T13:07:37.967Z"
   },
   {
    "duration": 43,
    "start_time": "2023-01-11T13:07:37.998Z"
   },
   {
    "duration": 22,
    "start_time": "2023-01-11T13:07:38.043Z"
   },
   {
    "duration": 46,
    "start_time": "2023-01-11T13:07:38.067Z"
   },
   {
    "duration": 24,
    "start_time": "2023-01-11T13:07:38.115Z"
   },
   {
    "duration": 40,
    "start_time": "2023-01-11T13:07:38.141Z"
   },
   {
    "duration": 44,
    "start_time": "2023-01-11T13:07:38.183Z"
   },
   {
    "duration": 31,
    "start_time": "2023-01-11T13:07:38.228Z"
   },
   {
    "duration": 24,
    "start_time": "2023-01-11T13:07:38.261Z"
   },
   {
    "duration": 29,
    "start_time": "2023-01-11T13:07:38.287Z"
   },
   {
    "duration": 39,
    "start_time": "2023-01-11T13:07:38.317Z"
   },
   {
    "duration": 34,
    "start_time": "2023-01-11T13:07:38.361Z"
   },
   {
    "duration": 20,
    "start_time": "2023-01-11T13:07:38.397Z"
   },
   {
    "duration": 37,
    "start_time": "2023-01-11T13:07:38.419Z"
   },
   {
    "duration": 25,
    "start_time": "2023-01-11T13:07:38.458Z"
   },
   {
    "duration": 34,
    "start_time": "2023-01-11T13:07:38.484Z"
   },
   {
    "duration": 45,
    "start_time": "2023-01-11T13:07:38.519Z"
   },
   {
    "duration": 34,
    "start_time": "2023-01-11T13:07:38.566Z"
   },
   {
    "duration": 26,
    "start_time": "2023-01-11T13:07:38.602Z"
   },
   {
    "duration": 16,
    "start_time": "2023-01-11T13:07:38.631Z"
   },
   {
    "duration": 23,
    "start_time": "2023-01-11T13:07:38.649Z"
   },
   {
    "duration": 21,
    "start_time": "2023-01-11T13:07:38.673Z"
   },
   {
    "duration": 15,
    "start_time": "2023-01-11T13:07:38.696Z"
   },
   {
    "duration": 30,
    "start_time": "2023-01-11T13:07:38.713Z"
   },
   {
    "duration": 9,
    "start_time": "2023-01-11T13:07:38.744Z"
   },
   {
    "duration": 1893,
    "start_time": "2023-01-11T13:07:38.755Z"
   },
   {
    "duration": 77062,
    "start_time": "2023-01-11T13:07:40.650Z"
   },
   {
    "duration": 10664,
    "start_time": "2023-01-11T13:08:57.713Z"
   },
   {
    "duration": 4,
    "start_time": "2023-01-11T13:09:08.379Z"
   },
   {
    "duration": 58,
    "start_time": "2023-01-11T13:09:08.384Z"
   },
   {
    "duration": 48,
    "start_time": "2023-01-11T13:09:08.444Z"
   },
   {
    "duration": 71,
    "start_time": "2023-01-11T13:09:08.494Z"
   },
   {
    "duration": 66,
    "start_time": "2023-01-11T13:09:08.567Z"
   },
   {
    "duration": 26,
    "start_time": "2023-01-11T13:09:08.635Z"
   },
   {
    "duration": 1026,
    "start_time": "2023-01-11T13:09:08.663Z"
   },
   {
    "duration": 3214,
    "start_time": "2023-01-11T13:09:09.691Z"
   },
   {
    "duration": 42377,
    "start_time": "2023-01-11T13:09:12.907Z"
   },
   {
    "duration": 130319,
    "start_time": "2023-01-11T13:09:55.286Z"
   },
   {
    "duration": 2415431,
    "start_time": "2023-01-11T13:12:05.607Z"
   },
   {
    "duration": 6287498,
    "start_time": "2023-01-11T13:52:21.040Z"
   },
   {
    "duration": 5005,
    "start_time": "2023-01-11T15:37:08.540Z"
   },
   {
    "duration": 7438,
    "start_time": "2023-01-11T15:37:13.547Z"
   },
   {
    "duration": 118,
    "start_time": "2023-01-11T15:37:20.987Z"
   },
   {
    "duration": 346,
    "start_time": "2023-01-11T15:37:21.107Z"
   },
   {
    "duration": 373,
    "start_time": "2023-01-11T15:37:21.458Z"
   },
   {
    "duration": 8,
    "start_time": "2023-01-11T15:37:21.833Z"
   },
   {
    "duration": 18,
    "start_time": "2023-01-11T15:37:21.843Z"
   },
   {
    "duration": 43,
    "start_time": "2023-01-11T15:37:21.863Z"
   },
   {
    "duration": 123,
    "start_time": "2023-01-11T15:45:30.215Z"
   },
   {
    "duration": 3,
    "start_time": "2023-01-11T15:45:38.073Z"
   }
  ],
  "kernelspec": {
   "display_name": "Python 3 (ipykernel)",
   "language": "python",
   "name": "python3"
  },
  "language_info": {
   "codemirror_mode": {
    "name": "ipython",
    "version": 3
   },
   "file_extension": ".py",
   "mimetype": "text/x-python",
   "name": "python",
   "nbconvert_exporter": "python",
   "pygments_lexer": "ipython3",
   "version": "3.9.5"
  },
  "toc": {
   "base_numbering": 1,
   "nav_menu": {},
   "number_sections": true,
   "sideBar": true,
   "skip_h1_title": true,
   "title_cell": "Содержание",
   "title_sidebar": "Contents",
   "toc_cell": true,
   "toc_position": {
    "height": "calc(100% - 180px)",
    "left": "10px",
    "top": "150px",
    "width": "165px"
   },
   "toc_section_display": true,
   "toc_window_display": true
  }
 },
 "nbformat": 4,
 "nbformat_minor": 2
}
